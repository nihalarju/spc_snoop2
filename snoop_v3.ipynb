{
 "cells": [
  {
   "cell_type": "code",
   "execution_count": 1,
   "metadata": {},
   "outputs": [],
   "source": [
    "import time\n",
    "start =  time.time()"
   ]
  },
  {
   "cell_type": "code",
   "execution_count": 3,
   "metadata": {},
   "outputs": [],
   "source": [
    "import time\n",
    "import pandas as pd\n",
    "import numpy as np\n",
    "from scipy import interpolate\n",
    "import matplotlib.pyplot as plt\n",
    "import PyUber\n",
    "from datetime import datetime, timedelta\n",
    "import glob\n",
    "import os\n",
    "\n",
    "start =  time.time()\n",
    "\n",
    "def main():\n",
    "    spices = SQL_DataFrame(sql)\n",
    "    spices.to_csv('spices.csv', index=False)\n",
    "    \n",
    "def convert_to_date(df, column1='MEAS_SET_DATA_COLLECT_DATE', column2='LOT_DATA_COLLECT_DATE', \\\n",
    "                    column3='CURRENT_MOVEIN_DATE', column4='END_DATE'):\n",
    "    if column1 in df.columns:\n",
    "        df[column1] = pd.to_datetime(df[column1])\n",
    "    if column2 in df.columns:\n",
    "        df[column2] = pd.to_datetime(df[column2])\n",
    "    if column3 in df.columns:\n",
    "        df[column3] = pd.to_datetime(df[column3])\n",
    "    if column4 in df.columns:\n",
    "        df[column4] = pd.to_datetime(df[column4])\n",
    "    return df\n",
    "\n",
    "def SQL_DataFrame(sql, source='D1D_PROD_XEUS'):\n",
    "    conn = PyUber.connect(source)\n",
    "    df = pd.read_sql(sql, conn)\n",
    "    return df\n",
    "\n",
    "sql=\"\"\"\n",
    "SELECT  DISTINCT \n",
    "          a1.entity AS entity\n",
    "         ,a5.value AS chart_value\n",
    "         ,To_Char(a0.data_collection_time,'yyyy-mm-dd hh24:mi:ss') AS lot_data_collect_date\n",
    "         ,a3.measurement_set_name AS measurement_set_name\n",
    "         ,To_Char(a3.data_collection_time,'yyyy-mm-dd hh24:mi:ss') AS meas_set_data_collect_date\n",
    "         ,a2.monitor_type AS monitor_type\n",
    "         ,a3.parameter_class AS parameter_class\n",
    "         ,a2.monitor_set_name AS monitor_set_name\n",
    "         ,a0.lotoperkey AS lotoperkey\n",
    "         ,a5.incontrol_flag AS incontrol_flag\n",
    "         ,a5.standard_flag AS chart_pt_standard_flag\n",
    "         ,a10.centerline AS centerline\n",
    "         ,a10.lo_control_lmt AS lo_control_lmt\n",
    "         ,a10.up_control_lmt AS up_control_lmt\n",
    "         ,a5.chart_type AS chart_type\n",
    "         ,a5.spc_chart_subset AS spc_chart_subset\n",
    "         ,a2.test_name AS test_name\n",
    "         ,a3.parameter_header AS parameter_header\n",
    "         ,a2.module AS module\n",
    "FROM \n",
    "P_SPC_MEASUREMENT_SET a3\n",
    "INNER JOIN P_SPC_SESSION a2 ON a2.spcs_id = a3.spcs_id\n",
    "LEFT JOIN P_SPC_LOT a0 ON a0.spcs_id = a2.spcs_id\n",
    "INNER JOIN P_SPC_ENTITY a1 ON a2.spcs_id = a1.spcs_id AND a1.entity_sequence=1\n",
    "LEFT JOIN P_SPC_CHART_POINT a5 ON a5.spcs_id = a3.spcs_id AND a5.measurement_set_name = a3.measurement_set_name\n",
    "LEFT JOIN P_SPC_CHART_LIMIT a10 ON a10.chart_id = a5.chart_id AND a10.limit_id = a5.limit_id\n",
    "WHERE\n",
    "              (a1.entity LIKE 'LAT%' \n",
    "              OR a1.entity LIKE 'PAT%')\n",
    " AND      a5.value Is Not Null  \n",
    " AND      a3.data_collection_time >= TRUNC(SYSDATE) - {} \n",
    " AND      a3.data_collection_time <= TRUNC(SYSDATE) - {} \n",
    " AND      a2.monitor_type = 'TOOL MONITOR' \n",
    " AND      a3.parameter_class = 'DEFECT_PARTICLE' \n",
    " AND      a5.spc_chart_subset = 'PARTICLE_SIZE=TOTAL_ADDERS'\n",
    "\"\"\"\n",
    "\n",
    "sql2= '''SELECT \n",
    "          e.entity AS entity\n",
    "         ,ea.attribute_value AS attribute_value\n",
    "         ,e.ceid AS ceid\n",
    "         ,ea.attribute_name AS attribute_name\n",
    "         ,e.rev_module AS rev_module\n",
    "FROM \n",
    "F_ENTITY e\n",
    "LEFT JOIN F_ENTITYATTRIBUTE ea ON ea.entity = e.entity AND ea.history_deleted_flag='N'\n",
    "WHERE\n",
    "              (e.entity Like 'LAT%' \n",
    "              OR e.entity Like 'PAT%')\n",
    " AND      ea.attribute_name Like 'PM_Counter' \n",
    "ORDER BY\n",
    "           1 Asc'''\n",
    "\n",
    "\n",
    "# AND      \n",
    "\n",
    "#if __name__ == \"__main__\": main()"
   ]
  },
  {
   "cell_type": "markdown",
   "metadata": {},
   "source": [
    "# SAVE DATA IN BULK\n",
    "DEPRECATED: NOW I LIKE ONE LARGE FILE"
   ]
  },
  {
   "cell_type": "code",
   "execution_count": 4,
   "metadata": {},
   "outputs": [
    {
     "name": "stdout",
     "output_type": "stream",
     "text": [
      "done in:  292.5599265098572\n"
     ]
    }
   ],
   "source": [
    "#pasts = [210,  270, 300, 330, 360, 390, 420, 450]\n",
    "pasts = [0]\n",
    "\n",
    "start =  time.time()\n",
    "\n",
    "for past in pasts:\n",
    "    \n",
    "    try:\n",
    "        assert len(tool_r)>0\n",
    "        print('already have tool_r')\n",
    "    except:\n",
    "        tool_r = SQL_DataFrame(sql2)\n",
    "        tool_r['ATTRIBUTE_VALUE'] = tool_r['ATTRIBUTE_VALUE'].astype(int)\n",
    "        tools = pd.pivot_table(tool_r, values = 'ATTRIBUTE_VALUE', index = ['REV_MODULE', 'CEID' ,'ENTITY'], columns = 'ATTRIBUTE_NAME')\n",
    "        tools = tools.reset_index()\n",
    "        tools.set_index(['ENTITY'], inplace = True)\n",
    "\n",
    "    ss = SQL_DataFrame(sql.format(str(past+90), str(past)))\n",
    "\n",
    "    camp = os.getcwd()\n",
    "\n",
    "    dstr = ss['LOT_DATA_COLLECT_DATE'].max()[:10]\n",
    "    dstr\n",
    "    fname = 'LAT.SPC.defect.' + dstr + '.csv'\n",
    "    fname\n",
    "    ss.to_csv(fname)\n",
    "    \n",
    "\n",
    "done1 = time.time()\n",
    "print('done in: ', done1-start)"
   ]
  },
  {
   "cell_type": "code",
   "execution_count": 6,
   "metadata": {},
   "outputs": [],
   "source": [
    "def get90d(ss, datestr): \n",
    "    end = pd.Timestamp(datestr) + timedelta(days=1)\n",
    "    start = end - timedelta(days=90)\n",
    "    try:\n",
    "        ss = ss[(ss['LOT_DATA_COLLECT_DATE'] >= start) & (ss['LOT_DATA_COLLECT_DATE'] < end)]\n",
    "    except:\n",
    "        ss = convert_to_date(ss)\n",
    "        ss = ss[(ss['LOT_DATA_COLLECT_DATE'] >= start) & (ss['LOT_DATA_COLLECT_DATE'] < end)]\n",
    "    return ss"
   ]
  },
  {
   "cell_type": "code",
   "execution_count": 31,
   "metadata": {},
   "outputs": [
    {
     "name": "stdout",
     "output_type": "stream",
     "text": [
      "\n",
      "SELECT  DISTINCT \n",
      "          a1.entity AS entity\n",
      "         ,a5.value AS chart_value\n",
      "         ,To_Char(a0.data_collection_time,'yyyy-mm-dd hh24:mi:ss') AS lot_data_collect_date\n",
      "         ,a3.measurement_set_name AS measurement_set_name\n",
      "         ,To_Char(a3.data_collection_time,'yyyy-mm-dd hh24:mi:ss') AS meas_set_data_collect_date\n",
      "         ,a2.monitor_type AS monitor_type\n",
      "         ,a3.parameter_class AS parameter_class\n",
      "         ,a2.monitor_set_name AS monitor_set_name\n",
      "         ,a0.lotoperkey AS lotoperkey\n",
      "         ,a5.incontrol_flag AS incontrol_flag\n",
      "         ,a5.standard_flag AS chart_pt_standard_flag\n",
      "         ,a10.centerline AS centerline\n",
      "         ,a10.lo_control_lmt AS lo_control_lmt\n",
      "         ,a10.up_control_lmt AS up_control_lmt\n",
      "         ,a5.chart_type AS chart_type\n",
      "         ,a5.spc_chart_subset AS spc_chart_subset\n",
      "         ,a2.test_name AS test_name\n",
      "         ,a3.parameter_header AS parameter_header\n",
      "         ,a2.module AS module\n",
      "FROM \n",
      "P_SPC_MEASUREMENT_SET a3\n",
      "INNER JOIN P_SPC_SESSION a2 ON a2.spcs_id = a3.spcs_id\n",
      "LEFT JOIN P_SPC_LOT a0 ON a0.spcs_id = a2.spcs_id\n",
      "INNER JOIN P_SPC_ENTITY a1 ON a2.spcs_id = a1.spcs_id AND a1.entity_sequence=1\n",
      "LEFT JOIN P_SPC_CHART_POINT a5 ON a5.spcs_id = a3.spcs_id AND a5.measurement_set_name = a3.measurement_set_name\n",
      "LEFT JOIN P_SPC_CHART_LIMIT a10 ON a10.chart_id = a5.chart_id AND a10.limit_id = a5.limit_id\n",
      "WHERE\n",
      "              (a1.entity LIKE 'LAT%' \n",
      "              OR a1.entity LIKE 'PAT%')\n",
      " AND      a5.value Is Not Null  \n",
      " AND      a3.data_collection_time >= TRUNC(SYSDATE) - -120 \n",
      " AND      a3.data_collection_time <= TRUNC(SYSDATE) - -210 \n",
      " AND      a2.monitor_type = 'TOOL MONITOR' \n",
      " AND      a3.parameter_class = 'DEFECT_PARTICLE' \n",
      " AND      a5.spc_chart_subset = 'PARTICLE_SIZE=TOTAL_ADDERS'\n",
      "\n"
     ]
    }
   ],
   "source": [
    "print(sql.format(str(past+90), str(past)))"
   ]
  },
  {
   "cell_type": "code",
   "execution_count": 28,
   "metadata": {},
   "outputs": [
    {
     "data": {
      "text/html": [
       "<div>\n",
       "<style scoped>\n",
       "    .dataframe tbody tr th:only-of-type {\n",
       "        vertical-align: middle;\n",
       "    }\n",
       "\n",
       "    .dataframe tbody tr th {\n",
       "        vertical-align: top;\n",
       "    }\n",
       "\n",
       "    .dataframe thead th {\n",
       "        text-align: right;\n",
       "    }\n",
       "</style>\n",
       "<table border=\"1\" class=\"dataframe\">\n",
       "  <thead>\n",
       "    <tr style=\"text-align: right;\">\n",
       "      <th></th>\n",
       "      <th>ENTITY</th>\n",
       "      <th>CHART_VALUE</th>\n",
       "      <th>LOT_DATA_COLLECT_DATE</th>\n",
       "      <th>MEASUREMENT_SET_NAME</th>\n",
       "      <th>MEAS_SET_DATA_COLLECT_DATE</th>\n",
       "      <th>MONITOR_TYPE</th>\n",
       "      <th>PARAMETER_CLASS</th>\n",
       "      <th>MONITOR_SET_NAME</th>\n",
       "      <th>LOTOPERKEY</th>\n",
       "      <th>INCONTROL_FLAG</th>\n",
       "      <th>CHART_PT_STANDARD_FLAG</th>\n",
       "      <th>CENTERLINE</th>\n",
       "      <th>LO_CONTROL_LMT</th>\n",
       "      <th>UP_CONTROL_LMT</th>\n",
       "      <th>CHART_TYPE</th>\n",
       "      <th>SPC_CHART_SUBSET</th>\n",
       "      <th>TEST_NAME</th>\n",
       "      <th>PARAMETER_HEADER</th>\n",
       "      <th>MODULE</th>\n",
       "    </tr>\n",
       "  </thead>\n",
       "  <tbody>\n",
       "  </tbody>\n",
       "</table>\n",
       "</div>"
      ],
      "text/plain": [
       "Empty DataFrame\n",
       "Columns: [ENTITY, CHART_VALUE, LOT_DATA_COLLECT_DATE, MEASUREMENT_SET_NAME, MEAS_SET_DATA_COLLECT_DATE, MONITOR_TYPE, PARAMETER_CLASS, MONITOR_SET_NAME, LOTOPERKEY, INCONTROL_FLAG, CHART_PT_STANDARD_FLAG, CENTERLINE, LO_CONTROL_LMT, UP_CONTROL_LMT, CHART_TYPE, SPC_CHART_SUBSET, TEST_NAME, PARAMETER_HEADER, MODULE]\n",
       "Index: []"
      ]
     },
     "execution_count": 28,
     "metadata": {},
     "output_type": "execute_result"
    }
   ],
   "source": []
  },
  {
   "cell_type": "code",
   "execution_count": 6,
   "metadata": {},
   "outputs": [],
   "source": []
  },
  {
   "cell_type": "code",
   "execution_count": 7,
   "metadata": {},
   "outputs": [
    {
     "name": "stdout",
     "output_type": "stream",
     "text": [
      "859.6174228191376\n"
     ]
    }
   ],
   "source": []
  },
  {
   "cell_type": "code",
   "execution_count": 43,
   "metadata": {},
   "outputs": [
    {
     "data": {
      "text/plain": [
       "'2021-01-06'"
      ]
     },
     "execution_count": 43,
     "metadata": {},
     "output_type": "execute_result"
    }
   ],
   "source": []
  },
  {
   "cell_type": "code",
   "execution_count": 31,
   "metadata": {},
   "outputs": [
    {
     "data": {
      "text/html": [
       "<div>\n",
       "<style scoped>\n",
       "    .dataframe tbody tr th:only-of-type {\n",
       "        vertical-align: middle;\n",
       "    }\n",
       "\n",
       "    .dataframe tbody tr th {\n",
       "        vertical-align: top;\n",
       "    }\n",
       "\n",
       "    .dataframe thead th {\n",
       "        text-align: right;\n",
       "    }\n",
       "</style>\n",
       "<table border=\"1\" class=\"dataframe\">\n",
       "  <thead>\n",
       "    <tr style=\"text-align: right;\">\n",
       "      <th></th>\n",
       "      <th>ENTITY</th>\n",
       "      <th>CHART_VALUE</th>\n",
       "      <th>LOT_DATA_COLLECT_DATE</th>\n",
       "      <th>MEASUREMENT_SET_NAME</th>\n",
       "      <th>MEAS_SET_DATA_COLLECT_DATE</th>\n",
       "      <th>MONITOR_TYPE</th>\n",
       "      <th>PARAMETER_CLASS</th>\n",
       "      <th>MONITOR_SET_NAME</th>\n",
       "      <th>LOTOPERKEY</th>\n",
       "      <th>INCONTROL_FLAG</th>\n",
       "      <th>CHART_PT_STANDARD_FLAG</th>\n",
       "      <th>CENTERLINE</th>\n",
       "      <th>LO_CONTROL_LMT</th>\n",
       "      <th>UP_CONTROL_LMT</th>\n",
       "      <th>CHART_TYPE</th>\n",
       "      <th>SPC_CHART_SUBSET</th>\n",
       "      <th>TEST_NAME</th>\n",
       "      <th>PARAMETER_HEADER</th>\n",
       "      <th>MODULE</th>\n",
       "    </tr>\n",
       "  </thead>\n",
       "  <tbody>\n",
       "    <tr>\n",
       "      <th>0</th>\n",
       "      <td>LAT424_PM1</td>\n",
       "      <td>1.000000</td>\n",
       "      <td>2020-12-28 22:19:43</td>\n",
       "      <td>LAT.DSA_PST.74.DER</td>\n",
       "      <td>2020-12-28 22:19:43</td>\n",
       "      <td>TOOL MONITOR</td>\n",
       "      <td>DEFECT_PARTICLE</td>\n",
       "      <td>LAT.DSA_PST.74.MON</td>\n",
       "      <td>2.884135e+09</td>\n",
       "      <td>Y</td>\n",
       "      <td>Y</td>\n",
       "      <td>1.0</td>\n",
       "      <td>0.0</td>\n",
       "      <td>4.5</td>\n",
       "      <td>X-BAR</td>\n",
       "      <td>PARTICLE_SIZE=TOTAL_ADDERS</td>\n",
       "      <td>4LATRTCPST</td>\n",
       "      <td>PARTICLE_SIZE</td>\n",
       "      <td>LAT</td>\n",
       "    </tr>\n",
       "    <tr>\n",
       "      <th>1</th>\n",
       "      <td>LAT424_PM1</td>\n",
       "      <td>2.000000</td>\n",
       "      <td>2020-11-22 18:07:10</td>\n",
       "      <td>LAT.DSA_PST.74.DER</td>\n",
       "      <td>2020-11-22 18:07:10</td>\n",
       "      <td>TOOL MONITOR</td>\n",
       "      <td>DEFECT_PARTICLE</td>\n",
       "      <td>LAT.DSA_PST.74.MON</td>\n",
       "      <td>2.786187e+09</td>\n",
       "      <td>Y</td>\n",
       "      <td>Y</td>\n",
       "      <td>1.0</td>\n",
       "      <td>0.0</td>\n",
       "      <td>4.5</td>\n",
       "      <td>X-BAR</td>\n",
       "      <td>PARTICLE_SIZE=TOTAL_ADDERS</td>\n",
       "      <td>4LATRTCPST</td>\n",
       "      <td>PARTICLE_SIZE</td>\n",
       "      <td>LAT</td>\n",
       "    </tr>\n",
       "    <tr>\n",
       "      <th>2</th>\n",
       "      <td>LAT410_PM1</td>\n",
       "      <td>0.000000</td>\n",
       "      <td>2021-01-02 10:49:33</td>\n",
       "      <td>LAT.DSA_PST.74.DER</td>\n",
       "      <td>2021-01-02 10:49:33</td>\n",
       "      <td>TOOL MONITOR</td>\n",
       "      <td>DEFECT_PARTICLE</td>\n",
       "      <td>LAT.DSA_PST.74.MON</td>\n",
       "      <td>2.896305e+09</td>\n",
       "      <td>Y</td>\n",
       "      <td>N</td>\n",
       "      <td>1.0</td>\n",
       "      <td>0.0</td>\n",
       "      <td>4.5</td>\n",
       "      <td>X-BAR</td>\n",
       "      <td>PARTICLE_SIZE=TOTAL_ADDERS</td>\n",
       "      <td>4LATRTCPST</td>\n",
       "      <td>PARTICLE_SIZE</td>\n",
       "      <td>LAT</td>\n",
       "    </tr>\n",
       "    <tr>\n",
       "      <th>3</th>\n",
       "      <td>PAT422_PM1</td>\n",
       "      <td>0.000000</td>\n",
       "      <td>2021-01-02 22:46:45</td>\n",
       "      <td>LAT.DSA_PST.74.DER</td>\n",
       "      <td>2021-01-02 22:46:45</td>\n",
       "      <td>TOOL MONITOR</td>\n",
       "      <td>DEFECT_PARTICLE</td>\n",
       "      <td>LAT.DSA_PST.74.MON</td>\n",
       "      <td>2.895342e+09</td>\n",
       "      <td>Y</td>\n",
       "      <td>Y</td>\n",
       "      <td>1.0</td>\n",
       "      <td>0.0</td>\n",
       "      <td>4.5</td>\n",
       "      <td>X-BAR</td>\n",
       "      <td>PARTICLE_SIZE=TOTAL_ADDERS</td>\n",
       "      <td>4LATRTCPST</td>\n",
       "      <td>PARTICLE_SIZE</td>\n",
       "      <td>LAT</td>\n",
       "    </tr>\n",
       "    <tr>\n",
       "      <th>4</th>\n",
       "      <td>PAT470_PM1</td>\n",
       "      <td>2.333333</td>\n",
       "      <td>2021-01-05 15:53:50</td>\n",
       "      <td>LAT.DSA_PST.74.DER</td>\n",
       "      <td>2021-01-05 15:53:50</td>\n",
       "      <td>TOOL MONITOR</td>\n",
       "      <td>DEFECT_PARTICLE</td>\n",
       "      <td>LAT.DSA_PST.74.MON</td>\n",
       "      <td>2.897961e+09</td>\n",
       "      <td>Y</td>\n",
       "      <td>Y</td>\n",
       "      <td>1.0</td>\n",
       "      <td>0.0</td>\n",
       "      <td>4.5</td>\n",
       "      <td>X-BAR</td>\n",
       "      <td>PARTICLE_SIZE=TOTAL_ADDERS</td>\n",
       "      <td>4LATRTCPST</td>\n",
       "      <td>PARTICLE_SIZE</td>\n",
       "      <td>LAT</td>\n",
       "    </tr>\n",
       "  </tbody>\n",
       "</table>\n",
       "</div>"
      ],
      "text/plain": [
       "       ENTITY  CHART_VALUE LOT_DATA_COLLECT_DATE MEASUREMENT_SET_NAME  \\\n",
       "0  LAT424_PM1     1.000000   2020-12-28 22:19:43   LAT.DSA_PST.74.DER   \n",
       "1  LAT424_PM1     2.000000   2020-11-22 18:07:10   LAT.DSA_PST.74.DER   \n",
       "2  LAT410_PM1     0.000000   2021-01-02 10:49:33   LAT.DSA_PST.74.DER   \n",
       "3  PAT422_PM1     0.000000   2021-01-02 22:46:45   LAT.DSA_PST.74.DER   \n",
       "4  PAT470_PM1     2.333333   2021-01-05 15:53:50   LAT.DSA_PST.74.DER   \n",
       "\n",
       "  MEAS_SET_DATA_COLLECT_DATE  MONITOR_TYPE  PARAMETER_CLASS  \\\n",
       "0        2020-12-28 22:19:43  TOOL MONITOR  DEFECT_PARTICLE   \n",
       "1        2020-11-22 18:07:10  TOOL MONITOR  DEFECT_PARTICLE   \n",
       "2        2021-01-02 10:49:33  TOOL MONITOR  DEFECT_PARTICLE   \n",
       "3        2021-01-02 22:46:45  TOOL MONITOR  DEFECT_PARTICLE   \n",
       "4        2021-01-05 15:53:50  TOOL MONITOR  DEFECT_PARTICLE   \n",
       "\n",
       "     MONITOR_SET_NAME    LOTOPERKEY INCONTROL_FLAG CHART_PT_STANDARD_FLAG  \\\n",
       "0  LAT.DSA_PST.74.MON  2.884135e+09              Y                      Y   \n",
       "1  LAT.DSA_PST.74.MON  2.786187e+09              Y                      Y   \n",
       "2  LAT.DSA_PST.74.MON  2.896305e+09              Y                      N   \n",
       "3  LAT.DSA_PST.74.MON  2.895342e+09              Y                      Y   \n",
       "4  LAT.DSA_PST.74.MON  2.897961e+09              Y                      Y   \n",
       "\n",
       "   CENTERLINE  LO_CONTROL_LMT  UP_CONTROL_LMT CHART_TYPE  \\\n",
       "0         1.0             0.0             4.5      X-BAR   \n",
       "1         1.0             0.0             4.5      X-BAR   \n",
       "2         1.0             0.0             4.5      X-BAR   \n",
       "3         1.0             0.0             4.5      X-BAR   \n",
       "4         1.0             0.0             4.5      X-BAR   \n",
       "\n",
       "             SPC_CHART_SUBSET   TEST_NAME PARAMETER_HEADER MODULE  \n",
       "0  PARTICLE_SIZE=TOTAL_ADDERS  4LATRTCPST    PARTICLE_SIZE    LAT  \n",
       "1  PARTICLE_SIZE=TOTAL_ADDERS  4LATRTCPST    PARTICLE_SIZE    LAT  \n",
       "2  PARTICLE_SIZE=TOTAL_ADDERS  4LATRTCPST    PARTICLE_SIZE    LAT  \n",
       "3  PARTICLE_SIZE=TOTAL_ADDERS  4LATRTCPST    PARTICLE_SIZE    LAT  \n",
       "4  PARTICLE_SIZE=TOTAL_ADDERS  4LATRTCPST    PARTICLE_SIZE    LAT  "
      ]
     },
     "execution_count": 31,
     "metadata": {},
     "output_type": "execute_result"
    }
   ],
   "source": [
    "ss.head()"
   ]
  },
  {
   "cell_type": "code",
   "execution_count": 25,
   "metadata": {},
   "outputs": [],
   "source": [
    "fname = 'LAT.SPC.defect.' + dstr + '.csv'\n",
    "ss.to_csv(fname)"
   ]
  },
  {
   "cell_type": "code",
   "execution_count": 16,
   "metadata": {},
   "outputs": [
    {
     "data": {
      "text/plain": [
       "CHART_VALUE       1.000000e+00\n",
       "LOTOPERKEY        2.704012e+09\n",
       "CENTERLINE        1.010000e+00\n",
       "LO_CONTROL_LMT    0.000000e+00\n",
       "UP_CONTROL_LMT    3.200000e+00\n",
       "dtype: float64"
      ]
     },
     "execution_count": 16,
     "metadata": {},
     "output_type": "execute_result"
    }
   ],
   "source": [
    "ss[ss['SPC_CHART_SUBSET'] == 'PARTICLE_SIZE=TOTAL_ADDERS'].median()"
   ]
  },
  {
   "cell_type": "code",
   "execution_count": 36,
   "metadata": {},
   "outputs": [],
   "source": [
    "tool_r = SQL_DataFrame(sql2)\n",
    "tool_r['ATTRIBUTE_VALUE'] = tool_r['ATTRIBUTE_VALUE'].astype(int)\n",
    "tools = pd.pivot_table(tool_r, values = 'ATTRIBUTE_VALUE', index = ['REV_MODULE', 'CEID' ,'ENTITY'], columns = 'ATTRIBUTE_NAME')\n",
    "tools = tools.reset_index()\n",
    "tools.set_index(['ENTITY'], inplace = True)\n",
    "#tools[tools['ENTITY'] == 'LATXX']['REV_MODULE'].values[0]\n",
    "\n",
    "camp = os.getcwd()"
   ]
  },
  {
   "cell_type": "code",
   "execution_count": 13,
   "metadata": {},
   "outputs": [
    {
     "data": {
      "text/html": [
       "<div>\n",
       "<style scoped>\n",
       "    .dataframe tbody tr th:only-of-type {\n",
       "        vertical-align: middle;\n",
       "    }\n",
       "\n",
       "    .dataframe tbody tr th {\n",
       "        vertical-align: top;\n",
       "    }\n",
       "\n",
       "    .dataframe thead th {\n",
       "        text-align: right;\n",
       "    }\n",
       "</style>\n",
       "<table border=\"1\" class=\"dataframe\">\n",
       "  <thead>\n",
       "    <tr style=\"text-align: right;\">\n",
       "      <th></th>\n",
       "      <th>ENTITY</th>\n",
       "      <th>CHART_VALUE</th>\n",
       "      <th>LOT_DATA_COLLECT_DATE</th>\n",
       "      <th>MEASUREMENT_SET_NAME</th>\n",
       "      <th>MEAS_SET_DATA_COLLECT_DATE</th>\n",
       "      <th>MONITOR_TYPE</th>\n",
       "      <th>PARAMETER_CLASS</th>\n",
       "      <th>MONITOR_SET_NAME</th>\n",
       "      <th>LOTOPERKEY</th>\n",
       "      <th>INCONTROL_FLAG</th>\n",
       "      <th>CHART_PT_STANDARD_FLAG</th>\n",
       "      <th>CENTERLINE</th>\n",
       "      <th>LO_CONTROL_LMT</th>\n",
       "      <th>UP_CONTROL_LMT</th>\n",
       "      <th>CHART_TYPE</th>\n",
       "      <th>SPC_CHART_SUBSET</th>\n",
       "      <th>TEST_NAME</th>\n",
       "      <th>PARAMETER_HEADER</th>\n",
       "      <th>MODULE</th>\n",
       "    </tr>\n",
       "  </thead>\n",
       "  <tbody>\n",
       "    <tr>\n",
       "      <th>0</th>\n",
       "      <td>PAT436_PM3</td>\n",
       "      <td>0.0</td>\n",
       "      <td>2020-05-23 09:03:31</td>\n",
       "      <td>TGR.DSA_PST.74.DER</td>\n",
       "      <td>2020-05-23 09:03:31</td>\n",
       "      <td>TOOL MONITOR</td>\n",
       "      <td>DEFECT_PARTICLE</td>\n",
       "      <td>LAT.DSA_PST.74.MON</td>\n",
       "      <td>2.311490e+09</td>\n",
       "      <td>Y</td>\n",
       "      <td>N</td>\n",
       "      <td>0.33</td>\n",
       "      <td>0.0</td>\n",
       "      <td>1.1</td>\n",
       "      <td>MAX</td>\n",
       "      <td>PARTICLE_SIZE=TOTAL_ADDERS</td>\n",
       "      <td>4LATNTSSPS</td>\n",
       "      <td>PARTICLE_SIZE</td>\n",
       "      <td>LAT</td>\n",
       "    </tr>\n",
       "    <tr>\n",
       "      <th>1</th>\n",
       "      <td>LAT426_PM3</td>\n",
       "      <td>0.0</td>\n",
       "      <td>2020-05-11 07:29:16</td>\n",
       "      <td>LAT.DSA_PST.76.DER</td>\n",
       "      <td>2020-05-11 07:29:16</td>\n",
       "      <td>TOOL MONITOR</td>\n",
       "      <td>DEFECT_PARTICLE</td>\n",
       "      <td>LAT.DSA_PST.76.MON</td>\n",
       "      <td>2.319861e+09</td>\n",
       "      <td>Y</td>\n",
       "      <td>Y</td>\n",
       "      <td>1.01</td>\n",
       "      <td>0.0</td>\n",
       "      <td>3.2</td>\n",
       "      <td>X-BAR</td>\n",
       "      <td>PARTICLE_SIZE=TOTAL_ADDERS</td>\n",
       "      <td>6LATNTFTPSSPST</td>\n",
       "      <td>PARTICLE_SIZE</td>\n",
       "      <td>LAT</td>\n",
       "    </tr>\n",
       "    <tr>\n",
       "      <th>2</th>\n",
       "      <td>LAT426_PM3</td>\n",
       "      <td>0.0</td>\n",
       "      <td>2020-05-11 07:29:22</td>\n",
       "      <td>LAT.DSA_PST.76.DER</td>\n",
       "      <td>2020-05-11 07:29:22</td>\n",
       "      <td>TOOL MONITOR</td>\n",
       "      <td>DEFECT_PARTICLE</td>\n",
       "      <td>LAT.DSA_PST.76.MON</td>\n",
       "      <td>2.319861e+09</td>\n",
       "      <td>Y</td>\n",
       "      <td>Y</td>\n",
       "      <td>1.01</td>\n",
       "      <td>0.0</td>\n",
       "      <td>3.2</td>\n",
       "      <td>X-BAR</td>\n",
       "      <td>PARTICLE_SIZE=TOTAL_ADDERS</td>\n",
       "      <td>6LATNTFTPSSPST</td>\n",
       "      <td>PARTICLE_SIZE</td>\n",
       "      <td>LAT</td>\n",
       "    </tr>\n",
       "    <tr>\n",
       "      <th>3</th>\n",
       "      <td>PAT454_PM5</td>\n",
       "      <td>0.0</td>\n",
       "      <td>2020-05-11 06:14:34</td>\n",
       "      <td>LAT.DSA_PST.76.DER</td>\n",
       "      <td>2020-05-11 06:14:34</td>\n",
       "      <td>TOOL MONITOR</td>\n",
       "      <td>DEFECT_PARTICLE</td>\n",
       "      <td>LAT.DSA_PST.76.MON</td>\n",
       "      <td>2.320653e+09</td>\n",
       "      <td>Y</td>\n",
       "      <td>Y</td>\n",
       "      <td>1.01</td>\n",
       "      <td>0.0</td>\n",
       "      <td>3.2</td>\n",
       "      <td>X-BAR</td>\n",
       "      <td>PARTICLE_SIZE=TOTAL_ADDERS</td>\n",
       "      <td>6LATNTSSPS</td>\n",
       "      <td>PARTICLE_SIZE</td>\n",
       "      <td>LAT</td>\n",
       "    </tr>\n",
       "    <tr>\n",
       "      <th>4</th>\n",
       "      <td>PAT454_PM5</td>\n",
       "      <td>0.0</td>\n",
       "      <td>2020-05-11 06:14:41</td>\n",
       "      <td>LAT.DSA_PST.76.DER</td>\n",
       "      <td>2020-05-11 06:14:41</td>\n",
       "      <td>TOOL MONITOR</td>\n",
       "      <td>DEFECT_PARTICLE</td>\n",
       "      <td>LAT.DSA_PST.76.MON</td>\n",
       "      <td>2.320653e+09</td>\n",
       "      <td>Y</td>\n",
       "      <td>Y</td>\n",
       "      <td>1.01</td>\n",
       "      <td>0.0</td>\n",
       "      <td>3.2</td>\n",
       "      <td>X-BAR</td>\n",
       "      <td>PARTICLE_SIZE=TOTAL_ADDERS</td>\n",
       "      <td>6LATNTSSPS</td>\n",
       "      <td>PARTICLE_SIZE</td>\n",
       "      <td>LAT</td>\n",
       "    </tr>\n",
       "  </tbody>\n",
       "</table>\n",
       "</div>"
      ],
      "text/plain": [
       "       ENTITY  CHART_VALUE LOT_DATA_COLLECT_DATE MEASUREMENT_SET_NAME  \\\n",
       "0  PAT436_PM3          0.0   2020-05-23 09:03:31   TGR.DSA_PST.74.DER   \n",
       "1  LAT426_PM3          0.0   2020-05-11 07:29:16   LAT.DSA_PST.76.DER   \n",
       "2  LAT426_PM3          0.0   2020-05-11 07:29:22   LAT.DSA_PST.76.DER   \n",
       "3  PAT454_PM5          0.0   2020-05-11 06:14:34   LAT.DSA_PST.76.DER   \n",
       "4  PAT454_PM5          0.0   2020-05-11 06:14:41   LAT.DSA_PST.76.DER   \n",
       "\n",
       "  MEAS_SET_DATA_COLLECT_DATE  MONITOR_TYPE  PARAMETER_CLASS  \\\n",
       "0        2020-05-23 09:03:31  TOOL MONITOR  DEFECT_PARTICLE   \n",
       "1        2020-05-11 07:29:16  TOOL MONITOR  DEFECT_PARTICLE   \n",
       "2        2020-05-11 07:29:22  TOOL MONITOR  DEFECT_PARTICLE   \n",
       "3        2020-05-11 06:14:34  TOOL MONITOR  DEFECT_PARTICLE   \n",
       "4        2020-05-11 06:14:41  TOOL MONITOR  DEFECT_PARTICLE   \n",
       "\n",
       "     MONITOR_SET_NAME    LOTOPERKEY INCONTROL_FLAG CHART_PT_STANDARD_FLAG  \\\n",
       "0  LAT.DSA_PST.74.MON  2.311490e+09              Y                      N   \n",
       "1  LAT.DSA_PST.76.MON  2.319861e+09              Y                      Y   \n",
       "2  LAT.DSA_PST.76.MON  2.319861e+09              Y                      Y   \n",
       "3  LAT.DSA_PST.76.MON  2.320653e+09              Y                      Y   \n",
       "4  LAT.DSA_PST.76.MON  2.320653e+09              Y                      Y   \n",
       "\n",
       "   CENTERLINE  LO_CONTROL_LMT  UP_CONTROL_LMT CHART_TYPE  \\\n",
       "0        0.33             0.0             1.1        MAX   \n",
       "1        1.01             0.0             3.2      X-BAR   \n",
       "2        1.01             0.0             3.2      X-BAR   \n",
       "3        1.01             0.0             3.2      X-BAR   \n",
       "4        1.01             0.0             3.2      X-BAR   \n",
       "\n",
       "             SPC_CHART_SUBSET       TEST_NAME PARAMETER_HEADER MODULE  \n",
       "0  PARTICLE_SIZE=TOTAL_ADDERS      4LATNTSSPS    PARTICLE_SIZE    LAT  \n",
       "1  PARTICLE_SIZE=TOTAL_ADDERS  6LATNTFTPSSPST    PARTICLE_SIZE    LAT  \n",
       "2  PARTICLE_SIZE=TOTAL_ADDERS  6LATNTFTPSSPST    PARTICLE_SIZE    LAT  \n",
       "3  PARTICLE_SIZE=TOTAL_ADDERS      6LATNTSSPS    PARTICLE_SIZE    LAT  \n",
       "4  PARTICLE_SIZE=TOTAL_ADDERS      6LATNTSSPS    PARTICLE_SIZE    LAT  "
      ]
     },
     "execution_count": 13,
     "metadata": {},
     "output_type": "execute_result"
    }
   ],
   "source": [
    "ss.head()"
   ]
  },
  {
   "cell_type": "markdown",
   "metadata": {},
   "source": [
    "See next cell for better version\n",
    "VERSION 2. MARCH 2021"
   ]
  },
  {
   "cell_type": "code",
   "execution_count": 37,
   "metadata": {},
   "outputs": [],
   "source": [
    "\n",
    "sta=pd.DataFrame()\n",
    "#csvs = glob.glob('training_data/LAT*.csv')\n",
    "#for fnode in csvs:\n",
    "if 1==1:\n",
    "    #dstr = fnode.split('.')[-2]\n",
    "    #ss = SQL_DataFrame(sql)\n",
    "    entities = ss.ENTITY.unique()\n",
    "    for entity in entities:\n",
    "        #entity=entities[0]\n",
    "        try:\n",
    "            fname = tools.loc[entity]['REV_MODULE']+'.TA.'+entity+'.'+dstr\n",
    "        except:\n",
    "            fname = 'NONE.TA.'+entity+'.'+dstr\n",
    "        sst = ss[ss['ENTITY']==entity]\n",
    "        st = sst[sst['SPC_CHART_SUBSET'] == 'PARTICLE_SIZE=TOTAL_ADDERS']\n",
    "\n",
    "        st=st[['LOT_DATA_COLLECT_DATE', 'CHART_VALUE']]\n",
    "        st=st.rename(columns={'LOT_DATA_COLLECT_DATE': 't', 'CHART_VALUE': fname})\n",
    "        st.index = pd.to_datetime(st.t)\n",
    "        st.drop(['t'], axis=1, inplace = True)\n",
    "        st=st.sort_index()\n",
    "        st=st.resample('3D').mean()\n",
    "\n",
    "        st=st.interpolate(method='linear')\n",
    "        st=np.log(st+1)\n",
    "        st = st[len(st)-20:]\n",
    "        if len(st)<20: continue\n",
    "        \n",
    "        if 1==1: #don't plot\n",
    "            fig = plt.figure()\n",
    "            ax = fig.add_axes([0.1, 0.1, 0.8, 0.8])\n",
    "            #ax = plt.subplot(111)\n",
    "            ax.plot(st, 'o')\n",
    "            ax.set_xlabel('date')\n",
    "            ax.set_ylabel('TA')\n",
    "            ax.set_xticks(ax.get_xticks()[::3])\n",
    "            #plt.title('title')\n",
    "            ax.legend([entity+': '+dstr])\n",
    "            fig.savefig('figs/'+fname+'.png')\n",
    "            plt.close()\n",
    "            st = st.reset_index().T.drop('t')\n",
    "\n",
    "        #st = st.reset_index().T.drop('t')\n",
    "        if sta.empty: sta=st\n",
    "        else: sta = sta.append(st)\n",
    "            \n"
   ]
  },
  {
   "cell_type": "markdown",
   "metadata": {},
   "source": [
    "# Make figures from recent pull in ss variable\n"
   ]
  },
  {
   "cell_type": "code",
   "execution_count": 57,
   "metadata": {},
   "outputs": [
    {
     "name": "stdout",
     "output_type": "stream",
     "text": [
      "time taken:  45.5408136844635\n"
     ]
    }
   ],
   "source": [
    "# Make sure we got the parts we need\n",
    "assert len(tools)>0\n",
    "start=time.time()\n",
    "\n",
    "sta=pd.DataFrame()\n",
    "csvs = glob.glob('training_data/LAT.SPC*.csv')\n",
    "for fnode in csvs:\n",
    "    #if 1==1:\n",
    "    ss = pd.read_csv(fnode)\n",
    "    dstr = fnode.split('.')[-2]\n",
    "    entities = ss.ENTITY.unique()\n",
    "    for entity in entities:\n",
    "        #entity=entities[0]\n",
    "        try:\n",
    "            fname = tools.loc[entity]['REV_MODULE']+'.TA.'+entity+'.'+dstr\n",
    "        except:\n",
    "            fname = 'NONE.TA.'+entity+'.'+dstr\n",
    "        sst = ss[ss['ENTITY']==entity]\n",
    "        st = sst[sst['SPC_CHART_SUBSET'] == 'PARTICLE_SIZE=TOTAL_ADDERS']\n",
    "\n",
    "        st=st[['LOT_DATA_COLLECT_DATE', 'CHART_VALUE']]\n",
    "        st=st.rename(columns={'LOT_DATA_COLLECT_DATE': 't', 'CHART_VALUE': fname})\n",
    "        st.index = pd.to_datetime(st.t)\n",
    "        st.drop(['t'], axis=1, inplace = True)\n",
    "        st=st.sort_index()\n",
    "        st=st.resample('3D').mean()\n",
    "\n",
    "        st=st.interpolate(method='linear')\n",
    "        st=np.log(st+1)\n",
    "        st = st[len(st)-20:]\n",
    "        if len(st)<20: continue\n",
    "        \n",
    "        if 1==2: #do plot\n",
    "            fig = plt.figure()\n",
    "            ax = fig.add_axes([0.1, 0.1, 0.8, 0.8])\n",
    "            #ax = plt.subplot(111)\n",
    "            ax.plot(st, 'o')\n",
    "            ax.set_xlabel('date')\n",
    "            ax.set_ylabel('TA')\n",
    "            ax.set_xticks(ax.get_xticks()[::3])\n",
    "            #plt.title('title')\n",
    "            ax.legend([entity+': '+dstr])\n",
    "            fig.savefig('figs/'+fname+'.png')\n",
    "            plt.close()\n",
    "            \n",
    "        \n",
    "        st = st.reset_index().T.drop('t')\n",
    "        if sta.empty: sta=st\n",
    "        else: sta = sta.append(st)\n",
    "        \n",
    "            \n",
    "print('time taken: ', time.time()-start)"
   ]
  },
  {
   "cell_type": "markdown",
   "metadata": {},
   "source": [
    "# Make figures from saved csv files\n",
    "\n",
    "More prudent"
   ]
  },
  {
   "cell_type": "code",
   "execution_count": 12,
   "metadata": {},
   "outputs": [
    {
     "name": "stdout",
     "output_type": "stream",
     "text": [
      "time taken:  30.61734127998352\n"
     ]
    }
   ],
   "source": [
    "# Make sure we got the parts we need\n",
    "assert len(tools)>0\n",
    "start=time.time()\n",
    "\n",
    "snapdates = ['2021-04-20']\n",
    "ssb = pd.read_csv('LAT.SPC.defect.2021-04-23.csv')\n",
    "\n",
    "sta=pd.DataFrame()\n",
    "csvs = glob.glob('training_data/LAT.SPC*.csv')\n",
    "for dstr in snapdates:\n",
    "    ss = get90d(ssb, dstr)\n",
    "    \n",
    "    entities = ss.ENTITY.unique()\n",
    "    for entity in entities:\n",
    "        #entity=entities[0]\n",
    "        try:\n",
    "            fname = tools.loc[entity]['REV_MODULE']+'.TA.'+entity+'.'+dstr\n",
    "        except:\n",
    "            fname = 'NONE.TA.'+entity+'.'+dstr\n",
    "        sst = ss[ss['ENTITY']==entity]\n",
    "        st = sst[sst['SPC_CHART_SUBSET'] == 'PARTICLE_SIZE=TOTAL_ADDERS']\n",
    "\n",
    "        st=st[['LOT_DATA_COLLECT_DATE', 'CHART_VALUE']]\n",
    "        st=st.rename(columns={'LOT_DATA_COLLECT_DATE': 't', 'CHART_VALUE': fname})\n",
    "        st.index = pd.to_datetime(st.t)\n",
    "        st.drop(['t'], axis=1, inplace = True)\n",
    "        st=st.sort_index()\n",
    "        st=st.resample('3D').mean()\n",
    "\n",
    "        st=st.interpolate(method='linear')\n",
    "        st=np.log(st+1)\n",
    "        st = st[len(st)-20:]\n",
    "        if len(st)<20: continue\n",
    "        \n",
    "        if 1==1: #do plot\n",
    "            fig = plt.figure()\n",
    "            ax = fig.add_axes([0.1, 0.1, 0.8, 0.8])\n",
    "            #ax = plt.subplot(111)\n",
    "            ax.plot(st, 'o')\n",
    "            ax.set_xlabel('date')\n",
    "            ax.set_ylabel('TA')\n",
    "            ax.set_xticks(ax.get_xticks()[::3])\n",
    "            #plt.title('title')\n",
    "            ax.legend([entity+': '+dstr])\n",
    "            fig.savefig('figs/'+fname+'.png')\n",
    "            plt.close()\n",
    "            \n",
    "        \n",
    "        st = st.reset_index().T.drop('t')\n",
    "        if sta.empty: sta=st\n",
    "        else: sta = sta.append(st)\n",
    "        \n",
    "            \n",
    "print('time taken: ', time.time()-start)"
   ]
  },
  {
   "cell_type": "code",
   "execution_count": 11,
   "metadata": {},
   "outputs": [
    {
     "data": {
      "text/plain": [
       "'C:\\\\Users\\\\narju\\\\OneDrive - Intel Corporation\\\\Documents\\\\Training\\\\python\\\\intel\\\\SPC_SNOOP'"
      ]
     },
     "execution_count": 11,
     "metadata": {},
     "output_type": "execute_result"
    }
   ],
   "source": [
    "len(sta)"
   ]
  },
  {
   "cell_type": "code",
   "execution_count": 59,
   "metadata": {},
   "outputs": [],
   "source": [
    "sta = sta.rename_axis('key')"
   ]
  },
  {
   "cell_type": "code",
   "execution_count": 58,
   "metadata": {},
   "outputs": [
    {
     "data": {
      "text/html": [
       "<div>\n",
       "<style scoped>\n",
       "    .dataframe tbody tr th:only-of-type {\n",
       "        vertical-align: middle;\n",
       "    }\n",
       "\n",
       "    .dataframe tbody tr th {\n",
       "        vertical-align: top;\n",
       "    }\n",
       "\n",
       "    .dataframe thead th {\n",
       "        text-align: right;\n",
       "    }\n",
       "</style>\n",
       "<table border=\"1\" class=\"dataframe\">\n",
       "  <thead>\n",
       "    <tr style=\"text-align: right;\">\n",
       "      <th></th>\n",
       "      <th>0</th>\n",
       "      <th>1</th>\n",
       "      <th>2</th>\n",
       "      <th>3</th>\n",
       "      <th>4</th>\n",
       "      <th>5</th>\n",
       "      <th>6</th>\n",
       "      <th>7</th>\n",
       "      <th>8</th>\n",
       "      <th>9</th>\n",
       "      <th>10</th>\n",
       "      <th>11</th>\n",
       "      <th>12</th>\n",
       "      <th>13</th>\n",
       "      <th>14</th>\n",
       "      <th>15</th>\n",
       "      <th>16</th>\n",
       "      <th>17</th>\n",
       "      <th>18</th>\n",
       "      <th>19</th>\n",
       "    </tr>\n",
       "  </thead>\n",
       "  <tbody>\n",
       "    <tr>\n",
       "      <th>DE-PAT-FTA.TA.LAT426_PM3.2020-02-11</th>\n",
       "      <td>1.76766</td>\n",
       "      <td>1.74297</td>\n",
       "      <td>1.71765</td>\n",
       "      <td>1.69168</td>\n",
       "      <td>1.66501</td>\n",
       "      <td>1.63761</td>\n",
       "      <td>1.60944</td>\n",
       "      <td>1.47908</td>\n",
       "      <td>1.32914</td>\n",
       "      <td>1.15268</td>\n",
       "      <td>0.93827</td>\n",
       "      <td>0.664976</td>\n",
       "      <td>0.287682</td>\n",
       "      <td>0.693147</td>\n",
       "      <td>0.510826</td>\n",
       "      <td>0.287682</td>\n",
       "      <td>0.405465</td>\n",
       "      <td>0.405465</td>\n",
       "      <td>0.405465</td>\n",
       "      <td>0</td>\n",
       "    </tr>\n",
       "    <tr>\n",
       "      <th>DE-PAT-FTA.TA.LAT426_PM3.2020-03-12</th>\n",
       "      <td>0.93827</td>\n",
       "      <td>0.664976</td>\n",
       "      <td>0.287682</td>\n",
       "      <td>0.693147</td>\n",
       "      <td>0.287682</td>\n",
       "      <td>0</td>\n",
       "      <td>0.693147</td>\n",
       "      <td>0</td>\n",
       "      <td>0.693147</td>\n",
       "      <td>0</td>\n",
       "      <td>0</td>\n",
       "      <td>1.38629</td>\n",
       "      <td>0.693147</td>\n",
       "      <td>0.693147</td>\n",
       "      <td>0.693147</td>\n",
       "      <td>0.916291</td>\n",
       "      <td>0</td>\n",
       "      <td>0</td>\n",
       "      <td>0</td>\n",
       "      <td>0</td>\n",
       "    </tr>\n",
       "    <tr>\n",
       "      <th>DE-LAT-TNC.TA.PAT408_PM5.2020-04-11</th>\n",
       "      <td>0.405465</td>\n",
       "      <td>0.367725</td>\n",
       "      <td>0.550046</td>\n",
       "      <td>0.405465</td>\n",
       "      <td>0.510826</td>\n",
       "      <td>0.847298</td>\n",
       "      <td>0.287682</td>\n",
       "      <td>0.154151</td>\n",
       "      <td>0.287682</td>\n",
       "      <td>0</td>\n",
       "      <td>0.606136</td>\n",
       "      <td>0.510826</td>\n",
       "      <td>0.287682</td>\n",
       "      <td>0.510826</td>\n",
       "      <td>0.336472</td>\n",
       "      <td>0.324496</td>\n",
       "      <td>0.312375</td>\n",
       "      <td>0.300105</td>\n",
       "      <td>0.287682</td>\n",
       "      <td>0.510826</td>\n",
       "    </tr>\n",
       "    <tr>\n",
       "      <th>DE-LAT.TA.LAT416_PM1.2020-04-11</th>\n",
       "      <td>1.04145</td>\n",
       "      <td>0.693147</td>\n",
       "      <td>1.09861</td>\n",
       "      <td>0.77319</td>\n",
       "      <td>1.17294</td>\n",
       "      <td>1.45775</td>\n",
       "      <td>1.01592</td>\n",
       "      <td>1.20397</td>\n",
       "      <td>0.510826</td>\n",
       "      <td>0.980829</td>\n",
       "      <td>1.38629</td>\n",
       "      <td>1.23676</td>\n",
       "      <td>1.004</td>\n",
       "      <td>0.980829</td>\n",
       "      <td>1.62706</td>\n",
       "      <td>0.980829</td>\n",
       "      <td>0.847298</td>\n",
       "      <td>0.510826</td>\n",
       "      <td>1.23296</td>\n",
       "      <td>0.929536</td>\n",
       "    </tr>\n",
       "    <tr>\n",
       "      <th>DE-PAT-BE.TA.PAT430_PM4.2020-04-11</th>\n",
       "      <td>0</td>\n",
       "      <td>0</td>\n",
       "      <td>0</td>\n",
       "      <td>0</td>\n",
       "      <td>0.405465</td>\n",
       "      <td>0.693147</td>\n",
       "      <td>0</td>\n",
       "      <td>0</td>\n",
       "      <td>0</td>\n",
       "      <td>0.76214</td>\n",
       "      <td>0</td>\n",
       "      <td>0.510826</td>\n",
       "      <td>0.287682</td>\n",
       "      <td>0</td>\n",
       "      <td>1.50408</td>\n",
       "      <td>0.693147</td>\n",
       "      <td>0</td>\n",
       "      <td>0.955511</td>\n",
       "      <td>0</td>\n",
       "      <td>0.81093</td>\n",
       "    </tr>\n",
       "  </tbody>\n",
       "</table>\n",
       "</div>"
      ],
      "text/plain": [
       "                                           0         1         2         3   \\\n",
       "DE-PAT-FTA.TA.LAT426_PM3.2020-02-11   1.76766   1.74297   1.71765   1.69168   \n",
       "DE-PAT-FTA.TA.LAT426_PM3.2020-03-12   0.93827  0.664976  0.287682  0.693147   \n",
       "DE-LAT-TNC.TA.PAT408_PM5.2020-04-11  0.405465  0.367725  0.550046  0.405465   \n",
       "DE-LAT.TA.LAT416_PM1.2020-04-11       1.04145  0.693147   1.09861   0.77319   \n",
       "DE-PAT-BE.TA.PAT430_PM4.2020-04-11          0         0         0         0   \n",
       "\n",
       "                                           4         5         6         7   \\\n",
       "DE-PAT-FTA.TA.LAT426_PM3.2020-02-11   1.66501   1.63761   1.60944   1.47908   \n",
       "DE-PAT-FTA.TA.LAT426_PM3.2020-03-12  0.287682         0  0.693147         0   \n",
       "DE-LAT-TNC.TA.PAT408_PM5.2020-04-11  0.510826  0.847298  0.287682  0.154151   \n",
       "DE-LAT.TA.LAT416_PM1.2020-04-11       1.17294   1.45775   1.01592   1.20397   \n",
       "DE-PAT-BE.TA.PAT430_PM4.2020-04-11   0.405465  0.693147         0         0   \n",
       "\n",
       "                                           8         9         10        11  \\\n",
       "DE-PAT-FTA.TA.LAT426_PM3.2020-02-11   1.32914   1.15268   0.93827  0.664976   \n",
       "DE-PAT-FTA.TA.LAT426_PM3.2020-03-12  0.693147         0         0   1.38629   \n",
       "DE-LAT-TNC.TA.PAT408_PM5.2020-04-11  0.287682         0  0.606136  0.510826   \n",
       "DE-LAT.TA.LAT416_PM1.2020-04-11      0.510826  0.980829   1.38629   1.23676   \n",
       "DE-PAT-BE.TA.PAT430_PM4.2020-04-11          0   0.76214         0  0.510826   \n",
       "\n",
       "                                           12        13        14        15  \\\n",
       "DE-PAT-FTA.TA.LAT426_PM3.2020-02-11  0.287682  0.693147  0.510826  0.287682   \n",
       "DE-PAT-FTA.TA.LAT426_PM3.2020-03-12  0.693147  0.693147  0.693147  0.916291   \n",
       "DE-LAT-TNC.TA.PAT408_PM5.2020-04-11  0.287682  0.510826  0.336472  0.324496   \n",
       "DE-LAT.TA.LAT416_PM1.2020-04-11         1.004  0.980829   1.62706  0.980829   \n",
       "DE-PAT-BE.TA.PAT430_PM4.2020-04-11   0.287682         0   1.50408  0.693147   \n",
       "\n",
       "                                           16        17        18        19  \n",
       "DE-PAT-FTA.TA.LAT426_PM3.2020-02-11  0.405465  0.405465  0.405465         0  \n",
       "DE-PAT-FTA.TA.LAT426_PM3.2020-03-12         0         0         0         0  \n",
       "DE-LAT-TNC.TA.PAT408_PM5.2020-04-11  0.312375  0.300105  0.287682  0.510826  \n",
       "DE-LAT.TA.LAT416_PM1.2020-04-11      0.847298  0.510826   1.23296  0.929536  \n",
       "DE-PAT-BE.TA.PAT430_PM4.2020-04-11          0  0.955511         0   0.81093  "
      ]
     },
     "execution_count": 58,
     "metadata": {},
     "output_type": "execute_result"
    }
   ],
   "source": [
    "sta.head()"
   ]
  },
  {
   "cell_type": "code",
   "execution_count": 61,
   "metadata": {},
   "outputs": [
    {
     "data": {
      "text/html": [
       "<div>\n",
       "<style scoped>\n",
       "    .dataframe tbody tr th:only-of-type {\n",
       "        vertical-align: middle;\n",
       "    }\n",
       "\n",
       "    .dataframe tbody tr th {\n",
       "        vertical-align: top;\n",
       "    }\n",
       "\n",
       "    .dataframe thead th {\n",
       "        text-align: right;\n",
       "    }\n",
       "</style>\n",
       "<table border=\"1\" class=\"dataframe\">\n",
       "  <thead>\n",
       "    <tr style=\"text-align: right;\">\n",
       "      <th></th>\n",
       "      <th>0</th>\n",
       "      <th>1</th>\n",
       "      <th>2</th>\n",
       "      <th>3</th>\n",
       "      <th>4</th>\n",
       "      <th>5</th>\n",
       "      <th>6</th>\n",
       "      <th>7</th>\n",
       "      <th>8</th>\n",
       "      <th>9</th>\n",
       "      <th>...</th>\n",
       "      <th>11</th>\n",
       "      <th>12</th>\n",
       "      <th>13</th>\n",
       "      <th>14</th>\n",
       "      <th>15</th>\n",
       "      <th>16</th>\n",
       "      <th>17</th>\n",
       "      <th>18</th>\n",
       "      <th>19</th>\n",
       "      <th>is_dirty</th>\n",
       "    </tr>\n",
       "    <tr>\n",
       "      <th>key</th>\n",
       "      <th></th>\n",
       "      <th></th>\n",
       "      <th></th>\n",
       "      <th></th>\n",
       "      <th></th>\n",
       "      <th></th>\n",
       "      <th></th>\n",
       "      <th></th>\n",
       "      <th></th>\n",
       "      <th></th>\n",
       "      <th></th>\n",
       "      <th></th>\n",
       "      <th></th>\n",
       "      <th></th>\n",
       "      <th></th>\n",
       "      <th></th>\n",
       "      <th></th>\n",
       "      <th></th>\n",
       "      <th></th>\n",
       "      <th></th>\n",
       "      <th></th>\n",
       "    </tr>\n",
       "  </thead>\n",
       "  <tbody>\n",
       "    <tr>\n",
       "      <th>DE-PAT-FTA.TA.LAT426_PM3.2020-02-11</th>\n",
       "      <td>1.76766</td>\n",
       "      <td>1.74297</td>\n",
       "      <td>1.71765</td>\n",
       "      <td>1.69168</td>\n",
       "      <td>1.66501</td>\n",
       "      <td>1.63761</td>\n",
       "      <td>1.60944</td>\n",
       "      <td>1.47908</td>\n",
       "      <td>1.32914</td>\n",
       "      <td>1.15268</td>\n",
       "      <td>...</td>\n",
       "      <td>0.664976</td>\n",
       "      <td>0.287682</td>\n",
       "      <td>0.693147</td>\n",
       "      <td>0.510826</td>\n",
       "      <td>0.287682</td>\n",
       "      <td>0.405465</td>\n",
       "      <td>0.405465</td>\n",
       "      <td>0.405465</td>\n",
       "      <td>0</td>\n",
       "      <td>0</td>\n",
       "    </tr>\n",
       "    <tr>\n",
       "      <th>DE-PAT-FTA.TA.LAT426_PM3.2020-03-12</th>\n",
       "      <td>0.93827</td>\n",
       "      <td>0.664976</td>\n",
       "      <td>0.287682</td>\n",
       "      <td>0.693147</td>\n",
       "      <td>0.287682</td>\n",
       "      <td>0</td>\n",
       "      <td>0.693147</td>\n",
       "      <td>0</td>\n",
       "      <td>0.693147</td>\n",
       "      <td>0</td>\n",
       "      <td>...</td>\n",
       "      <td>1.38629</td>\n",
       "      <td>0.693147</td>\n",
       "      <td>0.693147</td>\n",
       "      <td>0.693147</td>\n",
       "      <td>0.916291</td>\n",
       "      <td>0</td>\n",
       "      <td>0</td>\n",
       "      <td>0</td>\n",
       "      <td>0</td>\n",
       "      <td>0</td>\n",
       "    </tr>\n",
       "    <tr>\n",
       "      <th>DE-LAT-TNC.TA.PAT408_PM5.2020-04-11</th>\n",
       "      <td>0.405465</td>\n",
       "      <td>0.367725</td>\n",
       "      <td>0.550046</td>\n",
       "      <td>0.405465</td>\n",
       "      <td>0.510826</td>\n",
       "      <td>0.847298</td>\n",
       "      <td>0.287682</td>\n",
       "      <td>0.154151</td>\n",
       "      <td>0.287682</td>\n",
       "      <td>0</td>\n",
       "      <td>...</td>\n",
       "      <td>0.510826</td>\n",
       "      <td>0.287682</td>\n",
       "      <td>0.510826</td>\n",
       "      <td>0.336472</td>\n",
       "      <td>0.324496</td>\n",
       "      <td>0.312375</td>\n",
       "      <td>0.300105</td>\n",
       "      <td>0.287682</td>\n",
       "      <td>0.510826</td>\n",
       "      <td>0</td>\n",
       "    </tr>\n",
       "    <tr>\n",
       "      <th>DE-LAT.TA.LAT416_PM1.2020-04-11</th>\n",
       "      <td>1.04145</td>\n",
       "      <td>0.693147</td>\n",
       "      <td>1.09861</td>\n",
       "      <td>0.77319</td>\n",
       "      <td>1.17294</td>\n",
       "      <td>1.45775</td>\n",
       "      <td>1.01592</td>\n",
       "      <td>1.20397</td>\n",
       "      <td>0.510826</td>\n",
       "      <td>0.980829</td>\n",
       "      <td>...</td>\n",
       "      <td>1.23676</td>\n",
       "      <td>1.004</td>\n",
       "      <td>0.980829</td>\n",
       "      <td>1.62706</td>\n",
       "      <td>0.980829</td>\n",
       "      <td>0.847298</td>\n",
       "      <td>0.510826</td>\n",
       "      <td>1.23296</td>\n",
       "      <td>0.929536</td>\n",
       "      <td>0</td>\n",
       "    </tr>\n",
       "    <tr>\n",
       "      <th>DE-PAT-BE.TA.PAT430_PM4.2020-04-11</th>\n",
       "      <td>0</td>\n",
       "      <td>0</td>\n",
       "      <td>0</td>\n",
       "      <td>0</td>\n",
       "      <td>0.405465</td>\n",
       "      <td>0.693147</td>\n",
       "      <td>0</td>\n",
       "      <td>0</td>\n",
       "      <td>0</td>\n",
       "      <td>0.76214</td>\n",
       "      <td>...</td>\n",
       "      <td>0.510826</td>\n",
       "      <td>0.287682</td>\n",
       "      <td>0</td>\n",
       "      <td>1.50408</td>\n",
       "      <td>0.693147</td>\n",
       "      <td>0</td>\n",
       "      <td>0.955511</td>\n",
       "      <td>0</td>\n",
       "      <td>0.81093</td>\n",
       "      <td>0</td>\n",
       "    </tr>\n",
       "  </tbody>\n",
       "</table>\n",
       "<p>5 rows × 21 columns</p>\n",
       "</div>"
      ],
      "text/plain": [
       "                                            0         1         2         3  \\\n",
       "key                                                                           \n",
       "DE-PAT-FTA.TA.LAT426_PM3.2020-02-11   1.76766   1.74297   1.71765   1.69168   \n",
       "DE-PAT-FTA.TA.LAT426_PM3.2020-03-12   0.93827  0.664976  0.287682  0.693147   \n",
       "DE-LAT-TNC.TA.PAT408_PM5.2020-04-11  0.405465  0.367725  0.550046  0.405465   \n",
       "DE-LAT.TA.LAT416_PM1.2020-04-11       1.04145  0.693147   1.09861   0.77319   \n",
       "DE-PAT-BE.TA.PAT430_PM4.2020-04-11          0         0         0         0   \n",
       "\n",
       "                                            4         5         6         7  \\\n",
       "key                                                                           \n",
       "DE-PAT-FTA.TA.LAT426_PM3.2020-02-11   1.66501   1.63761   1.60944   1.47908   \n",
       "DE-PAT-FTA.TA.LAT426_PM3.2020-03-12  0.287682         0  0.693147         0   \n",
       "DE-LAT-TNC.TA.PAT408_PM5.2020-04-11  0.510826  0.847298  0.287682  0.154151   \n",
       "DE-LAT.TA.LAT416_PM1.2020-04-11       1.17294   1.45775   1.01592   1.20397   \n",
       "DE-PAT-BE.TA.PAT430_PM4.2020-04-11   0.405465  0.693147         0         0   \n",
       "\n",
       "                                            8         9  ...        11  \\\n",
       "key                                                      ...             \n",
       "DE-PAT-FTA.TA.LAT426_PM3.2020-02-11   1.32914   1.15268  ...  0.664976   \n",
       "DE-PAT-FTA.TA.LAT426_PM3.2020-03-12  0.693147         0  ...   1.38629   \n",
       "DE-LAT-TNC.TA.PAT408_PM5.2020-04-11  0.287682         0  ...  0.510826   \n",
       "DE-LAT.TA.LAT416_PM1.2020-04-11      0.510826  0.980829  ...   1.23676   \n",
       "DE-PAT-BE.TA.PAT430_PM4.2020-04-11          0   0.76214  ...  0.510826   \n",
       "\n",
       "                                           12        13        14        15  \\\n",
       "key                                                                           \n",
       "DE-PAT-FTA.TA.LAT426_PM3.2020-02-11  0.287682  0.693147  0.510826  0.287682   \n",
       "DE-PAT-FTA.TA.LAT426_PM3.2020-03-12  0.693147  0.693147  0.693147  0.916291   \n",
       "DE-LAT-TNC.TA.PAT408_PM5.2020-04-11  0.287682  0.510826  0.336472  0.324496   \n",
       "DE-LAT.TA.LAT416_PM1.2020-04-11         1.004  0.980829   1.62706  0.980829   \n",
       "DE-PAT-BE.TA.PAT430_PM4.2020-04-11   0.287682         0   1.50408  0.693147   \n",
       "\n",
       "                                           16        17        18        19  \\\n",
       "key                                                                           \n",
       "DE-PAT-FTA.TA.LAT426_PM3.2020-02-11  0.405465  0.405465  0.405465         0   \n",
       "DE-PAT-FTA.TA.LAT426_PM3.2020-03-12         0         0         0         0   \n",
       "DE-LAT-TNC.TA.PAT408_PM5.2020-04-11  0.312375  0.300105  0.287682  0.510826   \n",
       "DE-LAT.TA.LAT416_PM1.2020-04-11      0.847298  0.510826   1.23296  0.929536   \n",
       "DE-PAT-BE.TA.PAT430_PM4.2020-04-11          0  0.955511         0   0.81093   \n",
       "\n",
       "                                    is_dirty  \n",
       "key                                           \n",
       "DE-PAT-FTA.TA.LAT426_PM3.2020-02-11        0  \n",
       "DE-PAT-FTA.TA.LAT426_PM3.2020-03-12        0  \n",
       "DE-LAT-TNC.TA.PAT408_PM5.2020-04-11        0  \n",
       "DE-LAT.TA.LAT416_PM1.2020-04-11            0  \n",
       "DE-PAT-BE.TA.PAT430_PM4.2020-04-11         0  \n",
       "\n",
       "[5 rows x 21 columns]"
      ]
     },
     "execution_count": 61,
     "metadata": {},
     "output_type": "execute_result"
    }
   ],
   "source": [
    "os.chdir(camp+'/training_data/figs/dirty')\n",
    "dirtylist = glob.glob('*.png')\n",
    "os.chdir(camp)\n",
    "\n",
    "dirtylist=pd.Series(dirtylist)\n",
    "dirtylist = dirtylist.apply(lambda x: x.split('.png')[0])\n",
    "sta['is_dirty'] =  pd.Series(sta.index).apply(lambda x: (x in dirtylist.values)*1).values\n",
    "sta.head()"
   ]
  },
  {
   "cell_type": "code",
   "execution_count": 62,
   "metadata": {},
   "outputs": [
    {
     "data": {
      "text/plain": [
       "192"
      ]
     },
     "execution_count": 62,
     "metadata": {},
     "output_type": "execute_result"
    }
   ],
   "source": [
    "sta['is_dirty'].sum()"
   ]
  },
  {
   "cell_type": "code",
   "execution_count": 63,
   "metadata": {},
   "outputs": [],
   "source": [
    "sta.to_csv('cleaned_charts_training.csv')"
   ]
  },
  {
   "cell_type": "code",
   "execution_count": 6,
   "metadata": {},
   "outputs": [],
   "source": [
    "entities = ss.ENTITY.unique()\n",
    "for entity in entities:\n",
    "    #entity=entities[0]\n",
    "    sst = ss[ss['ENTITY']==entity]\n",
    "    st = sst[sst['SPC_CHART_SUBSET'] == 'PARTICLE_SIZE=TOTAL_ADDERS']\n",
    "\n",
    "    st=st[['LOT_DATA_COLLECT_DATE', 'CHART_VALUE']]\n",
    "    st=st.rename(columns={'LOT_DATA_COLLECT_DATE': 't', 'CHART_VALUE': 'TA'})\n",
    "    st.index = pd.to_datetime(st.t)\n",
    "    st.drop(['t'], axis=1, inplace = True)\n",
    "    st=st.sort_index()\n",
    "    st=st.resample('3D').mean()\n",
    "    \n",
    "    st=st.interpolate(method='linear')\n",
    "    st=np.log(st+1)\n",
    "    st = st[len(st)-20:]\n",
    "    if len(st)<20: continue\n",
    "    fname = 'TA~'+entity+'~'+dstr\n",
    "    \n",
    "    if 1==2: #don't plot\n",
    "        fig = plt.figure()\n",
    "        ax = fig.add_axes([0.1, 0.1, 0.8, 0.8])\n",
    "        #ax = plt.subplot(111)\n",
    "        ax.plot(st, 'o')\n",
    "        ax.set_xlabel('date')\n",
    "        ax.set_ylabel('TA')\n",
    "        ax.set_xticks(ax.get_xticks()[::3])\n",
    "        #plt.title('title')\n",
    "        ax.legend([entity+': '+dstr])\n",
    "        fig.savefig('figs/'+fname)\n",
    "        plt.close()\n",
    "    "
   ]
  },
  {
   "cell_type": "code",
   "execution_count": 50,
   "metadata": {},
   "outputs": [
    {
     "data": {
      "text/plain": [
       "['LAT.SPC.defect.2020-08-08.csv',\n",
       " 'LAT.SPC.defect.2020-11-06.csv',\n",
       " 'LAT.SPC.defect.2021-01-06.csv']"
      ]
     },
     "execution_count": 50,
     "metadata": {},
     "output_type": "execute_result"
    }
   ],
   "source": [
    "csvs"
   ]
  },
  {
   "cell_type": "code",
   "execution_count": 85,
   "metadata": {},
   "outputs": [
    {
     "data": {
      "text/plain": [
       "[<matplotlib.lines.Line2D at 0x2aff9b2d518>]"
      ]
     },
     "execution_count": 85,
     "metadata": {},
     "output_type": "execute_result"
    },
    {
     "data": {
      "image/png": "[encoded data removed]",
      "text/plain": [
       "<Figure size 432x288 with 1 Axes>"
      ]
     },
     "metadata": {
      "needs_background": "light"
     },
     "output_type": "display_data"
    }
   ],
   "source": [
    "entities = ss.ENTITY.unique()\n",
    "entity='PAT418_PM1'\n",
    "sst = ss[ss['ENTITY']==entity]\n",
    "st = sst[sst['SPC_CHART_SUBSET'] == 'PARTICLE_SIZE=TOTAL_ADDERS']\n",
    "\n",
    "st=st[['LOT_DATA_COLLECT_DATE', 'CHART_VALUE']]\n",
    "st=st.rename(columns={'LOT_DATA_COLLECT_DATE': 't', 'CHART_VALUE': 'TA'})\n",
    "st.index = pd.to_datetime(st.t)\n",
    "st.drop(['t'], axis=1, inplace = True)\n",
    "st=st.sort_index()\n",
    "st=st.resample('1D').mean()\n",
    "st=st.interpolate(method='linear')\n",
    "#st=np.log(st+1)\n",
    "#st = st[len(st)-60:]\n",
    "plt.plot(st,'o')"
   ]
  },
  {
   "cell_type": "code",
   "execution_count": 43,
   "metadata": {
    "scrolled": true
   },
   "outputs": [],
   "source": [
    "    entity='PAT414_PM1'\n",
    "    sst = ss[ss['ENTITY']==entity]\n",
    "    st = sst[sst['SPC_CHART_SUBSET'] == 'PARTICLE_SIZE=TOTAL_ADDERS']\n",
    "\n",
    "    st=st[['LOT_DATA_COLLECT_DATE', 'CHART_VALUE']]\n",
    "    st=st.rename(columns={'LOT_DATA_COLLECT_DATE': 't', 'CHART_VALUE': 'TA'})\n",
    "    st.index = pd.to_datetime(st.t)\n",
    "    st.drop(['t'], axis=1, inplace = True)\n",
    "    st=st.sort_index()\n",
    "    st=st.resample('3D').mean()\n",
    "    \n",
    "    st=st.interpolate(method='linear')\n",
    "    st=np.log(st+1)\n",
    "    st = st[len(st)-20:]"
   ]
  },
  {
   "cell_type": "code",
   "execution_count": null,
   "metadata": {},
   "outputs": [],
   "source": []
  },
  {
   "cell_type": "code",
   "execution_count": 97,
   "metadata": {
    "scrolled": true
   },
   "outputs": [
    {
     "data": {
      "text/html": [
       "<div>\n",
       "<style scoped>\n",
       "    .dataframe tbody tr th:only-of-type {\n",
       "        vertical-align: middle;\n",
       "    }\n",
       "\n",
       "    .dataframe tbody tr th {\n",
       "        vertical-align: top;\n",
       "    }\n",
       "\n",
       "    .dataframe thead th {\n",
       "        text-align: right;\n",
       "    }\n",
       "</style>\n",
       "<table border=\"1\" class=\"dataframe\">\n",
       "  <thead>\n",
       "    <tr style=\"text-align: right;\">\n",
       "      <th></th>\n",
       "      <th>0</th>\n",
       "      <th>1</th>\n",
       "      <th>2</th>\n",
       "      <th>3</th>\n",
       "      <th>4</th>\n",
       "      <th>5</th>\n",
       "      <th>6</th>\n",
       "      <th>7</th>\n",
       "      <th>8</th>\n",
       "      <th>9</th>\n",
       "      <th>10</th>\n",
       "      <th>11</th>\n",
       "      <th>12</th>\n",
       "      <th>13</th>\n",
       "      <th>14</th>\n",
       "      <th>15</th>\n",
       "      <th>16</th>\n",
       "      <th>17</th>\n",
       "      <th>18</th>\n",
       "      <th>19</th>\n",
       "    </tr>\n",
       "  </thead>\n",
       "  <tbody>\n",
       "    <tr>\n",
       "      <th>0</th>\n",
       "      <td>0.980829</td>\n",
       "      <td>0.916291</td>\n",
       "      <td>0.847298</td>\n",
       "      <td>0.785929</td>\n",
       "      <td>0.720546</td>\n",
       "      <td>0.650588</td>\n",
       "      <td>0.873731</td>\n",
       "      <td>1.05605</td>\n",
       "      <td>0.74392</td>\n",
       "      <td>0.287682</td>\n",
       "      <td>0.510826</td>\n",
       "      <td>0.693147</td>\n",
       "      <td>0.77319</td>\n",
       "      <td>0.847298</td>\n",
       "      <td>0.847298</td>\n",
       "      <td>0.847298</td>\n",
       "      <td>0.847298</td>\n",
       "      <td>0.847298</td>\n",
       "      <td>0.847298</td>\n",
       "      <td>0.847298</td>\n",
       "    </tr>\n",
       "  </tbody>\n",
       "</table>\n",
       "</div>"
      ],
      "text/plain": [
       "         0         1         2         3         4         5         6   \\\n",
       "0  0.980829  0.916291  0.847298  0.785929  0.720546  0.650588  0.873731   \n",
       "\n",
       "        7        8         9         10        11       12        13  \\\n",
       "0  1.05605  0.74392  0.287682  0.510826  0.693147  0.77319  0.847298   \n",
       "\n",
       "         14        15        16        17        18        19  \n",
       "0  0.847298  0.847298  0.847298  0.847298  0.847298  0.847298  "
      ]
     },
     "execution_count": 97,
     "metadata": {},
     "output_type": "execute_result"
    }
   ],
   "source": [
    "st.reset_index().T.drop('t').reset_index(drop=True)"
   ]
  },
  {
   "cell_type": "code",
   "execution_count": 75,
   "metadata": {},
   "outputs": [
    {
     "data": {
      "text/plain": [
       "40341"
      ]
     },
     "execution_count": 75,
     "metadata": {},
     "output_type": "execute_result"
    }
   ],
   "source": [
    "ssd = pd.DataFrame(index: np)"
   ]
  },
  {
   "cell_type": "code",
   "execution_count": 9,
   "metadata": {},
   "outputs": [
    {
     "name": "stdout",
     "output_type": "stream",
     "text": [
      "figs/LAT01_PM2-2021-02-27\n"
     ]
    }
   ],
   "source": [
    "fname = 'figs/'+entity+'-'+dstr\n",
    "print(fname)"
   ]
  },
  {
   "cell_type": "code",
   "execution_count": 61,
   "metadata": {},
   "outputs": [
    {
     "data": {
      "text/plain": [
       "60"
      ]
     },
     "execution_count": 61,
     "metadata": {},
     "output_type": "execute_result"
    }
   ],
   "source": [
    "len(st)"
   ]
  },
  {
   "cell_type": "code",
   "execution_count": 63,
   "metadata": {},
   "outputs": [
    {
     "data": {
      "image/png": "[encoded data removed]",
      "text/plain": [
       "<Figure size 432x288 with 1 Axes>"
      ]
     },
     "metadata": {
      "needs_background": "light"
     },
     "output_type": "display_data"
    }
   ],
   "source": [
    "fig = plt.figure()\n",
    "ax = fig.add_axes([0.1, 0.1, 0.8, 0.8])\n",
    "#ax = plt.subplot(111)\n",
    "ax.plot(st, 'o')\n",
    "ax.set_xlabel('date')\n",
    "ax.set_ylabel('TA')\n",
    "ax.set_xticks(ax.get_xticks()[::3])\n",
    "#plt.title('title')\n",
    "ax.legend([entity+': '+dstr])\n",
    "fig.savefig(fname)"
   ]
  },
  {
   "cell_type": "code",
   "execution_count": 16,
   "metadata": {},
   "outputs": [],
   "source": []
  },
  {
   "cell_type": "code",
   "execution_count": 74,
   "metadata": {},
   "outputs": [
    {
     "data": {
      "text/plain": [
       "20"
      ]
     },
     "execution_count": 74,
     "metadata": {},
     "output_type": "execute_result"
    }
   ],
   "source": [
    "len(st)"
   ]
  },
  {
   "cell_type": "code",
   "execution_count": 34,
   "metadata": {},
   "outputs": [],
   "source": [
    "stl=np.log(st+1)"
   ]
  },
  {
   "cell_type": "code",
   "execution_count": 30,
   "metadata": {},
   "outputs": [
    {
     "data": {
      "text/html": [
       "<div>\n",
       "<style scoped>\n",
       "    .dataframe tbody tr th:only-of-type {\n",
       "        vertical-align: middle;\n",
       "    }\n",
       "\n",
       "    .dataframe tbody tr th {\n",
       "        vertical-align: top;\n",
       "    }\n",
       "\n",
       "    .dataframe thead th {\n",
       "        text-align: right;\n",
       "    }\n",
       "</style>\n",
       "<table border=\"1\" class=\"dataframe\">\n",
       "  <thead>\n",
       "    <tr style=\"text-align: right;\">\n",
       "      <th></th>\n",
       "      <th>TA</th>\n",
       "    </tr>\n",
       "    <tr>\n",
       "      <th>t</th>\n",
       "      <th></th>\n",
       "    </tr>\n",
       "  </thead>\n",
       "  <tbody>\n",
       "    <tr>\n",
       "      <th>2020-11-30 01:29:24</th>\n",
       "      <td>0.095310</td>\n",
       "    </tr>\n",
       "    <tr>\n",
       "      <th>2020-12-01 18:32:22</th>\n",
       "      <td>0.095310</td>\n",
       "    </tr>\n",
       "    <tr>\n",
       "      <th>2020-12-03 05:33:50</th>\n",
       "      <td>-2.302585</td>\n",
       "    </tr>\n",
       "    <tr>\n",
       "      <th>2020-12-04 15:27:30</th>\n",
       "      <td>5.242276</td>\n",
       "    </tr>\n",
       "    <tr>\n",
       "      <th>2020-12-04 17:08:23</th>\n",
       "      <td>0.741937</td>\n",
       "    </tr>\n",
       "    <tr>\n",
       "      <th>...</th>\n",
       "      <td>...</td>\n",
       "    </tr>\n",
       "    <tr>\n",
       "      <th>2021-02-15 18:21:31</th>\n",
       "      <td>-2.302585</td>\n",
       "    </tr>\n",
       "    <tr>\n",
       "      <th>2021-02-18 04:22:51</th>\n",
       "      <td>-2.302585</td>\n",
       "    </tr>\n",
       "    <tr>\n",
       "      <th>2021-02-20 15:57:45</th>\n",
       "      <td>-2.302585</td>\n",
       "    </tr>\n",
       "    <tr>\n",
       "      <th>2021-02-23 03:06:25</th>\n",
       "      <td>-2.302585</td>\n",
       "    </tr>\n",
       "    <tr>\n",
       "      <th>2021-02-25 15:26:00</th>\n",
       "      <td>0.741937</td>\n",
       "    </tr>\n",
       "  </tbody>\n",
       "</table>\n",
       "<p>98 rows × 1 columns</p>\n",
       "</div>"
      ],
      "text/plain": [
       "                           TA\n",
       "t                            \n",
       "2020-11-30 01:29:24  0.095310\n",
       "2020-12-01 18:32:22  0.095310\n",
       "2020-12-03 05:33:50 -2.302585\n",
       "2020-12-04 15:27:30  5.242276\n",
       "2020-12-04 17:08:23  0.741937\n",
       "...                       ...\n",
       "2021-02-15 18:21:31 -2.302585\n",
       "2021-02-18 04:22:51 -2.302585\n",
       "2021-02-20 15:57:45 -2.302585\n",
       "2021-02-23 03:06:25 -2.302585\n",
       "2021-02-25 15:26:00  0.741937\n",
       "\n",
       "[98 rows x 1 columns]"
      ]
     },
     "execution_count": 30,
     "metadata": {},
     "output_type": "execute_result"
    }
   ],
   "source": [
    "st"
   ]
  },
  {
   "cell_type": "code",
   "execution_count": 88,
   "metadata": {},
   "outputs": [
    {
     "data": {
      "text/plain": [
       "array([[0.98082925, 0.91629073, 0.84729786, 0.78592891, 0.72054615,\n",
       "        0.65058757, 0.87373112, 1.05605267, 0.74391951, 0.28768207,\n",
       "        0.51082562, 0.69314718, 0.77318989, 0.84729786, 0.84729786,\n",
       "        0.84729786, 0.84729786, 0.84729786, 0.84729786, 0.84729786]])"
      ]
     },
     "execution_count": 88,
     "metadata": {},
     "output_type": "execute_result"
    }
   ],
   "source": [
    "st.values.T"
   ]
  },
  {
   "cell_type": "code",
   "execution_count": 42,
   "metadata": {},
   "outputs": [
    {
     "data": {
      "text/plain": [
       "[<matplotlib.lines.Line2D at 0x2afeec13be0>]"
      ]
     },
     "execution_count": 42,
     "metadata": {},
     "output_type": "execute_result"
    },
    {
     "data": {
      "image/png": "[encoded data removed]",
      "text/plain": [
       "<Figure size 432x288 with 1 Axes>"
      ]
     },
     "metadata": {
      "needs_background": "light"
     },
     "output_type": "display_data"
    }
   ],
   "source": [
    "plt.plot(st,'o')"
   ]
  },
  {
   "cell_type": "code",
   "execution_count": 8,
   "metadata": {},
   "outputs": [
    {
     "name": "stdout",
     "output_type": "stream",
     "text": [
      "2020-12-03\n"
     ]
    }
   ],
   "source": []
  },
  {
   "cell_type": "code",
   "execution_count": 15,
   "metadata": {},
   "outputs": [
    {
     "data": {
      "text/plain": [
       "'PAT470_PM5'"
      ]
     },
     "execution_count": 15,
     "metadata": {},
     "output_type": "execute_result"
    }
   ],
   "source": [
    "fname.split('~')[1]"
   ]
  },
  {
   "cell_type": "code",
   "execution_count": 10,
   "metadata": {},
   "outputs": [
    {
     "data": {
      "text/plain": [
       "142.25"
      ]
     },
     "execution_count": 10,
     "metadata": {},
     "output_type": "execute_result"
    }
   ],
   "source": [
    "569/4"
   ]
  },
  {
   "cell_type": "code",
   "execution_count": 18,
   "metadata": {},
   "outputs": [
    {
     "data": {
      "text/plain": [
       "9523"
      ]
     },
     "execution_count": 18,
     "metadata": {},
     "output_type": "execute_result"
    }
   ],
   "source": [
    "taa = ss[ss['SPC_CHART_SUBSET'] == 'PARTICLE_SIZE=TOTAL_ADDERS']\n",
    "taa=taa[['LOT_DATA_COLLECT_DATE', 'CHART_VALUE']]\n",
    "taa=taa.rename(columns={'LOT_DATA_COLLECT_DATE': 't', 'CHART_VALUE': 'TA'})\n",
    "taa.index = pd.to_datetime(taa.t)\n",
    "taa.drop(['t'], axis=1, inplace = True)\n",
    "len(taa)\n",
    "from scipy import stats\n",
    "taac = taa[(np.abs(stats.zscore(taa)) < 3)]\n",
    "#taa[(np.abs(stats.zscore(taa)) < 3)]"
   ]
  },
  {
   "cell_type": "code",
   "execution_count": 21,
   "metadata": {},
   "outputs": [],
   "source": [
    "from scipy import stats\n",
    "taac = taa[(np.abs(stats.zscore(taa)) < 3)]"
   ]
  },
  {
   "cell_type": "code",
   "execution_count": 22,
   "metadata": {},
   "outputs": [
    {
     "data": {
      "text/plain": [
       "9492"
      ]
     },
     "execution_count": 22,
     "metadata": {},
     "output_type": "execute_result"
    }
   ],
   "source": [
    "len(taac)"
   ]
  },
  {
   "cell_type": "code",
   "execution_count": 23,
   "metadata": {},
   "outputs": [
    {
     "data": {
      "text/plain": [
       "TA    3.69645\n",
       "dtype: float64"
      ]
     },
     "execution_count": 23,
     "metadata": {},
     "output_type": "execute_result"
    }
   ],
   "source": [
    "taac.mean()"
   ]
  },
  {
   "cell_type": "code",
   "execution_count": 24,
   "metadata": {},
   "outputs": [
    {
     "data": {
      "text/plain": [
       "TA    802.0\n",
       "dtype: float64"
      ]
     },
     "execution_count": 24,
     "metadata": {},
     "output_type": "execute_result"
    }
   ],
   "source": [
    "taac.max()"
   ]
  },
  {
   "cell_type": "code",
   "execution_count": 25,
   "metadata": {},
   "outputs": [
    {
     "data": {
      "text/plain": [
       "9523"
      ]
     },
     "execution_count": 25,
     "metadata": {},
     "output_type": "execute_result"
    }
   ],
   "source": [
    "len(taa)"
   ]
  },
  {
   "cell_type": "code",
   "execution_count": 26,
   "metadata": {},
   "outputs": [
    {
     "data": {
      "text/plain": [
       "TA    11.597644\n",
       "dtype: float64"
      ]
     },
     "execution_count": 26,
     "metadata": {},
     "output_type": "execute_result"
    }
   ],
   "source": [
    "taa.mean()"
   ]
  },
  {
   "cell_type": "code",
   "execution_count": 35,
   "metadata": {},
   "outputs": [
    {
     "data": {
      "text/plain": [
       "9453"
      ]
     },
     "execution_count": 35,
     "metadata": {},
     "output_type": "execute_result"
    }
   ],
   "source": [
    "taac = taa[(np.abs(stats.zscore(taa)) < 0.5)]\n",
    "len(taac)"
   ]
  },
  {
   "cell_type": "code",
   "execution_count": 36,
   "metadata": {},
   "outputs": [
    {
     "data": {
      "text/plain": [
       "TA    2.425272\n",
       "dtype: float64"
      ]
     },
     "execution_count": 36,
     "metadata": {},
     "output_type": "execute_result"
    }
   ],
   "source": [
    "taac.mean()"
   ]
  },
  {
   "cell_type": "code",
   "execution_count": 38,
   "metadata": {},
   "outputs": [
    {
     "data": {
      "text/plain": [
       "TA    150.0\n",
       "dtype: float64"
      ]
     },
     "execution_count": 38,
     "metadata": {},
     "output_type": "execute_result"
    }
   ],
   "source": [
    "taac.max()"
   ]
  },
  {
   "cell_type": "markdown",
   "metadata": {},
   "source": [
    "#LEARNING\n",
    "\n",
    "Try both \n",
    "1. LSTM (recurrent, for sequential data)\n",
    "2. Conv1D (image processing)\n"
   ]
  },
  {
   "cell_type": "code",
   "execution_count": 60,
   "metadata": {},
   "outputs": [],
   "source": [
    "import keras\n",
    "from keras.layers import Activation, Dense, Conv1D, LSTM"
   ]
  },
  {
   "cell_type": "code",
   "execution_count": 69,
   "metadata": {},
   "outputs": [],
   "source": [
    "model = keras.models.Sequential()"
   ]
  },
  {
   "cell_type": "code",
   "execution_count": 72,
   "metadata": {},
   "outputs": [],
   "source": [
    "model.add(LSTM(64))\n",
    "model.add(LSTM(32))\n",
    "model.add(LSTM(16))\n",
    "model.add(LSTM(8))\n",
    "model.add(LSTM(4))\n",
    "model.add(LSTM(2))\n",
    "#model.add(Activation('relu'))"
   ]
  },
  {
   "cell_type": "markdown",
   "metadata": {},
   "source": [
    "model.add(Conv1D(32, kernel_size=3))\n",
    "model.add(Activation('relu'))"
   ]
  },
  {
   "cell_type": "markdown",
   "metadata": {},
   "source": [
    "model.add(Dense(32, input_dim=20))\n",
    "\n",
    "model.add(Activation('relu'))"
   ]
  },
  {
   "cell_type": "code",
   "execution_count": 73,
   "metadata": {},
   "outputs": [],
   "source": [
    "model.add(Dense(1))"
   ]
  },
  {
   "cell_type": "code",
   "execution_count": 74,
   "metadata": {},
   "outputs": [
    {
     "data": {
      "text/plain": [
       "[<keras.layers.recurrent.LSTM at 0x16fa2442da0>,\n",
       " <keras.layers.recurrent.LSTM at 0x16fa25587f0>,\n",
       " <keras.layers.recurrent.LSTM at 0x16fa25587b8>,\n",
       " <keras.layers.recurrent.LSTM at 0x16fa2558a20>,\n",
       " <keras.layers.recurrent.LSTM at 0x16fa2558c18>,\n",
       " <keras.layers.recurrent.LSTM at 0x16fa2558e10>,\n",
       " <keras.layers.recurrent.LSTM at 0x16fa255b048>,\n",
       " <keras.layers.core.Dense at 0x16fa25580b8>]"
      ]
     },
     "execution_count": 74,
     "metadata": {},
     "output_type": "execute_result"
    }
   ],
   "source": [
    "model.layers"
   ]
  },
  {
   "cell_type": "code",
   "execution_count": 103,
   "metadata": {},
   "outputs": [
    {
     "data": {
      "text/html": [
       "<div>\n",
       "<style scoped>\n",
       "    .dataframe tbody tr th:only-of-type {\n",
       "        vertical-align: middle;\n",
       "    }\n",
       "\n",
       "    .dataframe tbody tr th {\n",
       "        vertical-align: top;\n",
       "    }\n",
       "\n",
       "    .dataframe thead th {\n",
       "        text-align: right;\n",
       "    }\n",
       "</style>\n",
       "<table border=\"1\" class=\"dataframe\">\n",
       "  <thead>\n",
       "    <tr style=\"text-align: right;\">\n",
       "      <th></th>\n",
       "      <th>0</th>\n",
       "      <th>1</th>\n",
       "      <th>2</th>\n",
       "      <th>3</th>\n",
       "      <th>4</th>\n",
       "      <th>5</th>\n",
       "      <th>6</th>\n",
       "      <th>7</th>\n",
       "      <th>8</th>\n",
       "      <th>9</th>\n",
       "      <th>10</th>\n",
       "      <th>11</th>\n",
       "      <th>12</th>\n",
       "      <th>13</th>\n",
       "      <th>14</th>\n",
       "      <th>15</th>\n",
       "      <th>16</th>\n",
       "      <th>17</th>\n",
       "      <th>18</th>\n",
       "      <th>19</th>\n",
       "    </tr>\n",
       "  </thead>\n",
       "  <tbody>\n",
       "    <tr>\n",
       "      <th>TA~PAT414_PM1~2020-12-03</th>\n",
       "      <td>0.980829</td>\n",
       "      <td>0.916291</td>\n",
       "      <td>0.847298</td>\n",
       "      <td>0.785929</td>\n",
       "      <td>0.720546</td>\n",
       "      <td>0.650588</td>\n",
       "      <td>0.873731</td>\n",
       "      <td>1.05605</td>\n",
       "      <td>0.74392</td>\n",
       "      <td>0.287682</td>\n",
       "      <td>0.510826</td>\n",
       "      <td>0.693147</td>\n",
       "      <td>0.77319</td>\n",
       "      <td>0.847298</td>\n",
       "      <td>0.847298</td>\n",
       "      <td>0.847298</td>\n",
       "      <td>0.847298</td>\n",
       "      <td>0.847298</td>\n",
       "      <td>0.847298</td>\n",
       "      <td>0.847298</td>\n",
       "    </tr>\n",
       "  </tbody>\n",
       "</table>\n",
       "</div>"
      ],
      "text/plain": [
       "                                0         1         2         3         4   \\\n",
       "TA~PAT414_PM1~2020-12-03  0.980829  0.916291  0.847298  0.785929  0.720546   \n",
       "\n",
       "                                5         6        7        8         9   \\\n",
       "TA~PAT414_PM1~2020-12-03  0.650588  0.873731  1.05605  0.74392  0.287682   \n",
       "\n",
       "                                10        11       12        13        14  \\\n",
       "TA~PAT414_PM1~2020-12-03  0.510826  0.693147  0.77319  0.847298  0.847298   \n",
       "\n",
       "                                15        16        17        18        19  \n",
       "TA~PAT414_PM1~2020-12-03  0.847298  0.847298  0.847298  0.847298  0.847298  "
      ]
     },
     "execution_count": 103,
     "metadata": {},
     "output_type": "execute_result"
    }
   ],
   "source": [
    "st.reset_index().T.drop('t')"
   ]
  },
  {
   "cell_type": "code",
   "execution_count": 109,
   "metadata": {},
   "outputs": [],
   "source": [
    "entity='PAT414_PM1'\n",
    "fname = 'TA~'+entity+'~'+dstr\n",
    "sst = ss[ss['ENTITY']==entity]\n",
    "st = sst[sst['SPC_CHART_SUBSET'] == 'PARTICLE_SIZE=TOTAL_ADDERS']\n",
    "\n",
    "st=st[['LOT_DATA_COLLECT_DATE', 'CHART_VALUE']]\n",
    "st=st.rename(columns={'LOT_DATA_COLLECT_DATE': 't', 'CHART_VALUE': fname})\n",
    "st.index = pd.to_datetime(st.t)\n",
    "st.drop(['t'], axis=1, inplace = True)\n",
    "st=st.sort_index()\n",
    "st=st.resample('3D').mean()\n",
    "\n",
    "st=st.interpolate(method='linear')\n",
    "st=np.log(st+1)\n",
    "st = st[len(st)-20:]"
   ]
  },
  {
   "cell_type": "code",
   "execution_count": 105,
   "metadata": {},
   "outputs": [
    {
     "name": "stdout",
     "output_type": "stream",
     "text": [
      "True\n"
     ]
    }
   ],
   "source": [
    "sta=pd.DataFrame()\n",
    "if sta.empty:\n",
    "    print(True)"
   ]
  },
  {
   "cell_type": "code",
   "execution_count": null,
   "metadata": {},
   "outputs": [],
   "source": []
  },
  {
   "cell_type": "code",
   "execution_count": 121,
   "metadata": {},
   "outputs": [],
   "source": [
    "entities = ss.ENTITY.unique()\n",
    "sta=pd.DataFrame()\n",
    "for entity in entities:\n",
    "    #entity=entities[0]\n",
    "    sst = ss[ss['ENTITY']==entity]\n",
    "    st = sst[sst['SPC_CHART_SUBSET'] == 'PARTICLE_SIZE=TOTAL_ADDERS']\n",
    "\n",
    "    st=st[['LOT_DATA_COLLECT_DATE', 'CHART_VALUE']]\n",
    "    st=st.rename(columns={'LOT_DATA_COLLECT_DATE': 't', 'CHART_VALUE': fname})\n",
    "    st.index = pd.to_datetime(st.t)\n",
    "    st.drop(['t'], axis=1, inplace = True)\n",
    "    st=st.sort_index()\n",
    "    st=st.resample('3D').mean()\n",
    "    \n",
    "    st=st.interpolate(method='linear')\n",
    "    st=np.log(st+1)\n",
    "    st = st[len(st)-20:]\n",
    "    if len(st)<20: continue\n",
    "    fname = 'TA.'+entity+'.'+dstr\n",
    "\n",
    "    if 1==1: #don't plot\n",
    "        fig = plt.figure()\n",
    "        ax = fig.add_axes([0.1, 0.1, 0.8, 0.8])\n",
    "        #ax = plt.subplot(111)\n",
    "        ax.plot(st, 'o')\n",
    "        ax.set_xlabel('date')\n",
    "        ax.set_ylabel('TA')\n",
    "        ax.set_xticks(ax.get_xticks()[::3])\n",
    "        #plt.title('title')\n",
    "        ax.legend([entity+': '+dstr])\n",
    "        fig.savefig('figs/'+fname)\n",
    "        plt.close()\n",
    "        st = st.reset_index().T.drop('t')\n",
    "    \n",
    "    st = st.reset_index().T.drop('t')\n",
    "    if sta.empty: sta=st\n",
    "    else: sta = sta.append(st)\n"
   ]
  },
  {
   "cell_type": "code",
   "execution_count": 111,
   "metadata": {},
   "outputs": [],
   "source": [
    "st1 = st.reset_index().T.drop('t')"
   ]
  },
  {
   "cell_type": "code",
   "execution_count": 112,
   "metadata": {},
   "outputs": [],
   "source": [
    "entity='PAT414_PM2'\n",
    "fname = 'TA~'+entity+'~'+dstr\n",
    "sst = ss[ss['ENTITY']==entity]\n",
    "st = sst[sst['SPC_CHART_SUBSET'] == 'PARTICLE_SIZE=TOTAL_ADDERS']\n",
    "\n",
    "st=st[['LOT_DATA_COLLECT_DATE', 'CHART_VALUE']]\n",
    "st=st.rename(columns={'LOT_DATA_COLLECT_DATE': 't', 'CHART_VALUE': fname})\n",
    "st.index = pd.to_datetime(st.t)\n",
    "st.drop(['t'], axis=1, inplace = True)\n",
    "st=st.sort_index()\n",
    "st=st.resample('3D').mean()\n",
    "\n",
    "st=st.interpolate(method='linear')\n",
    "st=np.log(st+1)\n",
    "st = st[len(st)-20:]\n",
    "st2 = st.reset_index().T.drop('t')"
   ]
  },
  {
   "cell_type": "code",
   "execution_count": 113,
   "metadata": {},
   "outputs": [
    {
     "data": {
      "text/html": [
       "<div>\n",
       "<style scoped>\n",
       "    .dataframe tbody tr th:only-of-type {\n",
       "        vertical-align: middle;\n",
       "    }\n",
       "\n",
       "    .dataframe tbody tr th {\n",
       "        vertical-align: top;\n",
       "    }\n",
       "\n",
       "    .dataframe thead th {\n",
       "        text-align: right;\n",
       "    }\n",
       "</style>\n",
       "<table border=\"1\" class=\"dataframe\">\n",
       "  <thead>\n",
       "    <tr style=\"text-align: right;\">\n",
       "      <th></th>\n",
       "      <th>0</th>\n",
       "      <th>1</th>\n",
       "      <th>2</th>\n",
       "      <th>3</th>\n",
       "      <th>4</th>\n",
       "      <th>5</th>\n",
       "      <th>6</th>\n",
       "      <th>7</th>\n",
       "      <th>8</th>\n",
       "      <th>9</th>\n",
       "      <th>10</th>\n",
       "      <th>11</th>\n",
       "      <th>12</th>\n",
       "      <th>13</th>\n",
       "      <th>14</th>\n",
       "      <th>15</th>\n",
       "      <th>16</th>\n",
       "      <th>17</th>\n",
       "      <th>18</th>\n",
       "      <th>19</th>\n",
       "    </tr>\n",
       "  </thead>\n",
       "  <tbody>\n",
       "    <tr>\n",
       "      <th>TA~PAT414_PM1~2020-12-03</th>\n",
       "      <td>0.980829</td>\n",
       "      <td>0.916291</td>\n",
       "      <td>0.847298</td>\n",
       "      <td>0.785929</td>\n",
       "      <td>0.720546</td>\n",
       "      <td>0.650588</td>\n",
       "      <td>0.873731</td>\n",
       "      <td>1.05605</td>\n",
       "      <td>0.74392</td>\n",
       "      <td>0.287682</td>\n",
       "      <td>0.510826</td>\n",
       "      <td>0.693147</td>\n",
       "      <td>0.77319</td>\n",
       "      <td>0.847298</td>\n",
       "      <td>0.847298</td>\n",
       "      <td>0.847298</td>\n",
       "      <td>0.847298</td>\n",
       "      <td>0.847298</td>\n",
       "      <td>0.847298</td>\n",
       "      <td>0.847298</td>\n",
       "    </tr>\n",
       "  </tbody>\n",
       "</table>\n",
       "</div>"
      ],
      "text/plain": [
       "                                0         1         2         3         4   \\\n",
       "TA~PAT414_PM1~2020-12-03  0.980829  0.916291  0.847298  0.785929  0.720546   \n",
       "\n",
       "                                5         6        7        8         9   \\\n",
       "TA~PAT414_PM1~2020-12-03  0.650588  0.873731  1.05605  0.74392  0.287682   \n",
       "\n",
       "                                10        11       12        13        14  \\\n",
       "TA~PAT414_PM1~2020-12-03  0.510826  0.693147  0.77319  0.847298  0.847298   \n",
       "\n",
       "                                15        16        17        18        19  \n",
       "TA~PAT414_PM1~2020-12-03  0.847298  0.847298  0.847298  0.847298  0.847298  "
      ]
     },
     "execution_count": 113,
     "metadata": {},
     "output_type": "execute_result"
    }
   ],
   "source": [
    "st1"
   ]
  },
  {
   "cell_type": "code",
   "execution_count": 114,
   "metadata": {},
   "outputs": [
    {
     "data": {
      "text/html": [
       "<div>\n",
       "<style scoped>\n",
       "    .dataframe tbody tr th:only-of-type {\n",
       "        vertical-align: middle;\n",
       "    }\n",
       "\n",
       "    .dataframe tbody tr th {\n",
       "        vertical-align: top;\n",
       "    }\n",
       "\n",
       "    .dataframe thead th {\n",
       "        text-align: right;\n",
       "    }\n",
       "</style>\n",
       "<table border=\"1\" class=\"dataframe\">\n",
       "  <thead>\n",
       "    <tr style=\"text-align: right;\">\n",
       "      <th></th>\n",
       "      <th>0</th>\n",
       "      <th>1</th>\n",
       "      <th>2</th>\n",
       "      <th>3</th>\n",
       "      <th>4</th>\n",
       "      <th>5</th>\n",
       "      <th>6</th>\n",
       "      <th>7</th>\n",
       "      <th>8</th>\n",
       "      <th>9</th>\n",
       "      <th>10</th>\n",
       "      <th>11</th>\n",
       "      <th>12</th>\n",
       "      <th>13</th>\n",
       "      <th>14</th>\n",
       "      <th>15</th>\n",
       "      <th>16</th>\n",
       "      <th>17</th>\n",
       "      <th>18</th>\n",
       "      <th>19</th>\n",
       "    </tr>\n",
       "  </thead>\n",
       "  <tbody>\n",
       "    <tr>\n",
       "      <th>TA~PAT414_PM2~2020-12-03</th>\n",
       "      <td>0.847298</td>\n",
       "      <td>1.09861</td>\n",
       "      <td>1.29928</td>\n",
       "      <td>1.46634</td>\n",
       "      <td>1.12601</td>\n",
       "      <td>0.606136</td>\n",
       "      <td>1.60944</td>\n",
       "      <td>0.980829</td>\n",
       "      <td>1.06087</td>\n",
       "      <td>1.13498</td>\n",
       "      <td>1.20397</td>\n",
       "      <td>1.34373</td>\n",
       "      <td>1.46634</td>\n",
       "      <td>1.23676</td>\n",
       "      <td>0.93827</td>\n",
       "      <td>0.510826</td>\n",
       "      <td>0.606136</td>\n",
       "      <td>0.693147</td>\n",
       "      <td>0.510826</td>\n",
       "      <td>0.882389</td>\n",
       "    </tr>\n",
       "  </tbody>\n",
       "</table>\n",
       "</div>"
      ],
      "text/plain": [
       "                                0        1        2        3        4   \\\n",
       "TA~PAT414_PM2~2020-12-03  0.847298  1.09861  1.29928  1.46634  1.12601   \n",
       "\n",
       "                                5        6         7        8        9   \\\n",
       "TA~PAT414_PM2~2020-12-03  0.606136  1.60944  0.980829  1.06087  1.13498   \n",
       "\n",
       "                               10       11       12       13       14  \\\n",
       "TA~PAT414_PM2~2020-12-03  1.20397  1.34373  1.46634  1.23676  0.93827   \n",
       "\n",
       "                                15        16        17        18        19  \n",
       "TA~PAT414_PM2~2020-12-03  0.510826  0.606136  0.693147  0.510826  0.882389  "
      ]
     },
     "execution_count": 114,
     "metadata": {},
     "output_type": "execute_result"
    }
   ],
   "source": [
    "st2"
   ]
  },
  {
   "cell_type": "code",
   "execution_count": 115,
   "metadata": {},
   "outputs": [
    {
     "data": {
      "text/html": [
       "<div>\n",
       "<style scoped>\n",
       "    .dataframe tbody tr th:only-of-type {\n",
       "        vertical-align: middle;\n",
       "    }\n",
       "\n",
       "    .dataframe tbody tr th {\n",
       "        vertical-align: top;\n",
       "    }\n",
       "\n",
       "    .dataframe thead th {\n",
       "        text-align: right;\n",
       "    }\n",
       "</style>\n",
       "<table border=\"1\" class=\"dataframe\">\n",
       "  <thead>\n",
       "    <tr style=\"text-align: right;\">\n",
       "      <th></th>\n",
       "      <th>0</th>\n",
       "      <th>1</th>\n",
       "      <th>2</th>\n",
       "      <th>3</th>\n",
       "      <th>4</th>\n",
       "      <th>5</th>\n",
       "      <th>6</th>\n",
       "      <th>7</th>\n",
       "      <th>8</th>\n",
       "      <th>9</th>\n",
       "      <th>10</th>\n",
       "      <th>11</th>\n",
       "      <th>12</th>\n",
       "      <th>13</th>\n",
       "      <th>14</th>\n",
       "      <th>15</th>\n",
       "      <th>16</th>\n",
       "      <th>17</th>\n",
       "      <th>18</th>\n",
       "      <th>19</th>\n",
       "    </tr>\n",
       "  </thead>\n",
       "  <tbody>\n",
       "    <tr>\n",
       "      <th>TA~PAT414_PM1~2020-12-03</th>\n",
       "      <td>0.980829</td>\n",
       "      <td>0.916291</td>\n",
       "      <td>0.847298</td>\n",
       "      <td>0.785929</td>\n",
       "      <td>0.720546</td>\n",
       "      <td>0.650588</td>\n",
       "      <td>0.873731</td>\n",
       "      <td>1.05605</td>\n",
       "      <td>0.74392</td>\n",
       "      <td>0.287682</td>\n",
       "      <td>0.510826</td>\n",
       "      <td>0.693147</td>\n",
       "      <td>0.77319</td>\n",
       "      <td>0.847298</td>\n",
       "      <td>0.847298</td>\n",
       "      <td>0.847298</td>\n",
       "      <td>0.847298</td>\n",
       "      <td>0.847298</td>\n",
       "      <td>0.847298</td>\n",
       "      <td>0.847298</td>\n",
       "    </tr>\n",
       "    <tr>\n",
       "      <th>TA~PAT414_PM2~2020-12-03</th>\n",
       "      <td>0.847298</td>\n",
       "      <td>1.09861</td>\n",
       "      <td>1.29928</td>\n",
       "      <td>1.46634</td>\n",
       "      <td>1.12601</td>\n",
       "      <td>0.606136</td>\n",
       "      <td>1.60944</td>\n",
       "      <td>0.980829</td>\n",
       "      <td>1.06087</td>\n",
       "      <td>1.13498</td>\n",
       "      <td>1.20397</td>\n",
       "      <td>1.34373</td>\n",
       "      <td>1.46634</td>\n",
       "      <td>1.23676</td>\n",
       "      <td>0.93827</td>\n",
       "      <td>0.510826</td>\n",
       "      <td>0.606136</td>\n",
       "      <td>0.693147</td>\n",
       "      <td>0.510826</td>\n",
       "      <td>0.882389</td>\n",
       "    </tr>\n",
       "  </tbody>\n",
       "</table>\n",
       "</div>"
      ],
      "text/plain": [
       "                                0         1         2         3         4   \\\n",
       "TA~PAT414_PM1~2020-12-03  0.980829  0.916291  0.847298  0.785929  0.720546   \n",
       "TA~PAT414_PM2~2020-12-03  0.847298   1.09861   1.29928   1.46634   1.12601   \n",
       "\n",
       "                                5         6         7        8         9   \\\n",
       "TA~PAT414_PM1~2020-12-03  0.650588  0.873731   1.05605  0.74392  0.287682   \n",
       "TA~PAT414_PM2~2020-12-03  0.606136   1.60944  0.980829  1.06087   1.13498   \n",
       "\n",
       "                                10        11       12        13        14  \\\n",
       "TA~PAT414_PM1~2020-12-03  0.510826  0.693147  0.77319  0.847298  0.847298   \n",
       "TA~PAT414_PM2~2020-12-03   1.20397   1.34373  1.46634   1.23676   0.93827   \n",
       "\n",
       "                                15        16        17        18        19  \n",
       "TA~PAT414_PM1~2020-12-03  0.847298  0.847298  0.847298  0.847298  0.847298  \n",
       "TA~PAT414_PM2~2020-12-03  0.510826  0.606136  0.693147  0.510826  0.882389  "
      ]
     },
     "execution_count": 115,
     "metadata": {},
     "output_type": "execute_result"
    }
   ],
   "source": [
    "st1.append(st2)"
   ]
  },
  {
   "cell_type": "code",
   "execution_count": 122,
   "metadata": {},
   "outputs": [
    {
     "data": {
      "text/html": [
       "<div>\n",
       "<style scoped>\n",
       "    .dataframe tbody tr th:only-of-type {\n",
       "        vertical-align: middle;\n",
       "    }\n",
       "\n",
       "    .dataframe tbody tr th {\n",
       "        vertical-align: top;\n",
       "    }\n",
       "\n",
       "    .dataframe thead th {\n",
       "        text-align: right;\n",
       "    }\n",
       "</style>\n",
       "<table border=\"1\" class=\"dataframe\">\n",
       "  <thead>\n",
       "    <tr style=\"text-align: right;\">\n",
       "      <th></th>\n",
       "      <th>TA~PAT470_PM5~2020-12-03</th>\n",
       "    </tr>\n",
       "    <tr>\n",
       "      <th>t</th>\n",
       "      <th></th>\n",
       "    </tr>\n",
       "  </thead>\n",
       "  <tbody>\n",
       "    <tr>\n",
       "      <th>2020-10-22</th>\n",
       "      <td>0.693147</td>\n",
       "    </tr>\n",
       "    <tr>\n",
       "      <th>2020-10-25</th>\n",
       "      <td>0.000000</td>\n",
       "    </tr>\n",
       "    <tr>\n",
       "      <th>2020-10-28</th>\n",
       "      <td>0.000000</td>\n",
       "    </tr>\n",
       "    <tr>\n",
       "      <th>2020-10-31</th>\n",
       "      <td>0.000000</td>\n",
       "    </tr>\n",
       "    <tr>\n",
       "      <th>2020-11-03</th>\n",
       "      <td>0.000000</td>\n",
       "    </tr>\n",
       "    <tr>\n",
       "      <th>2020-11-06</th>\n",
       "      <td>0.000000</td>\n",
       "    </tr>\n",
       "    <tr>\n",
       "      <th>2020-11-09</th>\n",
       "      <td>0.000000</td>\n",
       "    </tr>\n",
       "    <tr>\n",
       "      <th>2020-11-12</th>\n",
       "      <td>0.000000</td>\n",
       "    </tr>\n",
       "  </tbody>\n",
       "</table>\n",
       "</div>"
      ],
      "text/plain": [
       "            TA~PAT470_PM5~2020-12-03\n",
       "t                                   \n",
       "2020-10-22                  0.693147\n",
       "2020-10-25                  0.000000\n",
       "2020-10-28                  0.000000\n",
       "2020-10-31                  0.000000\n",
       "2020-11-03                  0.000000\n",
       "2020-11-06                  0.000000\n",
       "2020-11-09                  0.000000\n",
       "2020-11-12                  0.000000"
      ]
     },
     "execution_count": 122,
     "metadata": {},
     "output_type": "execute_result"
    }
   ],
   "source": [
    "st"
   ]
  },
  {
   "cell_type": "code",
   "execution_count": 123,
   "metadata": {},
   "outputs": [
    {
     "data": {
      "text/html": [
       "<div>\n",
       "<style scoped>\n",
       "    .dataframe tbody tr th:only-of-type {\n",
       "        vertical-align: middle;\n",
       "    }\n",
       "\n",
       "    .dataframe tbody tr th {\n",
       "        vertical-align: top;\n",
       "    }\n",
       "\n",
       "    .dataframe thead th {\n",
       "        text-align: right;\n",
       "    }\n",
       "</style>\n",
       "<table border=\"1\" class=\"dataframe\">\n",
       "  <thead>\n",
       "    <tr style=\"text-align: right;\">\n",
       "      <th></th>\n",
       "      <th>0</th>\n",
       "      <th>1</th>\n",
       "      <th>2</th>\n",
       "      <th>3</th>\n",
       "      <th>4</th>\n",
       "      <th>5</th>\n",
       "      <th>6</th>\n",
       "      <th>7</th>\n",
       "      <th>8</th>\n",
       "      <th>9</th>\n",
       "      <th>10</th>\n",
       "      <th>11</th>\n",
       "      <th>12</th>\n",
       "      <th>13</th>\n",
       "      <th>14</th>\n",
       "      <th>15</th>\n",
       "      <th>16</th>\n",
       "      <th>17</th>\n",
       "      <th>18</th>\n",
       "      <th>19</th>\n",
       "    </tr>\n",
       "  </thead>\n",
       "  <tbody>\n",
       "    <tr>\n",
       "      <th>TA~PAT470_PM5~2020-12-03</th>\n",
       "      <td>0.510826</td>\n",
       "      <td>1.09861</td>\n",
       "      <td>1.1421</td>\n",
       "      <td>1.18377</td>\n",
       "      <td>0.287682</td>\n",
       "      <td>0.510826</td>\n",
       "      <td>0.733969</td>\n",
       "      <td>0.287682</td>\n",
       "      <td>0.980829</td>\n",
       "      <td>0.980829</td>\n",
       "      <td>0.980829</td>\n",
       "      <td>1.29928</td>\n",
       "      <td>0.510826</td>\n",
       "      <td>0.287682</td>\n",
       "      <td>0.980829</td>\n",
       "      <td>1.0116</td>\n",
       "      <td>1.04145</td>\n",
       "      <td>0.733969</td>\n",
       "      <td>0.287682</td>\n",
       "      <td>0.77319</td>\n",
       "    </tr>\n",
       "    <tr>\n",
       "      <th>TA~PAT420_PM5~2020-12-03</th>\n",
       "      <td>0.510826</td>\n",
       "      <td>0.980829</td>\n",
       "      <td>0.980829</td>\n",
       "      <td>0.847298</td>\n",
       "      <td>0.510826</td>\n",
       "      <td>0.693147</td>\n",
       "      <td>1.09861</td>\n",
       "      <td>4.51725</td>\n",
       "      <td>0.510826</td>\n",
       "      <td>0.405465</td>\n",
       "      <td>0.693147</td>\n",
       "      <td>0.693147</td>\n",
       "      <td>0.693147</td>\n",
       "      <td>0.405465</td>\n",
       "      <td>0.405465</td>\n",
       "      <td>0.77319</td>\n",
       "      <td>0.847298</td>\n",
       "      <td>0.510826</td>\n",
       "      <td>1.06087</td>\n",
       "      <td>0.510826</td>\n",
       "    </tr>\n",
       "    <tr>\n",
       "      <th>TA~LAT424_PM4~2020-12-03</th>\n",
       "      <td>0.575364</td>\n",
       "      <td>0.693147</td>\n",
       "      <td>0.693147</td>\n",
       "      <td>0.693147</td>\n",
       "      <td>0.847298</td>\n",
       "      <td>0</td>\n",
       "      <td>0</td>\n",
       "      <td>0.77319</td>\n",
       "      <td>0.510826</td>\n",
       "      <td>0.405465</td>\n",
       "      <td>0.693147</td>\n",
       "      <td>0.154151</td>\n",
       "      <td>0.405465</td>\n",
       "      <td>0.287682</td>\n",
       "      <td>1.02165</td>\n",
       "      <td>0.287682</td>\n",
       "      <td>0.405465</td>\n",
       "      <td>0.459532</td>\n",
       "      <td>0.510826</td>\n",
       "      <td>0.510826</td>\n",
       "    </tr>\n",
       "    <tr>\n",
       "      <th>TA~PAT438_PM3~2020-12-03</th>\n",
       "      <td>0.77319</td>\n",
       "      <td>0.287682</td>\n",
       "      <td>0.154151</td>\n",
       "      <td>1.67398</td>\n",
       "      <td>0.962811</td>\n",
       "      <td>0.847298</td>\n",
       "      <td>0.154151</td>\n",
       "      <td>0.693147</td>\n",
       "      <td>0.287682</td>\n",
       "      <td>0.510826</td>\n",
       "      <td>0.287682</td>\n",
       "      <td>0.510826</td>\n",
       "      <td>0.510826</td>\n",
       "      <td>0.916291</td>\n",
       "      <td>0.980829</td>\n",
       "      <td>0.929536</td>\n",
       "      <td>0.287682</td>\n",
       "      <td>1.20397</td>\n",
       "      <td>0.606136</td>\n",
       "      <td>0.980829</td>\n",
       "    </tr>\n",
       "    <tr>\n",
       "      <th>TA~LAT418_PM4~2020-12-03</th>\n",
       "      <td>0.650588</td>\n",
       "      <td>0.510826</td>\n",
       "      <td>0.893818</td>\n",
       "      <td>1.17007</td>\n",
       "      <td>1.38629</td>\n",
       "      <td>0.916291</td>\n",
       "      <td>0.287682</td>\n",
       "      <td>0</td>\n",
       "      <td>0.299517</td>\n",
       "      <td>0.529694</td>\n",
       "      <td>0.716678</td>\n",
       "      <td>1.08797</td>\n",
       "      <td>1.35812</td>\n",
       "      <td>1.27474</td>\n",
       "      <td>1.18377</td>\n",
       "      <td>1.29928</td>\n",
       "      <td>1.13275</td>\n",
       "      <td>0.93282</td>\n",
       "      <td>1.01915</td>\n",
       "      <td>1.09861</td>\n",
       "    </tr>\n",
       "  </tbody>\n",
       "</table>\n",
       "</div>"
      ],
      "text/plain": [
       "                                0         1         2         3         4   \\\n",
       "TA~PAT470_PM5~2020-12-03  0.510826   1.09861    1.1421   1.18377  0.287682   \n",
       "TA~PAT420_PM5~2020-12-03  0.510826  0.980829  0.980829  0.847298  0.510826   \n",
       "TA~LAT424_PM4~2020-12-03  0.575364  0.693147  0.693147  0.693147  0.847298   \n",
       "TA~PAT438_PM3~2020-12-03   0.77319  0.287682  0.154151   1.67398  0.962811   \n",
       "TA~LAT418_PM4~2020-12-03  0.650588  0.510826  0.893818   1.17007   1.38629   \n",
       "\n",
       "                                5         6         7         8         9   \\\n",
       "TA~PAT470_PM5~2020-12-03  0.510826  0.733969  0.287682  0.980829  0.980829   \n",
       "TA~PAT420_PM5~2020-12-03  0.693147   1.09861   4.51725  0.510826  0.405465   \n",
       "TA~LAT424_PM4~2020-12-03         0         0   0.77319  0.510826  0.405465   \n",
       "TA~PAT438_PM3~2020-12-03  0.847298  0.154151  0.693147  0.287682  0.510826   \n",
       "TA~LAT418_PM4~2020-12-03  0.916291  0.287682         0  0.299517  0.529694   \n",
       "\n",
       "                                10        11        12        13        14  \\\n",
       "TA~PAT470_PM5~2020-12-03  0.980829   1.29928  0.510826  0.287682  0.980829   \n",
       "TA~PAT420_PM5~2020-12-03  0.693147  0.693147  0.693147  0.405465  0.405465   \n",
       "TA~LAT424_PM4~2020-12-03  0.693147  0.154151  0.405465  0.287682   1.02165   \n",
       "TA~PAT438_PM3~2020-12-03  0.287682  0.510826  0.510826  0.916291  0.980829   \n",
       "TA~LAT418_PM4~2020-12-03  0.716678   1.08797   1.35812   1.27474   1.18377   \n",
       "\n",
       "                                15        16        17        18        19  \n",
       "TA~PAT470_PM5~2020-12-03    1.0116   1.04145  0.733969  0.287682   0.77319  \n",
       "TA~PAT420_PM5~2020-12-03   0.77319  0.847298  0.510826   1.06087  0.510826  \n",
       "TA~LAT424_PM4~2020-12-03  0.287682  0.405465  0.459532  0.510826  0.510826  \n",
       "TA~PAT438_PM3~2020-12-03  0.929536  0.287682   1.20397  0.606136  0.980829  \n",
       "TA~LAT418_PM4~2020-12-03   1.29928   1.13275   0.93282   1.01915   1.09861  "
      ]
     },
     "execution_count": 123,
     "metadata": {},
     "output_type": "execute_result"
    }
   ],
   "source": [
    "sta.head()"
   ]
  },
  {
   "cell_type": "code",
   "execution_count": 124,
   "metadata": {},
   "outputs": [
    {
     "data": {
      "text/plain": [
       "154"
      ]
     },
     "execution_count": 124,
     "metadata": {},
     "output_type": "execute_result"
    }
   ],
   "source": [
    "len(sta)"
   ]
  },
  {
   "cell_type": "code",
   "execution_count": 125,
   "metadata": {},
   "outputs": [],
   "source": [
    "ss1=ss"
   ]
  },
  {
   "cell_type": "code",
   "execution_count": 128,
   "metadata": {},
   "outputs": [],
   "source": [
    "ss=pd.read_csv('training_data/LAT~SPC~defect~2020-07-06.csv')"
   ]
  },
  {
   "cell_type": "code",
   "execution_count": 180,
   "metadata": {},
   "outputs": [],
   "source": [
    "import glob\n",
    "sta=pd.DataFrame()\n",
    "csvs = glob.glob('training_data/*.csv')\n",
    "for fnode in csvs:\n",
    "    dstr = fnode.split('~')[-1].split('.')[0]\n",
    "    ss=pd.read_csv(fnode)\n",
    "    entities = ss.ENTITY.unique()\n",
    "    for entity in entities:\n",
    "        #entity=entities[0]\n",
    "        sst = ss[ss['ENTITY']==entity]\n",
    "        st = sst[sst['SPC_CHART_SUBSET'] == 'PARTICLE_SIZE=TOTAL_ADDERS']\n",
    "\n",
    "        st=st[['LOT_DATA_COLLECT_DATE', 'CHART_VALUE']]\n",
    "        st=st.rename(columns={'LOT_DATA_COLLECT_DATE': 't', 'CHART_VALUE': fname})\n",
    "        st.index = pd.to_datetime(st.t)\n",
    "        st.drop(['t'], axis=1, inplace = True)\n",
    "        st=st.sort_index()\n",
    "        st=st.resample('3D').mean()\n",
    "\n",
    "        st=st.interpolate(method='linear')\n",
    "        st=np.log(st+1)\n",
    "        st = st[len(st)-20:]\n",
    "        if len(st)<20: continue\n",
    "        fname = 'TA~'+entity+'~'+dstr\n",
    "\n",
    "        if 1==2: #don't plot\n",
    "            fig = plt.figure()\n",
    "            ax = fig.add_axes([0.1, 0.1, 0.8, 0.8])\n",
    "            #ax = plt.subplot(111)\n",
    "            ax.plot(st, 'o')\n",
    "            ax.set_xlabel('date')\n",
    "            ax.set_ylabel('TA')\n",
    "            ax.set_xticks(ax.get_xticks()[::3])\n",
    "            #plt.title('title')\n",
    "            ax.legend([entity+': '+dstr])\n",
    "            fig.savefig('figs/'+fname)\n",
    "            plt.close()\n",
    "            st = st.reset_index().T.drop('t')\n",
    "\n",
    "        st = st.reset_index().T.drop('t')\n",
    "        if sta.empty: sta=st\n",
    "        else: sta = sta.append(st)"
   ]
  },
  {
   "cell_type": "code",
   "execution_count": 181,
   "metadata": {},
   "outputs": [
    {
     "data": {
      "text/plain": [
       "569"
      ]
     },
     "execution_count": 181,
     "metadata": {},
     "output_type": "execute_result"
    }
   ],
   "source": [
    "len(sta)"
   ]
  },
  {
   "cell_type": "code",
   "execution_count": 136,
   "metadata": {},
   "outputs": [
    {
     "data": {
      "text/html": [
       "<div>\n",
       "<style scoped>\n",
       "    .dataframe tbody tr th:only-of-type {\n",
       "        vertical-align: middle;\n",
       "    }\n",
       "\n",
       "    .dataframe tbody tr th {\n",
       "        vertical-align: top;\n",
       "    }\n",
       "\n",
       "    .dataframe thead th {\n",
       "        text-align: right;\n",
       "    }\n",
       "</style>\n",
       "<table border=\"1\" class=\"dataframe\">\n",
       "  <thead>\n",
       "    <tr style=\"text-align: right;\">\n",
       "      <th></th>\n",
       "      <th>0</th>\n",
       "      <th>1</th>\n",
       "      <th>2</th>\n",
       "      <th>3</th>\n",
       "      <th>4</th>\n",
       "      <th>5</th>\n",
       "      <th>6</th>\n",
       "      <th>7</th>\n",
       "      <th>8</th>\n",
       "      <th>9</th>\n",
       "      <th>10</th>\n",
       "      <th>11</th>\n",
       "      <th>12</th>\n",
       "      <th>13</th>\n",
       "      <th>14</th>\n",
       "      <th>15</th>\n",
       "      <th>16</th>\n",
       "      <th>17</th>\n",
       "      <th>18</th>\n",
       "      <th>19</th>\n",
       "    </tr>\n",
       "  </thead>\n",
       "  <tbody>\n",
       "    <tr>\n",
       "      <th>TA~PAT436_PM1~2020-12-03</th>\n",
       "      <td>0</td>\n",
       "      <td>0</td>\n",
       "      <td>0</td>\n",
       "      <td>0.693147</td>\n",
       "      <td>1.09861</td>\n",
       "      <td>0</td>\n",
       "      <td>0.223144</td>\n",
       "      <td>0.405465</td>\n",
       "      <td>0.559616</td>\n",
       "      <td>0.693147</td>\n",
       "      <td>0.559616</td>\n",
       "      <td>0.405465</td>\n",
       "      <td>0.223144</td>\n",
       "      <td>0</td>\n",
       "      <td>0</td>\n",
       "      <td>0</td>\n",
       "      <td>0</td>\n",
       "      <td>0</td>\n",
       "      <td>0</td>\n",
       "      <td>0</td>\n",
       "    </tr>\n",
       "    <tr>\n",
       "      <th>TA~PAT404_PM3~2020-12-03</th>\n",
       "      <td>0.864997</td>\n",
       "      <td>0.559616</td>\n",
       "      <td>0</td>\n",
       "      <td>0.405465</td>\n",
       "      <td>0.693147</td>\n",
       "      <td>0</td>\n",
       "      <td>0</td>\n",
       "      <td>0</td>\n",
       "      <td>0.693147</td>\n",
       "      <td>0.405465</td>\n",
       "      <td>0</td>\n",
       "      <td>0.619039</td>\n",
       "      <td>0.998529</td>\n",
       "      <td>0.85745</td>\n",
       "      <td>0.693147</td>\n",
       "      <td>0.693147</td>\n",
       "      <td>0.693147</td>\n",
       "      <td>0</td>\n",
       "      <td>0</td>\n",
       "      <td>0</td>\n",
       "    </tr>\n",
       "    <tr>\n",
       "      <th>TA~PAT430_PM1~2020-12-03</th>\n",
       "      <td>0.405465</td>\n",
       "      <td>0</td>\n",
       "      <td>0.693147</td>\n",
       "      <td>0.693147</td>\n",
       "      <td>0.693147</td>\n",
       "      <td>0.847298</td>\n",
       "      <td>0.980829</td>\n",
       "      <td>1.09861</td>\n",
       "      <td>0</td>\n",
       "      <td>0</td>\n",
       "      <td>0</td>\n",
       "      <td>0</td>\n",
       "      <td>0</td>\n",
       "      <td>0.693147</td>\n",
       "      <td>1.09861</td>\n",
       "      <td>0.916291</td>\n",
       "      <td>0.693147</td>\n",
       "      <td>0</td>\n",
       "      <td>0</td>\n",
       "      <td>0</td>\n",
       "    </tr>\n",
       "    <tr>\n",
       "      <th>TA~PAT402_PM1~2020-12-03</th>\n",
       "      <td>0</td>\n",
       "      <td>0.405465</td>\n",
       "      <td>0.693147</td>\n",
       "      <td>0.405465</td>\n",
       "      <td>0</td>\n",
       "      <td>0</td>\n",
       "      <td>0</td>\n",
       "      <td>0</td>\n",
       "      <td>0</td>\n",
       "      <td>0</td>\n",
       "      <td>0</td>\n",
       "      <td>0.405465</td>\n",
       "      <td>0.693147</td>\n",
       "      <td>0.405465</td>\n",
       "      <td>0</td>\n",
       "      <td>0.287682</td>\n",
       "      <td>0.510826</td>\n",
       "      <td>0.693147</td>\n",
       "      <td>0.693147</td>\n",
       "      <td>0.693147</td>\n",
       "    </tr>\n",
       "    <tr>\n",
       "      <th>TA~PAT402_PM2~2020-12-03</th>\n",
       "      <td>0.916291</td>\n",
       "      <td>0.693147</td>\n",
       "      <td>0</td>\n",
       "      <td>0</td>\n",
       "      <td>0</td>\n",
       "      <td>0</td>\n",
       "      <td>0</td>\n",
       "      <td>0.405465</td>\n",
       "      <td>0.693147</td>\n",
       "      <td>0.693147</td>\n",
       "      <td>0.693147</td>\n",
       "      <td>0.405465</td>\n",
       "      <td>0</td>\n",
       "      <td>0</td>\n",
       "      <td>0.405465</td>\n",
       "      <td>0.693147</td>\n",
       "      <td>1.09861</td>\n",
       "      <td>1.38629</td>\n",
       "      <td>0</td>\n",
       "      <td>2.19722</td>\n",
       "    </tr>\n",
       "  </tbody>\n",
       "</table>\n",
       "</div>"
      ],
      "text/plain": [
       "                                0         1         2         3         4   \\\n",
       "TA~PAT436_PM1~2020-12-03         0         0         0  0.693147   1.09861   \n",
       "TA~PAT404_PM3~2020-12-03  0.864997  0.559616         0  0.405465  0.693147   \n",
       "TA~PAT430_PM1~2020-12-03  0.405465         0  0.693147  0.693147  0.693147   \n",
       "TA~PAT402_PM1~2020-12-03         0  0.405465  0.693147  0.405465         0   \n",
       "TA~PAT402_PM2~2020-12-03  0.916291  0.693147         0         0         0   \n",
       "\n",
       "                                5         6         7         8         9   \\\n",
       "TA~PAT436_PM1~2020-12-03         0  0.223144  0.405465  0.559616  0.693147   \n",
       "TA~PAT404_PM3~2020-12-03         0         0         0  0.693147  0.405465   \n",
       "TA~PAT430_PM1~2020-12-03  0.847298  0.980829   1.09861         0         0   \n",
       "TA~PAT402_PM1~2020-12-03         0         0         0         0         0   \n",
       "TA~PAT402_PM2~2020-12-03         0         0  0.405465  0.693147  0.693147   \n",
       "\n",
       "                                10        11        12        13        14  \\\n",
       "TA~PAT436_PM1~2020-12-03  0.559616  0.405465  0.223144         0         0   \n",
       "TA~PAT404_PM3~2020-12-03         0  0.619039  0.998529   0.85745  0.693147   \n",
       "TA~PAT430_PM1~2020-12-03         0         0         0  0.693147   1.09861   \n",
       "TA~PAT402_PM1~2020-12-03         0  0.405465  0.693147  0.405465         0   \n",
       "TA~PAT402_PM2~2020-12-03  0.693147  0.405465         0         0  0.405465   \n",
       "\n",
       "                                15        16        17        18        19  \n",
       "TA~PAT436_PM1~2020-12-03         0         0         0         0         0  \n",
       "TA~PAT404_PM3~2020-12-03  0.693147  0.693147         0         0         0  \n",
       "TA~PAT430_PM1~2020-12-03  0.916291  0.693147         0         0         0  \n",
       "TA~PAT402_PM1~2020-12-03  0.287682  0.510826  0.693147  0.693147  0.693147  \n",
       "TA~PAT402_PM2~2020-12-03  0.693147   1.09861   1.38629         0   2.19722  "
      ]
     },
     "execution_count": 136,
     "metadata": {},
     "output_type": "execute_result"
    }
   ],
   "source": [
    "sta.head()"
   ]
  },
  {
   "cell_type": "code",
   "execution_count": 185,
   "metadata": {},
   "outputs": [],
   "source": [
    "sta.index = sta.index.rename('chart')"
   ]
  },
  {
   "cell_type": "code",
   "execution_count": 141,
   "metadata": {},
   "outputs": [],
   "source": []
  },
  {
   "cell_type": "code",
   "execution_count": 2,
   "metadata": {},
   "outputs": [],
   "source": [
    "import glob\n",
    "dirtylist = glob.glob('training_data/figs/dirty/*.png')\n",
    "cleanlist = glob.glob('training_data/figs/clean/*.png')"
   ]
  },
  {
   "cell_type": "code",
   "execution_count": 277,
   "metadata": {},
   "outputs": [
    {
     "data": {
      "text/plain": [
       "True"
      ]
     },
     "execution_count": 277,
     "metadata": {},
     "output_type": "execute_result"
    }
   ],
   "source": [
    "len(dirtylist) + len(cleanlist) == len(sta)"
   ]
  },
  {
   "cell_type": "code",
   "execution_count": 4,
   "metadata": {},
   "outputs": [],
   "source": [
    "import pandas as pd"
   ]
  },
  {
   "cell_type": "code",
   "execution_count": 5,
   "metadata": {},
   "outputs": [],
   "source": [
    "dirtylist = pd.Series(dirtylist)\n",
    "dirtylist = dirtylist.apply(lambda x: x.split('\\\\')[-1].split('/')[-1].split('.')[0])"
   ]
  },
  {
   "cell_type": "code",
   "execution_count": 6,
   "metadata": {},
   "outputs": [],
   "source": [
    "cleanlist = pd.Series(cleanlist)\n",
    "cleanlist = cleanlist.apply(lambda x: x.split('\\\\')[-1].split('/')[-1].split('.')[0])"
   ]
  },
  {
   "cell_type": "code",
   "execution_count": 7,
   "metadata": {},
   "outputs": [
    {
     "data": {
      "text/plain": [
       "0       TA~LAT01_PM1~2020-07-06\n",
       "1       TA~LAT01_PM1~2020-10-04\n",
       "2       TA~LAT01_PM1~2020-12-03\n",
       "3       TA~LAT01_PM2~2020-12-03\n",
       "4       TA~LAT01_PM3~2020-07-06\n",
       "                 ...           \n",
       "488    TA~PAT470_PM1~2021-03-03\n",
       "489    TA~PAT470_PM3~2020-12-03\n",
       "490    TA~PAT470_PM3~2021-03-03\n",
       "491    TA~PAT470_PM4~2020-12-03\n",
       "492    TA~PAT470_PM5~2021-03-03\n",
       "Length: 493, dtype: object"
      ]
     },
     "execution_count": 7,
     "metadata": {},
     "output_type": "execute_result"
    }
   ],
   "source": [
    "cleanlist"
   ]
  },
  {
   "cell_type": "code",
   "execution_count": 8,
   "metadata": {},
   "outputs": [
    {
     "data": {
      "text/plain": [
       "0      TA~LAT01_PM2~2020-07-06\n",
       "1      TA~LAT01_PM2~2020-10-04\n",
       "2      TA~LAT02_PM2~2020-07-06\n",
       "3      TA~LAT02_PM2~2020-10-04\n",
       "4     TA~LAT402_PM3~2020-10-04\n",
       "                ...           \n",
       "71    TA~PAT458_PM4~2021-03-03\n",
       "72    TA~PAT468_PM4~2020-12-03\n",
       "73    TA~PAT470_PM2~2021-03-03\n",
       "74    TA~PAT470_PM4~2021-03-03\n",
       "75    TA~PAT470_PM5~2020-12-03\n",
       "Length: 76, dtype: object"
      ]
     },
     "execution_count": 8,
     "metadata": {},
     "output_type": "execute_result"
    }
   ],
   "source": [
    "dirtylist"
   ]
  },
  {
   "cell_type": "code",
   "execution_count": 160,
   "metadata": {},
   "outputs": [],
   "source": [
    "a = sta.index[0]"
   ]
  },
  {
   "cell_type": "code",
   "execution_count": 211,
   "metadata": {},
   "outputs": [],
   "source": [
    "sta['is_dirty'] =  pd.Series(sta.index).apply(lambda x: (x in dirtylist.values)*1).values"
   ]
  },
  {
   "cell_type": "code",
   "execution_count": 210,
   "metadata": {},
   "outputs": [
    {
     "data": {
      "text/plain": [
       "array([0, 0, 0, 1, 1, 0, 0, 0, 0, 0, 0, 0, 0, 0, 0, 1, 1, 0, 0, 0, 0, 0,\n",
       "       0, 0, 0, 0, 0, 0, 0, 0, 0, 0, 0, 1, 0, 0, 0, 0, 0, 0, 0, 0, 0, 0,\n",
       "       0, 0, 0, 0, 0, 1, 0, 0, 0, 0, 1, 0, 1, 0, 0, 1, 1, 0, 0, 0, 0, 0,\n",
       "       0, 0, 0, 0, 0, 0, 0, 0, 0, 0, 0, 0, 0, 1, 0, 0, 0, 0, 0, 0, 0, 0,\n",
       "       0, 0, 0, 0, 0, 0, 1, 0, 0, 0, 1, 0, 0, 0, 0, 0, 0, 0, 0, 1, 0, 0,\n",
       "       0, 0, 0, 1, 0, 0, 0, 0, 0, 0, 0, 0, 0, 0, 1, 0, 0, 0, 0, 0, 0, 0,\n",
       "       1, 0, 0, 0, 0, 0, 0, 0, 0, 0, 0, 0, 0, 0, 0, 1, 0, 0, 0, 0, 0, 0,\n",
       "       0, 0, 0, 0, 1, 0, 0, 0, 0, 1, 1, 0, 0, 0, 1, 0, 1, 0, 0, 0, 1, 0,\n",
       "       0, 0, 0, 0, 0, 0, 0, 0, 0, 1, 0, 0, 0, 0, 0, 1, 0, 0, 0, 0, 0, 1,\n",
       "       0, 0, 0, 1, 0, 0, 1, 0, 0, 0, 0, 0, 0, 1, 0, 0, 0, 1, 0, 0, 0, 0,\n",
       "       0, 0, 0, 0, 0, 1, 0, 0, 0, 1, 0, 0, 0, 0, 0, 0, 0, 0, 0, 1, 0, 1,\n",
       "       0, 1, 0, 0, 0, 0, 0, 0, 0, 0, 1, 0, 0, 0, 0, 0, 0, 1, 0, 0, 0, 0,\n",
       "       0, 1, 0, 0, 0, 0, 0, 0, 0, 1, 0, 0, 0, 0, 0, 0, 0, 0, 0, 0, 0, 0,\n",
       "       0, 0, 0, 0, 0, 0, 0, 0, 1, 0, 0, 0, 0, 0, 0, 0, 1, 0, 0, 0, 0, 0,\n",
       "       0, 0, 0, 0, 0, 1, 0, 0, 0, 0, 0, 0, 0, 0, 1, 0, 0, 0, 0, 0, 0, 0,\n",
       "       0, 0, 0, 0, 0, 0, 0, 0, 0, 0, 0, 0, 0, 0, 0, 0, 0, 0, 0, 0, 0, 0,\n",
       "       0, 0, 0, 0, 0, 0, 0, 1, 0, 1, 0, 0, 1, 1, 0, 0, 0, 0, 0, 0, 0, 1,\n",
       "       1, 0, 0, 0, 1, 0, 1, 0, 0, 0, 1, 0, 0, 0, 0, 1, 0, 0, 0, 0, 1, 0,\n",
       "       0, 0, 0, 1, 0, 0, 0, 1, 0, 0, 0, 0, 0, 0, 1, 0, 0, 0, 0, 0, 0, 0,\n",
       "       1, 0, 0, 0, 0, 0, 0, 0, 0, 1, 1, 0, 1, 1, 0, 0, 0, 0, 0, 0, 0, 0,\n",
       "       0, 0, 0, 1, 0, 0, 0, 0, 0, 0, 0, 0, 0, 0, 0, 0, 0, 0, 0, 0, 0, 0,\n",
       "       0, 0, 0, 0, 0, 0, 0, 0, 0, 0, 0, 0, 0, 0, 0, 0, 0, 0, 0, 0, 0, 0,\n",
       "       0, 0, 0, 0, 0, 0, 0, 0, 0, 0, 1, 0, 0, 1, 0, 0, 0, 0, 0, 0, 0, 1,\n",
       "       0, 0, 0, 1, 0, 0, 0, 0, 0, 0, 0, 0, 0, 0, 0, 0, 0, 1, 0, 0, 0, 0,\n",
       "       1, 0, 0, 1, 0, 0, 0, 0, 0, 0, 0, 0, 0, 0, 0, 0, 0, 0, 0, 0, 0, 0,\n",
       "       0, 0, 0, 0, 0, 0, 0, 1, 0, 0, 0, 0, 1, 0, 0, 0, 1, 1, 0],\n",
       "      dtype=int64)"
      ]
     },
     "execution_count": 210,
     "metadata": {},
     "output_type": "execute_result"
    }
   ],
   "source": [
    "pd.Series(sta.index).apply(lambda x: (x in dirtylist.values)*1).values"
   ]
  },
  {
   "cell_type": "code",
   "execution_count": 189,
   "metadata": {},
   "outputs": [
    {
     "data": {
      "text/plain": [
       "True"
      ]
     },
     "execution_count": 189,
     "metadata": {},
     "output_type": "execute_result"
    }
   ],
   "source": [
    "dirtylist[0] in sta.index"
   ]
  },
  {
   "cell_type": "code",
   "execution_count": 176,
   "metadata": {},
   "outputs": [
    {
     "data": {
      "text/plain": [
       "'TA~LAT01_PM2~2020-07-06'"
      ]
     },
     "execution_count": 176,
     "metadata": {},
     "output_type": "execute_result"
    }
   ],
   "source": [
    "dirtylist[0]"
   ]
  },
  {
   "cell_type": "code",
   "execution_count": 177,
   "metadata": {},
   "outputs": [
    {
     "data": {
      "text/plain": [
       "'TA~PAT436_PM1~2020-12-03'"
      ]
     },
     "execution_count": 177,
     "metadata": {},
     "output_type": "execute_result"
    }
   ],
   "source": [
    "sta.index[0]"
   ]
  },
  {
   "cell_type": "code",
   "execution_count": 178,
   "metadata": {},
   "outputs": [],
   "source": [
    "dstr = fnode.split('~')[-1].split('.')[0]"
   ]
  },
  {
   "cell_type": "code",
   "execution_count": 179,
   "metadata": {},
   "outputs": [
    {
     "data": {
      "text/plain": [
       "'2021-03-03'"
      ]
     },
     "execution_count": 179,
     "metadata": {},
     "output_type": "execute_result"
    }
   ],
   "source": [
    "dstr"
   ]
  },
  {
   "cell_type": "code",
   "execution_count": 191,
   "metadata": {},
   "outputs": [],
   "source": [
    "sta.sort_index(inplace=True)"
   ]
  },
  {
   "cell_type": "code",
   "execution_count": 279,
   "metadata": {
    "scrolled": true
   },
   "outputs": [
    {
     "data": {
      "text/html": [
       "<div>\n",
       "<style scoped>\n",
       "    .dataframe tbody tr th:only-of-type {\n",
       "        vertical-align: middle;\n",
       "    }\n",
       "\n",
       "    .dataframe tbody tr th {\n",
       "        vertical-align: top;\n",
       "    }\n",
       "\n",
       "    .dataframe thead th {\n",
       "        text-align: right;\n",
       "    }\n",
       "</style>\n",
       "<table border=\"1\" class=\"dataframe\">\n",
       "  <thead>\n",
       "    <tr style=\"text-align: right;\">\n",
       "      <th></th>\n",
       "      <th>0</th>\n",
       "      <th>1</th>\n",
       "      <th>2</th>\n",
       "      <th>3</th>\n",
       "      <th>4</th>\n",
       "      <th>5</th>\n",
       "      <th>6</th>\n",
       "      <th>7</th>\n",
       "      <th>8</th>\n",
       "      <th>9</th>\n",
       "      <th>...</th>\n",
       "      <th>11</th>\n",
       "      <th>12</th>\n",
       "      <th>13</th>\n",
       "      <th>14</th>\n",
       "      <th>15</th>\n",
       "      <th>16</th>\n",
       "      <th>17</th>\n",
       "      <th>18</th>\n",
       "      <th>19</th>\n",
       "      <th>is_dirty</th>\n",
       "    </tr>\n",
       "    <tr>\n",
       "      <th>chart</th>\n",
       "      <th></th>\n",
       "      <th></th>\n",
       "      <th></th>\n",
       "      <th></th>\n",
       "      <th></th>\n",
       "      <th></th>\n",
       "      <th></th>\n",
       "      <th></th>\n",
       "      <th></th>\n",
       "      <th></th>\n",
       "      <th></th>\n",
       "      <th></th>\n",
       "      <th></th>\n",
       "      <th></th>\n",
       "      <th></th>\n",
       "      <th></th>\n",
       "      <th></th>\n",
       "      <th></th>\n",
       "      <th></th>\n",
       "      <th></th>\n",
       "      <th></th>\n",
       "    </tr>\n",
       "  </thead>\n",
       "  <tbody>\n",
       "    <tr>\n",
       "      <th>TA~LAT01_PM1~2020-07-06</th>\n",
       "      <td>0.510826</td>\n",
       "      <td>0.287682</td>\n",
       "      <td>0</td>\n",
       "      <td>0.182322</td>\n",
       "      <td>0.336472</td>\n",
       "      <td>0.470004</td>\n",
       "      <td>0.587787</td>\n",
       "      <td>0.693147</td>\n",
       "      <td>0.559616</td>\n",
       "      <td>0.405465</td>\n",
       "      <td>...</td>\n",
       "      <td>0.510826</td>\n",
       "      <td>0.427444</td>\n",
       "      <td>0.336472</td>\n",
       "      <td>0.236389</td>\n",
       "      <td>0.125163</td>\n",
       "      <td>0</td>\n",
       "      <td>0.940983</td>\n",
       "      <td>1.41707</td>\n",
       "      <td>0.693147</td>\n",
       "      <td>0</td>\n",
       "    </tr>\n",
       "    <tr>\n",
       "      <th>TA~LAT01_PM1~2020-10-04</th>\n",
       "      <td>0.693147</td>\n",
       "      <td>1.44692</td>\n",
       "      <td>0.693147</td>\n",
       "      <td>0</td>\n",
       "      <td>1.38629</td>\n",
       "      <td>1.04145</td>\n",
       "      <td>0.693147</td>\n",
       "      <td>0.916291</td>\n",
       "      <td>1.09861</td>\n",
       "      <td>0.693147</td>\n",
       "      <td>...</td>\n",
       "      <td>1.09861</td>\n",
       "      <td>1.09861</td>\n",
       "      <td>1.09861</td>\n",
       "      <td>1.38629</td>\n",
       "      <td>0.860201</td>\n",
       "      <td>1.09861</td>\n",
       "      <td>0.916291</td>\n",
       "      <td>0.693147</td>\n",
       "      <td>1.09861</td>\n",
       "      <td>0</td>\n",
       "    </tr>\n",
       "    <tr>\n",
       "      <th>TA~LAT01_PM1~2020-12-03</th>\n",
       "      <td>0</td>\n",
       "      <td>0</td>\n",
       "      <td>0.154151</td>\n",
       "      <td>0.287682</td>\n",
       "      <td>0</td>\n",
       "      <td>0.860201</td>\n",
       "      <td>1.31568</td>\n",
       "      <td>0.928339</td>\n",
       "      <td>0.287682</td>\n",
       "      <td>0.693147</td>\n",
       "      <td>...</td>\n",
       "      <td>0.693147</td>\n",
       "      <td>0.405465</td>\n",
       "      <td>0</td>\n",
       "      <td>1.38629</td>\n",
       "      <td>0.916291</td>\n",
       "      <td>0</td>\n",
       "      <td>0.693147</td>\n",
       "      <td>0.405465</td>\n",
       "      <td>0</td>\n",
       "      <td>0</td>\n",
       "    </tr>\n",
       "    <tr>\n",
       "      <th>TA~LAT01_PM2~2020-07-06</th>\n",
       "      <td>1.37978</td>\n",
       "      <td>1.42165</td>\n",
       "      <td>1.46183</td>\n",
       "      <td>1.50046</td>\n",
       "      <td>1.53766</td>\n",
       "      <td>1.57352</td>\n",
       "      <td>1.60814</td>\n",
       "      <td>1.6416</td>\n",
       "      <td>1.67398</td>\n",
       "      <td>0.847298</td>\n",
       "      <td>...</td>\n",
       "      <td>1.0349</td>\n",
       "      <td>1.08619</td>\n",
       "      <td>1.13498</td>\n",
       "      <td>1.1815</td>\n",
       "      <td>1.22595</td>\n",
       "      <td>1.26851</td>\n",
       "      <td>1.30933</td>\n",
       "      <td>1.34855</td>\n",
       "      <td>1.38629</td>\n",
       "      <td>1</td>\n",
       "    </tr>\n",
       "    <tr>\n",
       "      <th>TA~LAT01_PM2~2020-10-04</th>\n",
       "      <td>1.22378</td>\n",
       "      <td>1.38629</td>\n",
       "      <td>0</td>\n",
       "      <td>0.693147</td>\n",
       "      <td>1.09861</td>\n",
       "      <td>1.38629</td>\n",
       "      <td>1.26224</td>\n",
       "      <td>1.12059</td>\n",
       "      <td>0.955511</td>\n",
       "      <td>0.757686</td>\n",
       "      <td>...</td>\n",
       "      <td>0.441833</td>\n",
       "      <td>0.367725</td>\n",
       "      <td>0.287682</td>\n",
       "      <td>0.200671</td>\n",
       "      <td>0.105361</td>\n",
       "      <td>0</td>\n",
       "      <td>3.79129</td>\n",
       "      <td>4.47309</td>\n",
       "      <td>4.87474</td>\n",
       "      <td>1</td>\n",
       "    </tr>\n",
       "  </tbody>\n",
       "</table>\n",
       "<p>5 rows × 21 columns</p>\n",
       "</div>"
      ],
      "text/plain": [
       "                                0         1         2         3         4  \\\n",
       "chart                                                                       \n",
       "TA~LAT01_PM1~2020-07-06  0.510826  0.287682         0  0.182322  0.336472   \n",
       "TA~LAT01_PM1~2020-10-04  0.693147   1.44692  0.693147         0   1.38629   \n",
       "TA~LAT01_PM1~2020-12-03         0         0  0.154151  0.287682         0   \n",
       "TA~LAT01_PM2~2020-07-06   1.37978   1.42165   1.46183   1.50046   1.53766   \n",
       "TA~LAT01_PM2~2020-10-04   1.22378   1.38629         0  0.693147   1.09861   \n",
       "\n",
       "                                5         6         7         8         9  \\\n",
       "chart                                                                       \n",
       "TA~LAT01_PM1~2020-07-06  0.470004  0.587787  0.693147  0.559616  0.405465   \n",
       "TA~LAT01_PM1~2020-10-04   1.04145  0.693147  0.916291   1.09861  0.693147   \n",
       "TA~LAT01_PM1~2020-12-03  0.860201   1.31568  0.928339  0.287682  0.693147   \n",
       "TA~LAT01_PM2~2020-07-06   1.57352   1.60814    1.6416   1.67398  0.847298   \n",
       "TA~LAT01_PM2~2020-10-04   1.38629   1.26224   1.12059  0.955511  0.757686   \n",
       "\n",
       "                         ...        11        12        13        14  \\\n",
       "chart                    ...                                           \n",
       "TA~LAT01_PM1~2020-07-06  ...  0.510826  0.427444  0.336472  0.236389   \n",
       "TA~LAT01_PM1~2020-10-04  ...   1.09861   1.09861   1.09861   1.38629   \n",
       "TA~LAT01_PM1~2020-12-03  ...  0.693147  0.405465         0   1.38629   \n",
       "TA~LAT01_PM2~2020-07-06  ...    1.0349   1.08619   1.13498    1.1815   \n",
       "TA~LAT01_PM2~2020-10-04  ...  0.441833  0.367725  0.287682  0.200671   \n",
       "\n",
       "                               15       16        17        18        19  \\\n",
       "chart                                                                      \n",
       "TA~LAT01_PM1~2020-07-06  0.125163        0  0.940983   1.41707  0.693147   \n",
       "TA~LAT01_PM1~2020-10-04  0.860201  1.09861  0.916291  0.693147   1.09861   \n",
       "TA~LAT01_PM1~2020-12-03  0.916291        0  0.693147  0.405465         0   \n",
       "TA~LAT01_PM2~2020-07-06   1.22595  1.26851   1.30933   1.34855   1.38629   \n",
       "TA~LAT01_PM2~2020-10-04  0.105361        0   3.79129   4.47309   4.87474   \n",
       "\n",
       "                        is_dirty  \n",
       "chart                             \n",
       "TA~LAT01_PM1~2020-07-06        0  \n",
       "TA~LAT01_PM1~2020-10-04        0  \n",
       "TA~LAT01_PM1~2020-12-03        0  \n",
       "TA~LAT01_PM2~2020-07-06        1  \n",
       "TA~LAT01_PM2~2020-10-04        1  \n",
       "\n",
       "[5 rows x 21 columns]"
      ]
     },
     "execution_count": 279,
     "metadata": {},
     "output_type": "execute_result"
    }
   ],
   "source": [
    "sta.head()"
   ]
  },
  {
   "cell_type": "code",
   "execution_count": 194,
   "metadata": {},
   "outputs": [
    {
     "data": {
      "text/plain": [
       "True"
      ]
     },
     "execution_count": 194,
     "metadata": {},
     "output_type": "execute_result"
    }
   ],
   "source": [
    "dirtylist[0] in sta.index"
   ]
  },
  {
   "cell_type": "code",
   "execution_count": 198,
   "metadata": {},
   "outputs": [
    {
     "data": {
      "text/plain": [
       "'TA~LAT01_PM2~2020-07-06'"
      ]
     },
     "execution_count": 198,
     "metadata": {},
     "output_type": "execute_result"
    }
   ],
   "source": [
    "sta.index[3]"
   ]
  },
  {
   "cell_type": "code",
   "execution_count": 201,
   "metadata": {},
   "outputs": [
    {
     "data": {
      "text/plain": [
       "pandas.core.series.Series"
      ]
     },
     "execution_count": 201,
     "metadata": {},
     "output_type": "execute_result"
    }
   ],
   "source": [
    "type(dirtylist)"
   ]
  },
  {
   "cell_type": "code",
   "execution_count": 204,
   "metadata": {},
   "outputs": [
    {
     "data": {
      "text/plain": [
       "True"
      ]
     },
     "execution_count": 204,
     "metadata": {},
     "output_type": "execute_result"
    }
   ],
   "source": [
    "sta.index[3] in dirtylist.values"
   ]
  },
  {
   "cell_type": "code",
   "execution_count": 213,
   "metadata": {},
   "outputs": [],
   "source": [
    "sta.to_csv('training_data/cleaned_charts_training.csv')"
   ]
  },
  {
   "cell_type": "code",
   "execution_count": 14,
   "metadata": {},
   "outputs": [],
   "source": [
    "sql2= '''SELECT \n",
    "          e.entity AS entity\n",
    "         ,ea.attribute_value AS attribute_value\n",
    "         ,e.ceid AS ceid\n",
    "         ,ea.attribute_name AS attribute_name\n",
    "         ,e.rev_module AS rev_module\n",
    "FROM \n",
    "F_ENTITY e\n",
    "LEFT JOIN F_ENTITYATTRIBUTE ea ON ea.entity = e.entity AND ea.history_deleted_flag='N'\n",
    "WHERE\n",
    "              (e.entity Like 'PAT%' \n",
    "              OR e.entity Like 'LAT%')\n",
    " AND      ea.attribute_name Like 'PM_Counter' \n",
    "ORDER BY\n",
    "           1 Asc'''\n"
   ]
  },
  {
   "cell_type": "code",
   "execution_count": 15,
   "metadata": {},
   "outputs": [],
   "source": [
    "tool_r = SQL_DataFrame(sql2)"
   ]
  },
  {
   "cell_type": "code",
   "execution_count": 16,
   "metadata": {},
   "outputs": [
    {
     "data": {
      "text/html": [
       "<div>\n",
       "<style scoped>\n",
       "    .dataframe tbody tr th:only-of-type {\n",
       "        vertical-align: middle;\n",
       "    }\n",
       "\n",
       "    .dataframe tbody tr th {\n",
       "        vertical-align: top;\n",
       "    }\n",
       "\n",
       "    .dataframe thead th {\n",
       "        text-align: right;\n",
       "    }\n",
       "</style>\n",
       "<table border=\"1\" class=\"dataframe\">\n",
       "  <thead>\n",
       "    <tr style=\"text-align: right;\">\n",
       "      <th></th>\n",
       "      <th>ENTITY</th>\n",
       "      <th>ATTRIBUTE_VALUE</th>\n",
       "      <th>CEID</th>\n",
       "      <th>ATTRIBUTE_NAME</th>\n",
       "      <th>REV_MODULE</th>\n",
       "    </tr>\n",
       "  </thead>\n",
       "  <tbody>\n",
       "    <tr>\n",
       "      <th>0</th>\n",
       "      <td>LAT01_PM1</td>\n",
       "      <td>51538</td>\n",
       "      <td>LATne</td>\n",
       "      <td>PMCCounter</td>\n",
       "      <td>DE-LAT</td>\n",
       "    </tr>\n",
       "    <tr>\n",
       "      <th>1</th>\n",
       "      <td>LAT01_PM1</td>\n",
       "      <td>1132</td>\n",
       "      <td>LATne</td>\n",
       "      <td>PMACounter</td>\n",
       "      <td>DE-LAT</td>\n",
       "    </tr>\n",
       "    <tr>\n",
       "      <th>2</th>\n",
       "      <td>LAT01_PM1</td>\n",
       "      <td>18646</td>\n",
       "      <td>LATne</td>\n",
       "      <td>PMBCounter</td>\n",
       "      <td>DE-LAT</td>\n",
       "    </tr>\n",
       "    <tr>\n",
       "      <th>3</th>\n",
       "      <td>LAT01_PM1</td>\n",
       "      <td>0</td>\n",
       "      <td>LATne</td>\n",
       "      <td>PMFCounter</td>\n",
       "      <td>DE-LAT</td>\n",
       "    </tr>\n",
       "    <tr>\n",
       "      <th>4</th>\n",
       "      <td>LAT01_PM1</td>\n",
       "      <td>0</td>\n",
       "      <td>LATne</td>\n",
       "      <td>PMGCounter</td>\n",
       "      <td>DE-LAT</td>\n",
       "    </tr>\n",
       "  </tbody>\n",
       "</table>\n",
       "</div>"
      ],
      "text/plain": [
       "      ENTITY ATTRIBUTE_VALUE   CEID ATTRIBUTE_NAME REV_MODULE\n",
       "0  LAT01_PM1           51538  LATne     PMCCounter     DE-LAT\n",
       "1  LAT01_PM1            1132  LATne     PMACounter     DE-LAT\n",
       "2  LAT01_PM1           18646  LATne     PMBCounter     DE-LAT\n",
       "3  LAT01_PM1               0  LATne     PMFCounter     DE-LAT\n",
       "4  LAT01_PM1               0  LATne     PMGCounter     DE-LAT"
      ]
     },
     "execution_count": 16,
     "metadata": {},
     "output_type": "execute_result"
    }
   ],
   "source": [
    "tool_r.head()"
   ]
  },
  {
   "cell_type": "code",
   "execution_count": 17,
   "metadata": {},
   "outputs": [],
   "source": [
    "tool_r['ATTRIBUTE_VALUE'] = tool_r['ATTRIBUTE_VALUE'].astype(int)"
   ]
  },
  {
   "cell_type": "code",
   "execution_count": 18,
   "metadata": {
    "scrolled": true
   },
   "outputs": [],
   "source": [
    "tools = pd.pivot_table(tool_r, values = 'ATTRIBUTE_VALUE', index = ['REV_MODULE', 'CEID' ,'ENTITY'], columns = 'ATTRIBUTE_NAME')"
   ]
  },
  {
   "cell_type": "code",
   "execution_count": 311,
   "metadata": {},
   "outputs": [
    {
     "data": {
      "text/plain": [
       "int"
      ]
     },
     "execution_count": 311,
     "metadata": {},
     "output_type": "execute_result"
    }
   ],
   "source": [
    "type(table.index[0])"
   ]
  },
  {
   "cell_type": "code",
   "execution_count": 19,
   "metadata": {},
   "outputs": [
    {
     "data": {
      "text/html": [
       "<div>\n",
       "<style scoped>\n",
       "    .dataframe tbody tr th:only-of-type {\n",
       "        vertical-align: middle;\n",
       "    }\n",
       "\n",
       "    .dataframe tbody tr th {\n",
       "        vertical-align: top;\n",
       "    }\n",
       "\n",
       "    .dataframe thead th {\n",
       "        text-align: right;\n",
       "    }\n",
       "</style>\n",
       "<table border=\"1\" class=\"dataframe\">\n",
       "  <thead>\n",
       "    <tr style=\"text-align: right;\">\n",
       "      <th></th>\n",
       "      <th></th>\n",
       "      <th>ATTRIBUTE_NAME</th>\n",
       "      <th>PMACounter</th>\n",
       "      <th>PMBCounter</th>\n",
       "      <th>PMCCounter</th>\n",
       "      <th>PMDCounter</th>\n",
       "      <th>PMECounter</th>\n",
       "      <th>PMFCounter</th>\n",
       "      <th>PMGCounter</th>\n",
       "    </tr>\n",
       "    <tr>\n",
       "      <th>REV_MODULE</th>\n",
       "      <th>CEID</th>\n",
       "      <th>ENTITY</th>\n",
       "      <th></th>\n",
       "      <th></th>\n",
       "      <th></th>\n",
       "      <th></th>\n",
       "      <th></th>\n",
       "      <th></th>\n",
       "      <th></th>\n",
       "    </tr>\n",
       "  </thead>\n",
       "  <tbody>\n",
       "    <tr>\n",
       "      <th rowspan=\"5\" valign=\"top\">DE-LAT</th>\n",
       "      <th rowspan=\"5\" valign=\"top\">LATne</th>\n",
       "      <th>LAT01_PM1</th>\n",
       "      <td>1132</td>\n",
       "      <td>18646</td>\n",
       "      <td>51538</td>\n",
       "      <td>77064</td>\n",
       "      <td>0</td>\n",
       "      <td>0</td>\n",
       "      <td>0</td>\n",
       "    </tr>\n",
       "    <tr>\n",
       "      <th>LAT01_PM2</th>\n",
       "      <td>3313</td>\n",
       "      <td>20142</td>\n",
       "      <td>39283</td>\n",
       "      <td>3413</td>\n",
       "      <td>0</td>\n",
       "      <td>0</td>\n",
       "      <td>0</td>\n",
       "    </tr>\n",
       "    <tr>\n",
       "      <th>LAT01_PM3</th>\n",
       "      <td>1254</td>\n",
       "      <td>21950</td>\n",
       "      <td>50485</td>\n",
       "      <td>42488</td>\n",
       "      <td>0</td>\n",
       "      <td>0</td>\n",
       "      <td>0</td>\n",
       "    </tr>\n",
       "    <tr>\n",
       "      <th>LAT01_PM4</th>\n",
       "      <td>1524</td>\n",
       "      <td>8471</td>\n",
       "      <td>51262</td>\n",
       "      <td>66403</td>\n",
       "      <td>0</td>\n",
       "      <td>0</td>\n",
       "      <td>0</td>\n",
       "    </tr>\n",
       "    <tr>\n",
       "      <th>LAT02_PM1</th>\n",
       "      <td>688</td>\n",
       "      <td>4116</td>\n",
       "      <td>39667</td>\n",
       "      <td>59959</td>\n",
       "      <td>0</td>\n",
       "      <td>0</td>\n",
       "      <td>0</td>\n",
       "    </tr>\n",
       "  </tbody>\n",
       "</table>\n",
       "</div>"
      ],
      "text/plain": [
       "ATTRIBUTE_NAME              PMACounter  PMBCounter  PMCCounter  PMDCounter  \\\n",
       "REV_MODULE CEID  ENTITY                                                      \n",
       "DE-LAT     LATne LAT01_PM1        1132       18646       51538       77064   \n",
       "                 LAT01_PM2        3313       20142       39283        3413   \n",
       "                 LAT01_PM3        1254       21950       50485       42488   \n",
       "                 LAT01_PM4        1524        8471       51262       66403   \n",
       "                 LAT02_PM1         688        4116       39667       59959   \n",
       "\n",
       "ATTRIBUTE_NAME              PMECounter  PMFCounter  PMGCounter  \n",
       "REV_MODULE CEID  ENTITY                                         \n",
       "DE-LAT     LATne LAT01_PM1           0           0           0  \n",
       "                 LAT01_PM2           0           0           0  \n",
       "                 LAT01_PM3           0           0           0  \n",
       "                 LAT01_PM4           0           0           0  \n",
       "                 LAT02_PM1           0           0           0  "
      ]
     },
     "execution_count": 19,
     "metadata": {},
     "output_type": "execute_result"
    }
   ],
   "source": [
    "tools.head()"
   ]
  },
  {
   "cell_type": "code",
   "execution_count": 20,
   "metadata": {},
   "outputs": [
    {
     "data": {
      "text/plain": [
       "0    DE-LAT\n",
       "Name: REV_MODULE, dtype: object"
      ]
     },
     "execution_count": 20,
     "metadata": {},
     "output_type": "execute_result"
    }
   ],
   "source": [
    "tools = tools.reset_index()\n",
    "tools[tools['ENTITY'] == 'LAT01_PM1']['REV_MODULE']"
   ]
  },
  {
   "cell_type": "code",
   "execution_count": 21,
   "metadata": {},
   "outputs": [
    {
     "data": {
      "text/html": [
       "<div>\n",
       "<style scoped>\n",
       "    .dataframe tbody tr th:only-of-type {\n",
       "        vertical-align: middle;\n",
       "    }\n",
       "\n",
       "    .dataframe tbody tr th {\n",
       "        vertical-align: top;\n",
       "    }\n",
       "\n",
       "    .dataframe thead th {\n",
       "        text-align: right;\n",
       "    }\n",
       "</style>\n",
       "<table border=\"1\" class=\"dataframe\">\n",
       "  <thead>\n",
       "    <tr style=\"text-align: right;\">\n",
       "      <th>ATTRIBUTE_NAME</th>\n",
       "      <th>REV_MODULE</th>\n",
       "      <th>CEID</th>\n",
       "      <th>ENTITY</th>\n",
       "      <th>PMACounter</th>\n",
       "      <th>PMBCounter</th>\n",
       "      <th>PMCCounter</th>\n",
       "      <th>PMDCounter</th>\n",
       "      <th>PMECounter</th>\n",
       "      <th>PMFCounter</th>\n",
       "      <th>PMGCounter</th>\n",
       "    </tr>\n",
       "  </thead>\n",
       "  <tbody>\n",
       "    <tr>\n",
       "      <th>0</th>\n",
       "      <td>DE-LAT</td>\n",
       "      <td>LATne</td>\n",
       "      <td>LAT01_PM1</td>\n",
       "      <td>1132</td>\n",
       "      <td>18646</td>\n",
       "      <td>51538</td>\n",
       "      <td>77064</td>\n",
       "      <td>0</td>\n",
       "      <td>0</td>\n",
       "      <td>0</td>\n",
       "    </tr>\n",
       "    <tr>\n",
       "      <th>1</th>\n",
       "      <td>DE-LAT</td>\n",
       "      <td>LATne</td>\n",
       "      <td>LAT01_PM2</td>\n",
       "      <td>3313</td>\n",
       "      <td>20142</td>\n",
       "      <td>39283</td>\n",
       "      <td>3413</td>\n",
       "      <td>0</td>\n",
       "      <td>0</td>\n",
       "      <td>0</td>\n",
       "    </tr>\n",
       "    <tr>\n",
       "      <th>2</th>\n",
       "      <td>DE-LAT</td>\n",
       "      <td>LATne</td>\n",
       "      <td>LAT01_PM3</td>\n",
       "      <td>1254</td>\n",
       "      <td>21950</td>\n",
       "      <td>50485</td>\n",
       "      <td>42488</td>\n",
       "      <td>0</td>\n",
       "      <td>0</td>\n",
       "      <td>0</td>\n",
       "    </tr>\n",
       "    <tr>\n",
       "      <th>3</th>\n",
       "      <td>DE-LAT</td>\n",
       "      <td>LATne</td>\n",
       "      <td>LAT01_PM4</td>\n",
       "      <td>1524</td>\n",
       "      <td>8471</td>\n",
       "      <td>51262</td>\n",
       "      <td>66403</td>\n",
       "      <td>0</td>\n",
       "      <td>0</td>\n",
       "      <td>0</td>\n",
       "    </tr>\n",
       "    <tr>\n",
       "      <th>4</th>\n",
       "      <td>DE-LAT</td>\n",
       "      <td>LATne</td>\n",
       "      <td>LAT02_PM1</td>\n",
       "      <td>688</td>\n",
       "      <td>4116</td>\n",
       "      <td>39667</td>\n",
       "      <td>59959</td>\n",
       "      <td>0</td>\n",
       "      <td>0</td>\n",
       "      <td>0</td>\n",
       "    </tr>\n",
       "  </tbody>\n",
       "</table>\n",
       "</div>"
      ],
      "text/plain": [
       "ATTRIBUTE_NAME REV_MODULE   CEID     ENTITY  PMACounter  PMBCounter  \\\n",
       "0                  DE-LAT  LATne  LAT01_PM1        1132       18646   \n",
       "1                  DE-LAT  LATne  LAT01_PM2        3313       20142   \n",
       "2                  DE-LAT  LATne  LAT01_PM3        1254       21950   \n",
       "3                  DE-LAT  LATne  LAT01_PM4        1524        8471   \n",
       "4                  DE-LAT  LATne  LAT02_PM1         688        4116   \n",
       "\n",
       "ATTRIBUTE_NAME  PMCCounter  PMDCounter  PMECounter  PMFCounter  PMGCounter  \n",
       "0                    51538       77064           0           0           0  \n",
       "1                    39283        3413           0           0           0  \n",
       "2                    50485       42488           0           0           0  \n",
       "3                    51262       66403           0           0           0  \n",
       "4                    39667       59959           0           0           0  "
      ]
     },
     "execution_count": 21,
     "metadata": {},
     "output_type": "execute_result"
    }
   ],
   "source": [
    "tools.head()"
   ]
  },
  {
   "cell_type": "code",
   "execution_count": null,
   "metadata": {},
   "outputs": [],
   "source": []
  },
  {
   "cell_type": "code",
   "execution_count": 304,
   "metadata": {},
   "outputs": [],
   "source": [
    "d0 = dirtylist[0].split('~')"
   ]
  },
  {
   "cell_type": "code",
   "execution_count": 306,
   "metadata": {},
   "outputs": [
    {
     "data": {
      "text/plain": [
       "'TA~DE-LAT~LAT01_PM2~2020-07-06'"
      ]
     },
     "execution_count": 306,
     "metadata": {},
     "output_type": "execute_result"
    }
   ],
   "source": [
    "d0[0]+'~DE-LAT~'+'~'.join(d0[1:])"
   ]
  },
  {
   "cell_type": "code",
   "execution_count": 309,
   "metadata": {},
   "outputs": [
    {
     "data": {
      "text/plain": [
       "'DE-LAT~TA~LAT01_PM2~2020-07-06'"
      ]
     },
     "execution_count": 309,
     "metadata": {},
     "output_type": "execute_result"
    }
   ],
   "source": [
    "'DE-LAT~'+ dirtylist[0]"
   ]
  },
  {
   "cell_type": "code",
   "execution_count": 335,
   "metadata": {},
   "outputs": [
    {
     "data": {
      "text/plain": [
       "'TA~LAT01_PM2~2020-07-06'"
      ]
     },
     "execution_count": 335,
     "metadata": {},
     "output_type": "execute_result"
    }
   ],
   "source": [
    "dirtylist[0]"
   ]
  },
  {
   "cell_type": "code",
   "execution_count": 344,
   "metadata": {},
   "outputs": [
    {
     "data": {
      "text/plain": [
       "'DE-LAT'"
      ]
     },
     "execution_count": 344,
     "metadata": {},
     "output_type": "execute_result"
    }
   ],
   "source": [
    "tools[tools['ENTITY'] == dirtylist[0].split('~')[1]]['REV_MODULE'].values[0]"
   ]
  },
  {
   "cell_type": "code",
   "execution_count": 346,
   "metadata": {},
   "outputs": [
    {
     "data": {
      "text/plain": [
       "'DE-LAT~TA~LAT01_PM2~2020-07-06'"
      ]
     },
     "execution_count": 346,
     "metadata": {},
     "output_type": "execute_result"
    }
   ],
   "source": [
    "tools[tools['ENTITY'] == dirtylist[0].split('~')[1]]['REV_MODULE'].values[0] +'~'+ dirtylist[0]"
   ]
  },
  {
   "cell_type": "code",
   "execution_count": 24,
   "metadata": {},
   "outputs": [],
   "source": [
    "import shutil"
   ]
  },
  {
   "cell_type": "code",
   "execution_count": 351,
   "metadata": {},
   "outputs": [],
   "source": [
    "for dirty in dirtylist:\n",
    "    src = 'training_data/figs/dirty/' + dirty + '.png'\n",
    "    dst = 'figs/dirty/' + tools[tools['ENTITY'] == dirty.split('~')[1]]['REV_MODULE'].values[0] +'~'+ dirty+'.png'\n",
    "    shutil.copyfile(src, dst)"
   ]
  },
  {
   "cell_type": "code",
   "execution_count": 26,
   "metadata": {},
   "outputs": [
    {
     "data": {
      "text/plain": [
       "0       TA~LAT01_PM1~2020-07-06\n",
       "1       TA~LAT01_PM1~2020-10-04\n",
       "2       TA~LAT01_PM1~2020-12-03\n",
       "3       TA~LAT01_PM2~2020-12-03\n",
       "4       TA~LAT01_PM3~2020-07-06\n",
       "                 ...           \n",
       "488    TA~PAT470_PM1~2021-03-03\n",
       "489    TA~PAT470_PM3~2020-12-03\n",
       "490    TA~PAT470_PM3~2021-03-03\n",
       "491    TA~PAT470_PM4~2020-12-03\n",
       "492    TA~PAT470_PM5~2021-03-03\n",
       "Length: 493, dtype: object"
      ]
     },
     "execution_count": 26,
     "metadata": {},
     "output_type": "execute_result"
    }
   ],
   "source": [
    "cleanlist"
   ]
  },
  {
   "cell_type": "code",
   "execution_count": 35,
   "metadata": {},
   "outputs": [
    {
     "name": "stdout",
     "output_type": "stream",
     "text": [
      "training_data/figs/clean/TA~PAT452_PM5~2020-12-03.png\n",
      "figs/clean/NONE~TA~PAT452_PM5~2020-12-03.png\n",
      "training_data/figs/clean/TA~PAT468_PM3~2020-12-03.png\n",
      "figs/clean/NONE~TA~PAT468_PM3~2020-12-03.png\n"
     ]
    }
   ],
   "source": [
    "for clean in cleanlist:\n",
    "    try: \n",
    "        src = 'training_data/figs/clean/' + clean + '.png'\n",
    "        dst = 'figs/clean/' + tools[tools['ENTITY'] == clean.split('~')[1]]['REV_MODULE'].values[0] +'~'+ clean+'.png'\n",
    "        #shutil.copyfile(src, dst)\n",
    "    except:\n",
    "        print(src)\n",
    "        dst = 'figs/clean/NONE~' + clean+'.png'\n",
    "        print(dst)\n",
    "    shutil.copyfile(src, dst)"
   ]
  },
  {
   "cell_type": "code",
   "execution_count": 27,
   "metadata": {},
   "outputs": [
    {
     "data": {
      "text/plain": [
       "493"
      ]
     },
     "execution_count": 27,
     "metadata": {},
     "output_type": "execute_result"
    }
   ],
   "source": [
    "len(cleanlist)"
   ]
  },
  {
   "cell_type": "code",
   "execution_count": 28,
   "metadata": {},
   "outputs": [
    {
     "data": {
      "text/plain": [
       "178"
      ]
     },
     "execution_count": 28,
     "metadata": {},
     "output_type": "execute_result"
    }
   ],
   "source": [
    "len(tools)"
   ]
  },
  {
   "cell_type": "code",
   "execution_count": 29,
   "metadata": {},
   "outputs": [
    {
     "data": {
      "text/plain": [
       "1421"
      ]
     },
     "execution_count": 29,
     "metadata": {},
     "output_type": "execute_result"
    }
   ],
   "source": [
    "len(tool_r)"
   ]
  },
  {
   "cell_type": "code",
   "execution_count": 33,
   "metadata": {},
   "outputs": [
    {
     "data": {
      "text/html": [
       "<div>\n",
       "<style scoped>\n",
       "    .dataframe tbody tr th:only-of-type {\n",
       "        vertical-align: middle;\n",
       "    }\n",
       "\n",
       "    .dataframe tbody tr th {\n",
       "        vertical-align: top;\n",
       "    }\n",
       "\n",
       "    .dataframe thead th {\n",
       "        text-align: right;\n",
       "    }\n",
       "</style>\n",
       "<table border=\"1\" class=\"dataframe\">\n",
       "  <thead>\n",
       "    <tr style=\"text-align: right;\">\n",
       "      <th>ATTRIBUTE_NAME</th>\n",
       "      <th>REV_MODULE</th>\n",
       "      <th>CEID</th>\n",
       "      <th>ENTITY</th>\n",
       "      <th>PMACounter</th>\n",
       "      <th>PMBCounter</th>\n",
       "      <th>PMCCounter</th>\n",
       "      <th>PMDCounter</th>\n",
       "      <th>PMECounter</th>\n",
       "      <th>PMFCounter</th>\n",
       "      <th>PMGCounter</th>\n",
       "    </tr>\n",
       "  </thead>\n",
       "  <tbody>\n",
       "    <tr>\n",
       "      <th>138</th>\n",
       "      <td>DE-PAT-FTA</td>\n",
       "      <td>PATna</td>\n",
       "      <td>PAT468_PM2</td>\n",
       "      <td>972</td>\n",
       "      <td>26254</td>\n",
       "      <td>26254</td>\n",
       "      <td>26254</td>\n",
       "      <td>26254</td>\n",
       "      <td>26254</td>\n",
       "      <td>26254</td>\n",
       "    </tr>\n",
       "  </tbody>\n",
       "</table>\n",
       "</div>"
      ],
      "text/plain": [
       "ATTRIBUTE_NAME  REV_MODULE   CEID      ENTITY  PMACounter  PMBCounter  \\\n",
       "138             DE-PAT-FTA  PATna  PAT468_PM2         972       26254   \n",
       "\n",
       "ATTRIBUTE_NAME  PMCCounter  PMDCounter  PMECounter  PMFCounter  PMGCounter  \n",
       "138                  26254       26254       26254       26254       26254  "
      ]
     },
     "execution_count": 33,
     "metadata": {},
     "output_type": "execute_result"
    }
   ],
   "source": [
    "tools[tools['ENTITY'] == 'PAT468_PM2']"
   ]
  },
  {
   "cell_type": "code",
   "execution_count": 1,
   "metadata": {},
   "outputs": [],
   "source": [
    "import glob\n",
    "dirtylist = glob.glob('training_data/figs/dirty/*.png')\n",
    "cleanlist = glob.glob('training_data/figs/clean/*.png')"
   ]
  },
  {
   "cell_type": "code",
   "execution_count": 7,
   "metadata": {},
   "outputs": [],
   "source": [
    "dirty = dirtylist[0]"
   ]
  },
  {
   "cell_type": "code",
   "execution_count": 8,
   "metadata": {},
   "outputs": [
    {
     "data": {
      "text/plain": [
       "'training_data/figs/dirty\\\\DE-LAT-NVE~TA~LAT424_PM2~2020-07-06.png'"
      ]
     },
     "execution_count": 8,
     "metadata": {},
     "output_type": "execute_result"
    }
   ],
   "source": [
    "dirty"
   ]
  },
  {
   "cell_type": "code",
   "execution_count": 9,
   "metadata": {},
   "outputs": [
    {
     "data": {
      "text/plain": [
       "'training_data/figs/dirty\\\\DE-LAT-NVE.TA.LAT424_PM2.2020-07-06.png'"
      ]
     },
     "execution_count": 9,
     "metadata": {},
     "output_type": "execute_result"
    }
   ],
   "source": [
    "dirty.replace('~', '.')"
   ]
  },
  {
   "cell_type": "code",
   "execution_count": 2,
   "metadata": {},
   "outputs": [],
   "source": [
    "import shutil"
   ]
  },
  {
   "cell_type": "code",
   "execution_count": 12,
   "metadata": {},
   "outputs": [],
   "source": [
    "for dirty in dirtylist:\n",
    "    src=dirty\n",
    "    dst=dirty.replace('~', '.')\n",
    "    #print(src)\n",
    "    #print(dst)\n",
    "    shutil.move(src, dst)\n",
    "    "
   ]
  },
  {
   "cell_type": "code",
   "execution_count": 15,
   "metadata": {},
   "outputs": [],
   "source": [
    "for clean in cleanlist:\n",
    "    src=clean\n",
    "    dst=clean.replace('~','.')\n",
    "    #print(src)\n",
    "    #print(dst)\n",
    "    #break\n",
    "    #shutil.move(src, dst)"
   ]
  },
  {
   "cell_type": "code",
   "execution_count": 3,
   "metadata": {},
   "outputs": [],
   "source": [
    "fs = glob.glob('training_data/LAT*.csv')"
   ]
  },
  {
   "cell_type": "code",
   "execution_count": 4,
   "metadata": {},
   "outputs": [
    {
     "data": {
      "text/plain": [
       "['training_data\\\\LAT.SPC.defect.2020-07-06.csv',\n",
       " 'training_data\\\\LAT~SPC~defect~2020-10-04.csv',\n",
       " 'training_data\\\\LAT~SPC~defect~2020-12-03.csv',\n",
       " 'training_data\\\\LAT~SPC~defect~2021-03-03.csv']"
      ]
     },
     "execution_count": 4,
     "metadata": {},
     "output_type": "execute_result"
    }
   ],
   "source": [
    "fs"
   ]
  },
  {
   "cell_type": "code",
   "execution_count": 5,
   "metadata": {},
   "outputs": [
    {
     "data": {
      "text/plain": [
       "'C:\\\\Users\\\\narju\\\\OneDrive - Intel Corporation\\\\Documents\\\\Training\\\\python\\\\intel\\\\SPC_SNOOP'"
      ]
     },
     "execution_count": 5,
     "metadata": {},
     "output_type": "execute_result"
    }
   ],
   "source": [
    "import os\n",
    "os.getcwd()"
   ]
  },
  {
   "cell_type": "code",
   "execution_count": 6,
   "metadata": {},
   "outputs": [],
   "source": [
    "for f in fs:\n",
    "    shutil.move(f, f.replace('~', '.'))"
   ]
  },
  {
   "cell_type": "code",
   "execution_count": 48,
   "metadata": {},
   "outputs": [
    {
     "ename": "SyntaxError",
     "evalue": "invalid syntax (<ipython-input-48-67c751a92db9>, line 1)",
     "output_type": "error",
     "traceback": [
      "\u001b[1;36m  File \u001b[1;32m\"<ipython-input-48-67c751a92db9>\"\u001b[1;36m, line \u001b[1;32m1\u001b[0m\n\u001b[1;33m    if tool_r\u001b[0m\n\u001b[1;37m             ^\u001b[0m\n\u001b[1;31mSyntaxError\u001b[0m\u001b[1;31m:\u001b[0m invalid syntax\n"
     ]
    }
   ],
   "source": []
  },
  {
   "cell_type": "code",
   "execution_count": 17,
   "metadata": {},
   "outputs": [
    {
     "name": "stdout",
     "output_type": "stream",
     "text": [
      "\n",
      "SELECT  DISTINCT \n",
      "          a1.entity AS entity\n",
      "         ,a5.value AS chart_value\n",
      "         ,To_Char(a0.data_collection_time,'yyyy-mm-dd hh24:mi:ss') AS lot_data_collect_date\n",
      "         ,a3.measurement_set_name AS measurement_set_name\n",
      "         ,To_Char(a3.data_collection_time,'yyyy-mm-dd hh24:mi:ss') AS meas_set_data_collect_date\n",
      "         ,a2.monitor_type AS monitor_type\n",
      "         ,a3.parameter_class AS parameter_class\n",
      "         ,a2.monitor_set_name AS monitor_set_name\n",
      "         ,a0.lotoperkey AS lotoperkey\n",
      "         ,a5.incontrol_flag AS incontrol_flag\n",
      "         ,a5.standard_flag AS chart_pt_standard_flag\n",
      "         ,a10.centerline AS centerline\n",
      "         ,a10.lo_control_lmt AS lo_control_lmt\n",
      "         ,a10.up_control_lmt AS up_control_lmt\n",
      "         ,a5.chart_type AS chart_type\n",
      "         ,a5.spc_chart_subset AS spc_chart_subset\n",
      "         ,a2.test_name AS test_name\n",
      "         ,a3.parameter_header AS parameter_header\n",
      "         ,a2.module AS module\n",
      "FROM \n",
      "P_SPC_MEASUREMENT_SET a3\n",
      "INNER JOIN P_SPC_SESSION a2 ON a2.spcs_id = a3.spcs_id\n",
      "LEFT JOIN P_SPC_LOT a0 ON a0.spcs_id = a2.spcs_id\n",
      "INNER JOIN P_SPC_ENTITY a1 ON a2.spcs_id = a1.spcs_id AND a1.entity_sequence=1\n",
      "LEFT JOIN P_SPC_CHART_POINT a5 ON a5.spcs_id = a3.spcs_id AND a5.measurement_set_name = a3.measurement_set_name\n",
      "LEFT JOIN P_SPC_CHART_LIMIT a10 ON a10.chart_id = a5.chart_id AND a10.limit_id = a5.limit_id\n",
      "WHERE\n",
      "              (a1.entity LIKE 'LAT%' \n",
      "              OR a1.entity LIKE 'PAT%')\n",
      " AND      a5.value Is Not Null  \n",
      " AND      a3.data_collection_time >= TRUNC(SYSDATE) - 120 \n",
      " AND      a3.data_collection_time <= TRUNC(SYSDATE) - 30 \n",
      " AND      a2.monitor_type = 'TOOL MONITOR' \n",
      " AND      a3.parameter_class = 'DEFECT_PARTICLE' \n",
      " AND      a5.spc_chart_subset = 'PARTICLE_SIZE=TOTAL_ADDERS'\n",
      "\n"
     ]
    }
   ],
   "source": [
    "past = 30\n",
    "print(sql.format(str(past+90), str(past)))"
   ]
  },
  {
   "cell_type": "code",
   "execution_count": 20,
   "metadata": {},
   "outputs": [],
   "source": [
    "assert len(tool_r)>0"
   ]
  },
  {
   "cell_type": "code",
   "execution_count": 19,
   "metadata": {},
   "outputs": [],
   "source": [
    "lat=pd.read_csv('training_data/LAT.SPC.defect.2021-04-23.csv')\n",
    "rex=pd.read_csv('training_data/REX.SPC.defect.2021-04-22.csv')"
   ]
  },
  {
   "cell_type": "code",
   "execution_count": 20,
   "metadata": {},
   "outputs": [
    {
     "data": {
      "text/html": [
       "<div>\n",
       "<style scoped>\n",
       "    .dataframe tbody tr th:only-of-type {\n",
       "        vertical-align: middle;\n",
       "    }\n",
       "\n",
       "    .dataframe tbody tr th {\n",
       "        vertical-align: top;\n",
       "    }\n",
       "\n",
       "    .dataframe thead th {\n",
       "        text-align: right;\n",
       "    }\n",
       "</style>\n",
       "<table border=\"1\" class=\"dataframe\">\n",
       "  <thead>\n",
       "    <tr style=\"text-align: right;\">\n",
       "      <th></th>\n",
       "      <th>ENTITY</th>\n",
       "      <th>CHART_VALUE</th>\n",
       "      <th>LOT_DATA_COLLECT_DATE</th>\n",
       "      <th>MEASUREMENT_SET_NAME_x</th>\n",
       "      <th>MEAS_SET_DATA_COLLECT_DATE_x</th>\n",
       "      <th>MONITOR_TYPE_x</th>\n",
       "      <th>PARAMETER_CLASS_x</th>\n",
       "      <th>MONITOR_SET_NAME_x</th>\n",
       "      <th>LOTOPERKEY_x</th>\n",
       "      <th>INCONTROL_FLAG_x</th>\n",
       "      <th>...</th>\n",
       "      <th>LOTOPERKEY</th>\n",
       "      <th>INCONTROL_FLAG</th>\n",
       "      <th>CHART_PT_STANDARD_FLAG</th>\n",
       "      <th>CENTERLINE</th>\n",
       "      <th>LO_CONTROL_LMT</th>\n",
       "      <th>UP_CONTROL_LMT</th>\n",
       "      <th>CHART_TYPE</th>\n",
       "      <th>TEST_NAME</th>\n",
       "      <th>PARAMETER_HEADER</th>\n",
       "      <th>MODULE</th>\n",
       "    </tr>\n",
       "  </thead>\n",
       "  <tbody>\n",
       "    <tr>\n",
       "      <th>0</th>\n",
       "      <td>LAT426_PM3</td>\n",
       "      <td>0.0</td>\n",
       "      <td>9/17/2019 17:45</td>\n",
       "      <td>LAT.DSA_TIN_PST.74.DER</td>\n",
       "      <td>9/17/2019 17:45</td>\n",
       "      <td>TOOL MONITOR</td>\n",
       "      <td>DEFECT_PARTICLE</td>\n",
       "      <td>LAT.DSA_TIN_PST.74.MON</td>\n",
       "      <td>1.847755e+09</td>\n",
       "      <td>N</td>\n",
       "      <td>...</td>\n",
       "      <td>NaN</td>\n",
       "      <td>NaN</td>\n",
       "      <td>NaN</td>\n",
       "      <td>NaN</td>\n",
       "      <td>NaN</td>\n",
       "      <td>NaN</td>\n",
       "      <td>NaN</td>\n",
       "      <td>NaN</td>\n",
       "      <td>NaN</td>\n",
       "      <td>NaN</td>\n",
       "    </tr>\n",
       "    <tr>\n",
       "      <th>1</th>\n",
       "      <td>LAT426_PM3</td>\n",
       "      <td>0.0</td>\n",
       "      <td>9/26/2019 09:09</td>\n",
       "      <td>LAT.DSA_TIN_PST.74.DER</td>\n",
       "      <td>9/26/2019 09:09</td>\n",
       "      <td>TOOL MONITOR</td>\n",
       "      <td>DEFECT_PARTICLE</td>\n",
       "      <td>LAT.DSA_TIN_PST.74.MON</td>\n",
       "      <td>1.864650e+09</td>\n",
       "      <td>N</td>\n",
       "      <td>...</td>\n",
       "      <td>NaN</td>\n",
       "      <td>NaN</td>\n",
       "      <td>NaN</td>\n",
       "      <td>NaN</td>\n",
       "      <td>NaN</td>\n",
       "      <td>NaN</td>\n",
       "      <td>NaN</td>\n",
       "      <td>NaN</td>\n",
       "      <td>NaN</td>\n",
       "      <td>NaN</td>\n",
       "    </tr>\n",
       "    <tr>\n",
       "      <th>2</th>\n",
       "      <td>PAT408_PM5</td>\n",
       "      <td>0.0</td>\n",
       "      <td>1/28/2020 11:31</td>\n",
       "      <td>LAT.DSA_TIN_PST.74.DER</td>\n",
       "      <td>1/28/2020 11:31</td>\n",
       "      <td>TOOL MONITOR</td>\n",
       "      <td>DEFECT_PARTICLE</td>\n",
       "      <td>LAT.DSA_TIN_PST.74.MON</td>\n",
       "      <td>2.053656e+09</td>\n",
       "      <td>Y</td>\n",
       "      <td>...</td>\n",
       "      <td>NaN</td>\n",
       "      <td>NaN</td>\n",
       "      <td>NaN</td>\n",
       "      <td>NaN</td>\n",
       "      <td>NaN</td>\n",
       "      <td>NaN</td>\n",
       "      <td>NaN</td>\n",
       "      <td>NaN</td>\n",
       "      <td>NaN</td>\n",
       "      <td>NaN</td>\n",
       "    </tr>\n",
       "    <tr>\n",
       "      <th>3</th>\n",
       "      <td>LAT416_PM1</td>\n",
       "      <td>0.0</td>\n",
       "      <td>1/29/2020 05:08</td>\n",
       "      <td>LAT.DSA_PST.74.DER</td>\n",
       "      <td>1/29/2020 05:08</td>\n",
       "      <td>TOOL MONITOR</td>\n",
       "      <td>DEFECT_PARTICLE</td>\n",
       "      <td>LAT.DSA_PST.74.MON</td>\n",
       "      <td>2.053656e+09</td>\n",
       "      <td>Y</td>\n",
       "      <td>...</td>\n",
       "      <td>NaN</td>\n",
       "      <td>NaN</td>\n",
       "      <td>NaN</td>\n",
       "      <td>NaN</td>\n",
       "      <td>NaN</td>\n",
       "      <td>NaN</td>\n",
       "      <td>NaN</td>\n",
       "      <td>NaN</td>\n",
       "      <td>NaN</td>\n",
       "      <td>NaN</td>\n",
       "    </tr>\n",
       "    <tr>\n",
       "      <th>4</th>\n",
       "      <td>PAT430_PM4</td>\n",
       "      <td>0.0</td>\n",
       "      <td>1/18/2020 21:06</td>\n",
       "      <td>PATBE.DSA_PST.76.DER</td>\n",
       "      <td>1/18/2020 21:06</td>\n",
       "      <td>TOOL MONITOR</td>\n",
       "      <td>DEFECT_PARTICLE</td>\n",
       "      <td>PATBE.DSA_PST.76.MON</td>\n",
       "      <td>2.053972e+09</td>\n",
       "      <td>Y</td>\n",
       "      <td>...</td>\n",
       "      <td>NaN</td>\n",
       "      <td>NaN</td>\n",
       "      <td>NaN</td>\n",
       "      <td>NaN</td>\n",
       "      <td>NaN</td>\n",
       "      <td>NaN</td>\n",
       "      <td>NaN</td>\n",
       "      <td>NaN</td>\n",
       "      <td>NaN</td>\n",
       "      <td>NaN</td>\n",
       "    </tr>\n",
       "  </tbody>\n",
       "</table>\n",
       "<p>5 rows × 49 columns</p>\n",
       "</div>"
      ],
      "text/plain": [
       "       ENTITY  CHART_VALUE LOT_DATA_COLLECT_DATE  MEASUREMENT_SET_NAME_x  \\\n",
       "0  LAT426_PM3          0.0       9/17/2019 17:45  LAT.DSA_TIN_PST.74.DER   \n",
       "1  LAT426_PM3          0.0       9/26/2019 09:09  LAT.DSA_TIN_PST.74.DER   \n",
       "2  PAT408_PM5          0.0       1/28/2020 11:31  LAT.DSA_TIN_PST.74.DER   \n",
       "3  LAT416_PM1          0.0       1/29/2020 05:08      LAT.DSA_PST.74.DER   \n",
       "4  PAT430_PM4          0.0       1/18/2020 21:06    PATBE.DSA_PST.76.DER   \n",
       "\n",
       "  MEAS_SET_DATA_COLLECT_DATE_x MONITOR_TYPE_x PARAMETER_CLASS_x  \\\n",
       "0              9/17/2019 17:45   TOOL MONITOR   DEFECT_PARTICLE   \n",
       "1              9/26/2019 09:09   TOOL MONITOR   DEFECT_PARTICLE   \n",
       "2              1/28/2020 11:31   TOOL MONITOR   DEFECT_PARTICLE   \n",
       "3              1/29/2020 05:08   TOOL MONITOR   DEFECT_PARTICLE   \n",
       "4              1/18/2020 21:06   TOOL MONITOR   DEFECT_PARTICLE   \n",
       "\n",
       "       MONITOR_SET_NAME_x  LOTOPERKEY_x INCONTROL_FLAG_x  ... LOTOPERKEY  \\\n",
       "0  LAT.DSA_TIN_PST.74.MON  1.847755e+09                N  ...        NaN   \n",
       "1  LAT.DSA_TIN_PST.74.MON  1.864650e+09                N  ...        NaN   \n",
       "2  LAT.DSA_TIN_PST.74.MON  2.053656e+09                Y  ...        NaN   \n",
       "3      LAT.DSA_PST.74.MON  2.053656e+09                Y  ...        NaN   \n",
       "4    PATBE.DSA_PST.76.MON  2.053972e+09                Y  ...        NaN   \n",
       "\n",
       "   INCONTROL_FLAG  CHART_PT_STANDARD_FLAG  CENTERLINE LO_CONTROL_LMT  \\\n",
       "0             NaN                     NaN         NaN            NaN   \n",
       "1             NaN                     NaN         NaN            NaN   \n",
       "2             NaN                     NaN         NaN            NaN   \n",
       "3             NaN                     NaN         NaN            NaN   \n",
       "4             NaN                     NaN         NaN            NaN   \n",
       "\n",
       "  UP_CONTROL_LMT CHART_TYPE TEST_NAME PARAMETER_HEADER MODULE  \n",
       "0            NaN        NaN       NaN              NaN    NaN  \n",
       "1            NaN        NaN       NaN              NaN    NaN  \n",
       "2            NaN        NaN       NaN              NaN    NaN  \n",
       "3            NaN        NaN       NaN              NaN    NaN  \n",
       "4            NaN        NaN       NaN              NaN    NaN  \n",
       "\n",
       "[5 rows x 49 columns]"
      ]
     },
     "execution_count": 20,
     "metadata": {},
     "output_type": "execute_result"
    }
   ],
   "source": [
    "latrex = pd.concat([lat,rex])\n",
    "#LATREX.SPC.defect.2021-04-22.csv\n",
    "latrex.head()"
   ]
  },
  {
   "cell_type": "code",
   "execution_count": 22,
   "metadata": {},
   "outputs": [
    {
     "data": {
      "text/html": [
       "<div>\n",
       "<style scoped>\n",
       "    .dataframe tbody tr th:only-of-type {\n",
       "        vertical-align: middle;\n",
       "    }\n",
       "\n",
       "    .dataframe tbody tr th {\n",
       "        vertical-align: top;\n",
       "    }\n",
       "\n",
       "    .dataframe thead th {\n",
       "        text-align: right;\n",
       "    }\n",
       "</style>\n",
       "<table border=\"1\" class=\"dataframe\">\n",
       "  <thead>\n",
       "    <tr style=\"text-align: right;\">\n",
       "      <th></th>\n",
       "      <th>ENTITY</th>\n",
       "      <th>CHART_VALUE</th>\n",
       "      <th>LOT_DATA_COLLECT_DATE</th>\n",
       "      <th>MEASUREMENT_SET_NAME</th>\n",
       "      <th>MEAS_SET_DATA_COLLECT_DATE</th>\n",
       "      <th>MONITOR_TYPE</th>\n",
       "      <th>PARAMETER_CLASS</th>\n",
       "      <th>MONITOR_SET_NAME</th>\n",
       "      <th>LOTOPERKEY</th>\n",
       "      <th>INCONTROL_FLAG</th>\n",
       "      <th>CHART_PT_STANDARD_FLAG</th>\n",
       "      <th>CENTERLINE</th>\n",
       "      <th>LO_CONTROL_LMT</th>\n",
       "      <th>UP_CONTROL_LMT</th>\n",
       "      <th>CHART_TYPE</th>\n",
       "      <th>SPC_CHART_SUBSET</th>\n",
       "      <th>TEST_NAME</th>\n",
       "      <th>PARAMETER_HEADER</th>\n",
       "      <th>MODULE</th>\n",
       "    </tr>\n",
       "  </thead>\n",
       "  <tbody>\n",
       "    <tr>\n",
       "      <th>0</th>\n",
       "      <td>REX01</td>\n",
       "      <td>0.0</td>\n",
       "      <td>5/2/2020 00:48</td>\n",
       "      <td>REXFE.DSA_PST.72.DER</td>\n",
       "      <td>5/2/2020 00:48</td>\n",
       "      <td>TOOL MONITOR</td>\n",
       "      <td>DEFECT_PARTICLE</td>\n",
       "      <td>REXFE.DSA_PST.72.MON</td>\n",
       "      <td>1169714064</td>\n",
       "      <td>N</td>\n",
       "      <td>Y</td>\n",
       "      <td>0.0</td>\n",
       "      <td>NaN</td>\n",
       "      <td>1.2</td>\n",
       "      <td>SUM</td>\n",
       "      <td>PARTICLE_SIZE=TOTAL_ADDERS</td>\n",
       "      <td>2REXLPPST4</td>\n",
       "      <td>PARTICLE_SIZE</td>\n",
       "      <td>REX FE</td>\n",
       "    </tr>\n",
       "    <tr>\n",
       "      <th>1</th>\n",
       "      <td>REX02</td>\n",
       "      <td>0.0</td>\n",
       "      <td>7/1/2020 16:19</td>\n",
       "      <td>REXFE.DSA_PST.72.DER</td>\n",
       "      <td>7/1/2020 16:19</td>\n",
       "      <td>TOOL MONITOR</td>\n",
       "      <td>DEFECT_PARTICLE</td>\n",
       "      <td>REXFE.DSA_PST.72.MON</td>\n",
       "      <td>1180020426</td>\n",
       "      <td>N</td>\n",
       "      <td>Y</td>\n",
       "      <td>0.0</td>\n",
       "      <td>NaN</td>\n",
       "      <td>1.2</td>\n",
       "      <td>SUM</td>\n",
       "      <td>PARTICLE_SIZE=TOTAL_ADDERS</td>\n",
       "      <td>2REXLPPST1</td>\n",
       "      <td>PARTICLE_SIZE</td>\n",
       "      <td>REX FE</td>\n",
       "    </tr>\n",
       "    <tr>\n",
       "      <th>2</th>\n",
       "      <td>REX412</td>\n",
       "      <td>0.0</td>\n",
       "      <td>8/19/2020 23:05</td>\n",
       "      <td>REXFE.DSA_PST.72.DER</td>\n",
       "      <td>8/19/2020 23:05</td>\n",
       "      <td>TOOL MONITOR</td>\n",
       "      <td>DEFECT_PARTICLE</td>\n",
       "      <td>REXFE.DSA_PST.72.MON</td>\n",
       "      <td>1180020426</td>\n",
       "      <td>N</td>\n",
       "      <td>Y</td>\n",
       "      <td>0.0</td>\n",
       "      <td>NaN</td>\n",
       "      <td>1.2</td>\n",
       "      <td>SUM</td>\n",
       "      <td>PARTICLE_SIZE=TOTAL_ADDERS</td>\n",
       "      <td>2REXLPPST4</td>\n",
       "      <td>PARTICLE_SIZE</td>\n",
       "      <td>REX FE</td>\n",
       "    </tr>\n",
       "    <tr>\n",
       "      <th>3</th>\n",
       "      <td>REX412</td>\n",
       "      <td>0.0</td>\n",
       "      <td>1/14/2021 14:33</td>\n",
       "      <td>REXFE.DSA_PST.72.DER</td>\n",
       "      <td>1/14/2021 14:33</td>\n",
       "      <td>TOOL MONITOR</td>\n",
       "      <td>DEFECT_PARTICLE</td>\n",
       "      <td>REXFE.DSA_PST.72.MON</td>\n",
       "      <td>1180020426</td>\n",
       "      <td>N</td>\n",
       "      <td>Y</td>\n",
       "      <td>0.0</td>\n",
       "      <td>NaN</td>\n",
       "      <td>1.2</td>\n",
       "      <td>SUM</td>\n",
       "      <td>PARTICLE_SIZE=TOTAL_ADDERS</td>\n",
       "      <td>2REXLPPST4</td>\n",
       "      <td>PARTICLE_SIZE</td>\n",
       "      <td>REX FE</td>\n",
       "    </tr>\n",
       "    <tr>\n",
       "      <th>4</th>\n",
       "      <td>REX02</td>\n",
       "      <td>0.0</td>\n",
       "      <td>7/28/2020 17:56</td>\n",
       "      <td>REXFE.DSA_PST.72.DER</td>\n",
       "      <td>7/28/2020 17:56</td>\n",
       "      <td>TOOL MONITOR</td>\n",
       "      <td>DEFECT_PARTICLE</td>\n",
       "      <td>REXFE.DSA_PST.72.MON</td>\n",
       "      <td>1180845151</td>\n",
       "      <td>N</td>\n",
       "      <td>Y</td>\n",
       "      <td>0.0</td>\n",
       "      <td>NaN</td>\n",
       "      <td>1.2</td>\n",
       "      <td>SUM</td>\n",
       "      <td>PARTICLE_SIZE=TOTAL_ADDERS</td>\n",
       "      <td>2REXLPPST3</td>\n",
       "      <td>PARTICLE_SIZE</td>\n",
       "      <td>REX FE</td>\n",
       "    </tr>\n",
       "  </tbody>\n",
       "</table>\n",
       "</div>"
      ],
      "text/plain": [
       "   ENTITY  CHART_VALUE LOT_DATA_COLLECT_DATE  MEASUREMENT_SET_NAME  \\\n",
       "0   REX01          0.0        5/2/2020 00:48  REXFE.DSA_PST.72.DER   \n",
       "1   REX02          0.0        7/1/2020 16:19  REXFE.DSA_PST.72.DER   \n",
       "2  REX412          0.0       8/19/2020 23:05  REXFE.DSA_PST.72.DER   \n",
       "3  REX412          0.0       1/14/2021 14:33  REXFE.DSA_PST.72.DER   \n",
       "4   REX02          0.0       7/28/2020 17:56  REXFE.DSA_PST.72.DER   \n",
       "\n",
       "  MEAS_SET_DATA_COLLECT_DATE  MONITOR_TYPE  PARAMETER_CLASS  \\\n",
       "0             5/2/2020 00:48  TOOL MONITOR  DEFECT_PARTICLE   \n",
       "1             7/1/2020 16:19  TOOL MONITOR  DEFECT_PARTICLE   \n",
       "2            8/19/2020 23:05  TOOL MONITOR  DEFECT_PARTICLE   \n",
       "3            1/14/2021 14:33  TOOL MONITOR  DEFECT_PARTICLE   \n",
       "4            7/28/2020 17:56  TOOL MONITOR  DEFECT_PARTICLE   \n",
       "\n",
       "       MONITOR_SET_NAME  LOTOPERKEY INCONTROL_FLAG CHART_PT_STANDARD_FLAG  \\\n",
       "0  REXFE.DSA_PST.72.MON  1169714064              N                      Y   \n",
       "1  REXFE.DSA_PST.72.MON  1180020426              N                      Y   \n",
       "2  REXFE.DSA_PST.72.MON  1180020426              N                      Y   \n",
       "3  REXFE.DSA_PST.72.MON  1180020426              N                      Y   \n",
       "4  REXFE.DSA_PST.72.MON  1180845151              N                      Y   \n",
       "\n",
       "   CENTERLINE  LO_CONTROL_LMT  UP_CONTROL_LMT CHART_TYPE  \\\n",
       "0         0.0             NaN             1.2        SUM   \n",
       "1         0.0             NaN             1.2        SUM   \n",
       "2         0.0             NaN             1.2        SUM   \n",
       "3         0.0             NaN             1.2        SUM   \n",
       "4         0.0             NaN             1.2        SUM   \n",
       "\n",
       "             SPC_CHART_SUBSET   TEST_NAME PARAMETER_HEADER  MODULE  \n",
       "0  PARTICLE_SIZE=TOTAL_ADDERS  2REXLPPST4    PARTICLE_SIZE  REX FE  \n",
       "1  PARTICLE_SIZE=TOTAL_ADDERS  2REXLPPST1    PARTICLE_SIZE  REX FE  \n",
       "2  PARTICLE_SIZE=TOTAL_ADDERS  2REXLPPST4    PARTICLE_SIZE  REX FE  \n",
       "3  PARTICLE_SIZE=TOTAL_ADDERS  2REXLPPST4    PARTICLE_SIZE  REX FE  \n",
       "4  PARTICLE_SIZE=TOTAL_ADDERS  2REXLPPST3    PARTICLE_SIZE  REX FE  "
      ]
     },
     "execution_count": 22,
     "metadata": {},
     "output_type": "execute_result"
    }
   ],
   "source": [
    "rex.head()"
   ]
  },
  {
   "cell_type": "code",
   "execution_count": 4,
   "metadata": {},
   "outputs": [],
   "source": [
    "\n",
    "sql3 = '''SELECT  DISTINCT \n",
    "          z0.entity AS entity\n",
    "         ,z0.config_level_2 AS config_level_2\n",
    "FROM \n",
    "F_UE_Detail z0\n",
    "WHERE\n",
    "              (z0.entity LIKE  'PAT%'\n",
    "OR z0.entity LIKE 'LAT%'\n",
    ") \n",
    " AND      z0.rollup_date >= SYSDATE - 1 '''\n",
    "\n",
    "tool_r = SQL_DataFrame(sql3)"
   ]
  },
  {
   "cell_type": "code",
   "execution_count": 5,
   "metadata": {},
   "outputs": [
    {
     "data": {
      "text/html": [
       "<div>\n",
       "<style scoped>\n",
       "    .dataframe tbody tr th:only-of-type {\n",
       "        vertical-align: middle;\n",
       "    }\n",
       "\n",
       "    .dataframe tbody tr th {\n",
       "        vertical-align: top;\n",
       "    }\n",
       "\n",
       "    .dataframe thead th {\n",
       "        text-align: right;\n",
       "    }\n",
       "</style>\n",
       "<table border=\"1\" class=\"dataframe\">\n",
       "  <thead>\n",
       "    <tr style=\"text-align: right;\">\n",
       "      <th></th>\n",
       "      <th>ENTITY</th>\n",
       "      <th>CONFIG_LEVEL_2</th>\n",
       "    </tr>\n",
       "  </thead>\n",
       "  <tbody>\n",
       "    <tr>\n",
       "      <th>0</th>\n",
       "      <td>LAT01</td>\n",
       "      <td>DE-LAT</td>\n",
       "    </tr>\n",
       "    <tr>\n",
       "      <th>1</th>\n",
       "      <td>LAT01_PM1</td>\n",
       "      <td>DE-LAT</td>\n",
       "    </tr>\n",
       "    <tr>\n",
       "      <th>2</th>\n",
       "      <td>LAT01_PM2</td>\n",
       "      <td>DE-LAT</td>\n",
       "    </tr>\n",
       "    <tr>\n",
       "      <th>3</th>\n",
       "      <td>LAT01_PM3</td>\n",
       "      <td>DE-LAT</td>\n",
       "    </tr>\n",
       "    <tr>\n",
       "      <th>4</th>\n",
       "      <td>LAT01_PM4</td>\n",
       "      <td>DE-LAT</td>\n",
       "    </tr>\n",
       "    <tr>\n",
       "      <th>...</th>\n",
       "      <td>...</td>\n",
       "      <td>...</td>\n",
       "    </tr>\n",
       "    <tr>\n",
       "      <th>220</th>\n",
       "      <td>PAT478</td>\n",
       "      <td>DE-PATXD</td>\n",
       "    </tr>\n",
       "    <tr>\n",
       "      <th>221</th>\n",
       "      <td>PAT478_PM1</td>\n",
       "      <td>DE-PATXD</td>\n",
       "    </tr>\n",
       "    <tr>\n",
       "      <th>222</th>\n",
       "      <td>PAT478_PM2</td>\n",
       "      <td>DE-PATXD</td>\n",
       "    </tr>\n",
       "    <tr>\n",
       "      <th>223</th>\n",
       "      <td>PAT478_PM3</td>\n",
       "      <td>DE-PATXD</td>\n",
       "    </tr>\n",
       "    <tr>\n",
       "      <th>224</th>\n",
       "      <td>PAT478_PM4</td>\n",
       "      <td>DE-PATXD</td>\n",
       "    </tr>\n",
       "  </tbody>\n",
       "</table>\n",
       "<p>225 rows × 2 columns</p>\n",
       "</div>"
      ],
      "text/plain": [
       "         ENTITY CONFIG_LEVEL_2\n",
       "0         LAT01         DE-LAT\n",
       "1     LAT01_PM1         DE-LAT\n",
       "2     LAT01_PM2         DE-LAT\n",
       "3     LAT01_PM3         DE-LAT\n",
       "4     LAT01_PM4         DE-LAT\n",
       "..          ...            ...\n",
       "220      PAT478       DE-PATXD\n",
       "221  PAT478_PM1       DE-PATXD\n",
       "222  PAT478_PM2       DE-PATXD\n",
       "223  PAT478_PM3       DE-PATXD\n",
       "224  PAT478_PM4       DE-PATXD\n",
       "\n",
       "[225 rows x 2 columns]"
      ]
     },
     "execution_count": 5,
     "metadata": {},
     "output_type": "execute_result"
    }
   ],
   "source": [
    "tool_r"
   ]
  },
  {
   "cell_type": "code",
   "execution_count": 6,
   "metadata": {},
   "outputs": [
    {
     "ename": "NameError",
     "evalue": "name 'tools' is not defined",
     "output_type": "error",
     "traceback": [
      "\u001b[1;31m---------------------------------------------------------------------------\u001b[0m",
      "\u001b[1;31mNameError\u001b[0m                                 Traceback (most recent call last)",
      "\u001b[1;32m<ipython-input-6-578d42aaeca6>\u001b[0m in \u001b[0;36m<module>\u001b[1;34m\u001b[0m\n\u001b[1;32m----> 1\u001b[1;33m \u001b[0mtools\u001b[0m\u001b[1;33m\u001b[0m\u001b[1;33m\u001b[0m\u001b[0m\n\u001b[0m",
      "\u001b[1;31mNameError\u001b[0m: name 'tools' is not defined"
     ]
    }
   ],
   "source": [
    "tools"
   ]
  },
  {
   "cell_type": "code",
   "execution_count": 7,
   "metadata": {},
   "outputs": [
    {
     "data": {
      "text/plain": [
       "Timestamp('2021-04-25 00:00:00')"
      ]
     },
     "execution_count": 7,
     "metadata": {},
     "output_type": "execute_result"
    }
   ],
   "source": [
    "pd.Timestamp('2020-10-27')+timedelta(days=180)"
   ]
  },
  {
   "cell_type": "code",
   "execution_count": null,
   "metadata": {},
   "outputs": [],
   "source": []
  }
 ],
 "metadata": {
  "kernelspec": {
   "display_name": "Python 3 (ipykernel)",
   "language": "python",
   "name": "python3"
  },
  "language_info": {
   "codemirror_mode": {
    "name": "ipython",
    "version": 3
   },
   "file_extension": ".py",
   "mimetype": "text/x-python",
   "name": "python",
   "nbconvert_exporter": "python",
   "pygments_lexer": "ipython3",
   "version": "3.7.13"
  }
 },
 "nbformat": 4,
 "nbformat_minor": 4
}

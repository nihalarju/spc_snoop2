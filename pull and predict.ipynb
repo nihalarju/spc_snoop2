{
 "cells": [
  {
   "cell_type": "code",
   "execution_count": 1,
   "metadata": {},
   "outputs": [],
   "source": [
    "from datetime import datetime, timedelta, date"
   ]
  },
  {
   "cell_type": "code",
   "execution_count": 2,
   "metadata": {},
   "outputs": [],
   "source": [
    "import time\n",
    "import pandas as pd\n",
    "import numpy as np\n",
    "from scipy import interpolate, stats\n",
    "import matplotlib.pyplot as plt\n",
    "import PyUber\n",
    "from datetime import datetime, timedelta, date\n",
    "import glob\n",
    "import os\n",
    "\n",
    "start =  time.time()\n",
    "\n",
    "def main():\n",
    "    spices = SQL_DataFrame(sql)\n",
    "    spices.to_csv('spices.csv', index=False)\n",
    "\n",
    "def convert_to_date(df, column1='MEAS_SET_DATA_COLLECT_DATE', column2='LOT_DATA_COLLECT_DATE', \\\n",
    "                    column3='CURRENT_MOVEIN_DATE', column4='END_DATE'):\n",
    "    if column1 in df.columns:\n",
    "        df[column1] = pd.to_datetime(df[column1])\n",
    "    if column2 in df.columns:\n",
    "        df[column2] = pd.to_datetime(df[column2])\n",
    "    if column3 in df.columns:\n",
    "        df[column3] = pd.to_datetime(df[column3])\n",
    "    if column4 in df.columns:\n",
    "        df[column4] = pd.to_datetime(df[column4])\n",
    "    return df\n",
    "\n",
    "def SQL_DataFrame(sql, source='D1D_PROD_XEUS'):\n",
    "    conn = PyUber.connect(source)\n",
    "    df = pd.read_sql(sql, conn)\n",
    "    return df\n",
    "\n",
    "def get90d(ss, datestr): \n",
    "    end = pd.Timestamp(datestr) + timedelta(days=1)\n",
    "    start = end - timedelta(days=90)\n",
    "    try:\n",
    "        ss = ss[(ss['LOT_DATA_COLLECT_DATE'] >= start) & (ss['LOT_DATA_COLLECT_DATE'] < end)]\n",
    "    except:\n",
    "        ss = convert_to_date(ss)\n",
    "        ss = ss[(ss['LOT_DATA_COLLECT_DATE'] >= start) & (ss['LOT_DATA_COLLECT_DATE'] < end)]\n",
    "    return ss\n",
    "\n",
    "sql=\"\"\"\n",
    "SELECT  DISTINCT \n",
    "          a1.entity AS entity\n",
    "         ,a5.value AS chart_value\n",
    "         ,To_Char(a0.data_collection_time,'yyyy-mm-dd hh24:mi:ss') AS lot_data_collect_date\n",
    "         ,a3.measurement_set_name AS measurement_set_name\n",
    "         ,To_Char(a3.data_collection_time,'yyyy-mm-dd hh24:mi:ss') AS meas_set_data_collect_date\n",
    "         ,a2.monitor_type AS monitor_type\n",
    "         ,a3.parameter_class AS parameter_class\n",
    "         ,a2.monitor_set_name AS monitor_set_name\n",
    "         ,a0.lotoperkey AS lotoperkey\n",
    "         ,a5.incontrol_flag AS incontrol_flag\n",
    "         ,a5.standard_flag AS chart_pt_standard_flag\n",
    "         ,a10.centerline AS centerline\n",
    "         ,a10.lo_control_lmt AS lo_control_lmt\n",
    "         ,a10.up_control_lmt AS up_control_lmt\n",
    "         ,a5.chart_type AS chart_type\n",
    "         ,a5.spc_chart_subset AS spc_chart_subset\n",
    "         ,a2.test_name AS test_name\n",
    "         ,a3.parameter_header AS parameter_header\n",
    "         ,a2.module AS module\n",
    "FROM \n",
    "P_SPC_MEASUREMENT_SET a3\n",
    "INNER JOIN P_SPC_SESSION a2 ON a2.spcs_id = a3.spcs_id\n",
    "LEFT JOIN P_SPC_LOT a0 ON a0.spcs_id = a2.spcs_id\n",
    "INNER JOIN P_SPC_ENTITY a1 ON a2.spcs_id = a1.spcs_id AND a1.entity_sequence=1\n",
    "LEFT JOIN P_SPC_CHART_POINT a5 ON a5.spcs_id = a3.spcs_id AND a5.measurement_set_name = a3.measurement_set_name\n",
    "LEFT JOIN P_SPC_CHART_LIMIT a10 ON a10.chart_id = a5.chart_id AND a10.limit_id = a5.limit_id\n",
    "WHERE\n",
    "              (a1.entity LIKE 'LAT%' \n",
    "              OR a1.entity LIKE 'PAT%')\n",
    " AND      a5.value Is Not Null  \n",
    " AND      a3.data_collection_time >= TRUNC(SYSDATE) - 90 \n",
    " AND      a3.data_collection_time <= TRUNC(SYSDATE) - 0 \n",
    " AND      a2.monitor_type = 'TOOL MONITOR' \n",
    " AND      a3.parameter_class = 'DEFECT_PARTICLE' \n",
    " AND      a5.spc_chart_subset = 'PARTICLE_SIZE=TOTAL_ADDERS'\n",
    "\"\"\"\n",
    "\n",
    "sql2= '''SELECT \n",
    "          e.entity AS entity\n",
    "         ,ea.attribute_value AS attribute_value\n",
    "         ,e.ceid AS ceid\n",
    "         ,ea.attribute_name AS attribute_name\n",
    "         ,e.rev_module AS rev_module\n",
    "FROM \n",
    "F_ENTITY e\n",
    "LEFT JOIN F_ENTITYATTRIBUTE ea ON ea.entity = e.entity AND ea.history_deleted_flag='N'\n",
    "WHERE\n",
    "              (e.entity Like 'PAT%' \n",
    "              OR e.entity Like 'LAT%')\n",
    " AND      ea.attribute_name Like 'PM_Counter' \n",
    "ORDER BY\n",
    "           1 Asc'''\n",
    "\n",
    "sql3 = '''SELECT  DISTINCT \n",
    "          z0.entity AS entity\n",
    "         ,z0.config_level_2 AS config_level_2\n",
    "FROM \n",
    "F_UE_Detail z0\n",
    "WHERE\n",
    "              (z0.entity LIKE  'PAT%'\n",
    "OR z0.entity LIKE 'LAT%'\n",
    ") \n",
    " AND      z0.rollup_date >= SYSDATE - 1 '''\n",
    "\n",
    "# AND      \n",
    "\n",
    "#if __name__ == \"__main__\": main()"
   ]
  },
  {
   "cell_type": "code",
   "execution_count": 3,
   "metadata": {},
   "outputs": [],
   "source": [
    "ss = SQL_DataFrame(sql)"
   ]
  },
  {
   "cell_type": "code",
   "execution_count": 4,
   "metadata": {},
   "outputs": [],
   "source": [
    "done1 = time.time()"
   ]
  },
  {
   "cell_type": "code",
   "execution_count": 5,
   "metadata": {},
   "outputs": [
    {
     "name": "stdout",
     "output_type": "stream",
     "text": [
      "299.53263902664185\n"
     ]
    }
   ],
   "source": [
    "print(done1-start)"
   ]
  },
  {
   "cell_type": "markdown",
   "metadata": {},
   "source": [
    "tool_r = SQL_DataFrame(sql2)\n"
   ]
  },
  {
   "cell_type": "markdown",
   "metadata": {},
   "source": [
    "\n",
    "sql3 = '''SELECT  DISTINCT \n",
    "          z0.entity AS entity\n",
    "         ,z0.config_level_2 AS config_level_2\n",
    "FROM \n",
    "F_UE_Detail z0\n",
    "WHERE\n",
    "              (z0.entity LIKE  'PAT%'\n",
    "OR z0.entity LIKE 'LAT%'\n",
    ") \n",
    " AND      z0.rollup_date >= SYSDATE - 1 '''\n",
    "\n",
    "tool_r = SQL_DataFrame(sql3)"
   ]
  },
  {
   "cell_type": "markdown",
   "metadata": {},
   "source": [
    "tool_r['ATTRIBUTE_VALUE'] = tool_r['ATTRIBUTE_VALUE'].astype(int)\n",
    "tools = pd.pivot_table(tool_r, values = 'ATTRIBUTE_VALUE', index = ['REV_MODULE', 'CEID' ,'ENTITY'], columns = 'ATTRIBUTE_NAME')\n",
    "tools = tools.reset_index()\n",
    "tools.set_index(['ENTITY'], inplace = True)\n",
    "#tools[tools['ENTITY'] == 'LATXX']['REV_MODULE'].values[0]\n",
    "\n",
    "camp = os.getcwd()"
   ]
  },
  {
   "cell_type": "code",
   "execution_count": 6,
   "metadata": {},
   "outputs": [
    {
     "data": {
      "text/html": [
       "<div>\n",
       "<style scoped>\n",
       "    .dataframe tbody tr th:only-of-type {\n",
       "        vertical-align: middle;\n",
       "    }\n",
       "\n",
       "    .dataframe tbody tr th {\n",
       "        vertical-align: top;\n",
       "    }\n",
       "\n",
       "    .dataframe thead th {\n",
       "        text-align: right;\n",
       "    }\n",
       "</style>\n",
       "<table border=\"1\" class=\"dataframe\">\n",
       "  <thead>\n",
       "    <tr style=\"text-align: right;\">\n",
       "      <th></th>\n",
       "      <th>ENTITY</th>\n",
       "      <th>CHART_VALUE</th>\n",
       "      <th>LOT_DATA_COLLECT_DATE</th>\n",
       "      <th>MEASUREMENT_SET_NAME</th>\n",
       "      <th>MEAS_SET_DATA_COLLECT_DATE</th>\n",
       "      <th>MONITOR_TYPE</th>\n",
       "      <th>PARAMETER_CLASS</th>\n",
       "      <th>MONITOR_SET_NAME</th>\n",
       "      <th>LOTOPERKEY</th>\n",
       "      <th>INCONTROL_FLAG</th>\n",
       "      <th>CHART_PT_STANDARD_FLAG</th>\n",
       "      <th>CENTERLINE</th>\n",
       "      <th>LO_CONTROL_LMT</th>\n",
       "      <th>UP_CONTROL_LMT</th>\n",
       "      <th>CHART_TYPE</th>\n",
       "      <th>SPC_CHART_SUBSET</th>\n",
       "      <th>TEST_NAME</th>\n",
       "      <th>PARAMETER_HEADER</th>\n",
       "      <th>MODULE</th>\n",
       "    </tr>\n",
       "  </thead>\n",
       "  <tbody>\n",
       "    <tr>\n",
       "      <th>0</th>\n",
       "      <td>PAT414</td>\n",
       "      <td>27.750000</td>\n",
       "      <td>2022-01-31 13:19:33</td>\n",
       "      <td>LAT.DSA_PST.74.DER</td>\n",
       "      <td>2022-01-31 13:19:33</td>\n",
       "      <td>TOOL MONITOR</td>\n",
       "      <td>DEFECT_PARTICLE</td>\n",
       "      <td>LAT.DSA_PST.74.MON</td>\n",
       "      <td>3.577330e+09</td>\n",
       "      <td>Y</td>\n",
       "      <td>Y</td>\n",
       "      <td>50.0</td>\n",
       "      <td>0.0</td>\n",
       "      <td>100.0</td>\n",
       "      <td>X-BAR</td>\n",
       "      <td>PARTICLE_SIZE=TOTAL_ADDERS</td>\n",
       "      <td>4LATNTSSAL</td>\n",
       "      <td>PARTICLE_SIZE</td>\n",
       "      <td>LAT</td>\n",
       "    </tr>\n",
       "    <tr>\n",
       "      <th>1</th>\n",
       "      <td>PAT422</td>\n",
       "      <td>207.000000</td>\n",
       "      <td>2022-03-26 22:22:10</td>\n",
       "      <td>LAT.DSA_PST.74.DER</td>\n",
       "      <td>2022-03-26 22:22:10</td>\n",
       "      <td>TOOL MONITOR</td>\n",
       "      <td>DEFECT_PARTICLE</td>\n",
       "      <td>LAT.DSA_PST.74.MON</td>\n",
       "      <td>3.703076e+09</td>\n",
       "      <td>Y</td>\n",
       "      <td>Y</td>\n",
       "      <td>50.0</td>\n",
       "      <td>0.0</td>\n",
       "      <td>100.0</td>\n",
       "      <td>X-BAR</td>\n",
       "      <td>PARTICLE_SIZE=TOTAL_ADDERS</td>\n",
       "      <td>4LATNTSSAL</td>\n",
       "      <td>PARTICLE_SIZE</td>\n",
       "      <td>LAT</td>\n",
       "    </tr>\n",
       "    <tr>\n",
       "      <th>2</th>\n",
       "      <td>PAT466</td>\n",
       "      <td>6.000000</td>\n",
       "      <td>2022-03-28 03:12:36</td>\n",
       "      <td>LAT.DSA_PST.74.DER</td>\n",
       "      <td>2022-03-28 03:12:36</td>\n",
       "      <td>TOOL MONITOR</td>\n",
       "      <td>DEFECT_PARTICLE</td>\n",
       "      <td>LAT.DSA_PST.74.MON</td>\n",
       "      <td>3.707492e+09</td>\n",
       "      <td>Y</td>\n",
       "      <td>Y</td>\n",
       "      <td>50.0</td>\n",
       "      <td>0.0</td>\n",
       "      <td>100.0</td>\n",
       "      <td>X-BAR</td>\n",
       "      <td>PARTICLE_SIZE=TOTAL_ADDERS</td>\n",
       "      <td>4LATNTSSAL</td>\n",
       "      <td>PARTICLE_SIZE</td>\n",
       "      <td>LAT</td>\n",
       "    </tr>\n",
       "    <tr>\n",
       "      <th>3</th>\n",
       "      <td>PAT410_PM2</td>\n",
       "      <td>746.666667</td>\n",
       "      <td>2022-01-22 10:35:15</td>\n",
       "      <td>LAT.DSA_PST.74.DER</td>\n",
       "      <td>2022-01-22 10:35:15</td>\n",
       "      <td>TOOL MONITOR</td>\n",
       "      <td>DEFECT_PARTICLE</td>\n",
       "      <td>LAT.DSA_PST.74.MON</td>\n",
       "      <td>3.551330e+09</td>\n",
       "      <td>Y</td>\n",
       "      <td>Y</td>\n",
       "      <td>10.0</td>\n",
       "      <td>0.0</td>\n",
       "      <td>32.0</td>\n",
       "      <td>X-BAR</td>\n",
       "      <td>PARTICLE_SIZE=TOTAL_ADDERS</td>\n",
       "      <td>4LATNTSSOS</td>\n",
       "      <td>PARTICLE_SIZE</td>\n",
       "      <td>LAT</td>\n",
       "    </tr>\n",
       "    <tr>\n",
       "      <th>4</th>\n",
       "      <td>PAT466_PM2</td>\n",
       "      <td>43.666667</td>\n",
       "      <td>2022-01-21 19:39:36</td>\n",
       "      <td>LAT.DSA_PST.74.DER</td>\n",
       "      <td>2022-01-21 19:39:36</td>\n",
       "      <td>TOOL MONITOR</td>\n",
       "      <td>DEFECT_PARTICLE</td>\n",
       "      <td>LAT.DSA_PST.74.MON</td>\n",
       "      <td>3.557166e+09</td>\n",
       "      <td>Y</td>\n",
       "      <td>Y</td>\n",
       "      <td>10.0</td>\n",
       "      <td>0.0</td>\n",
       "      <td>32.0</td>\n",
       "      <td>X-BAR</td>\n",
       "      <td>PARTICLE_SIZE=TOTAL_ADDERS</td>\n",
       "      <td>4LATNTSSOS</td>\n",
       "      <td>PARTICLE_SIZE</td>\n",
       "      <td>LAT</td>\n",
       "    </tr>\n",
       "  </tbody>\n",
       "</table>\n",
       "</div>"
      ],
      "text/plain": [
       "       ENTITY  CHART_VALUE LOT_DATA_COLLECT_DATE MEASUREMENT_SET_NAME  \\\n",
       "0      PAT414    27.750000   2022-01-31 13:19:33   LAT.DSA_PST.74.DER   \n",
       "1      PAT422   207.000000   2022-03-26 22:22:10   LAT.DSA_PST.74.DER   \n",
       "2      PAT466     6.000000   2022-03-28 03:12:36   LAT.DSA_PST.74.DER   \n",
       "3  PAT410_PM2   746.666667   2022-01-22 10:35:15   LAT.DSA_PST.74.DER   \n",
       "4  PAT466_PM2    43.666667   2022-01-21 19:39:36   LAT.DSA_PST.74.DER   \n",
       "\n",
       "  MEAS_SET_DATA_COLLECT_DATE  MONITOR_TYPE  PARAMETER_CLASS  \\\n",
       "0        2022-01-31 13:19:33  TOOL MONITOR  DEFECT_PARTICLE   \n",
       "1        2022-03-26 22:22:10  TOOL MONITOR  DEFECT_PARTICLE   \n",
       "2        2022-03-28 03:12:36  TOOL MONITOR  DEFECT_PARTICLE   \n",
       "3        2022-01-22 10:35:15  TOOL MONITOR  DEFECT_PARTICLE   \n",
       "4        2022-01-21 19:39:36  TOOL MONITOR  DEFECT_PARTICLE   \n",
       "\n",
       "     MONITOR_SET_NAME    LOTOPERKEY INCONTROL_FLAG CHART_PT_STANDARD_FLAG  \\\n",
       "0  LAT.DSA_PST.74.MON  3.577330e+09              Y                      Y   \n",
       "1  LAT.DSA_PST.74.MON  3.703076e+09              Y                      Y   \n",
       "2  LAT.DSA_PST.74.MON  3.707492e+09              Y                      Y   \n",
       "3  LAT.DSA_PST.74.MON  3.551330e+09              Y                      Y   \n",
       "4  LAT.DSA_PST.74.MON  3.557166e+09              Y                      Y   \n",
       "\n",
       "   CENTERLINE  LO_CONTROL_LMT  UP_CONTROL_LMT CHART_TYPE  \\\n",
       "0        50.0             0.0           100.0      X-BAR   \n",
       "1        50.0             0.0           100.0      X-BAR   \n",
       "2        50.0             0.0           100.0      X-BAR   \n",
       "3        10.0             0.0            32.0      X-BAR   \n",
       "4        10.0             0.0            32.0      X-BAR   \n",
       "\n",
       "             SPC_CHART_SUBSET   TEST_NAME PARAMETER_HEADER MODULE  \n",
       "0  PARTICLE_SIZE=TOTAL_ADDERS  4LATNTSSAL    PARTICLE_SIZE    LAT  \n",
       "1  PARTICLE_SIZE=TOTAL_ADDERS  4LATNTSSAL    PARTICLE_SIZE    LAT  \n",
       "2  PARTICLE_SIZE=TOTAL_ADDERS  4LATNTSSAL    PARTICLE_SIZE    LAT  \n",
       "3  PARTICLE_SIZE=TOTAL_ADDERS  4LATNTSSOS    PARTICLE_SIZE    LAT  \n",
       "4  PARTICLE_SIZE=TOTAL_ADDERS  4LATNTSSOS    PARTICLE_SIZE    LAT  "
      ]
     },
     "execution_count": 6,
     "metadata": {},
     "output_type": "execute_result"
    }
   ],
   "source": [
    "ss.head()"
   ]
  },
  {
   "cell_type": "markdown",
   "metadata": {},
   "source": [
    "# DO NOT RUN THIS\n",
    "import glob\n",
    "sta=pd.DataFrame()\n",
    "#csvs = glob.glob('training_data/LAT*.csv')\n",
    "#for fnode in csvs:\n",
    "if 1==1:\n",
    "    dstr = fnode.split('.')[-2]\n",
    "    ss = SQL_DataFrame(sql)\n",
    "    entities = ss.ENTITY.unique()\n",
    "    for entity in entities:\n",
    "        #entity=entities[0]\n",
    "        try:\n",
    "            fname = tools.loc[entity]['REV_MODULE']+'.TA.'+entity+'.'+dstr\n",
    "        except:\n",
    "            fname = 'NONE.TA.'+entity+'.'+dstr\n",
    "        sst = ss[ss['ENTITY']==entity]\n",
    "        st = sst[sst['SPC_CHART_SUBSET'] == 'PARTICLE_SIZE=TOTAL_ADDERS']\n",
    "\n",
    "        st=st[['LOT_DATA_COLLECT_DATE', 'CHART_VALUE']]\n",
    "        st=st.rename(columns={'LOT_DATA_COLLECT_DATE': 't', 'CHART_VALUE': fname})\n",
    "        st.index = pd.to_datetime(st.t)\n",
    "        st.drop(['t'], axis=1, inplace = True)\n",
    "        st=st.sort_index()\n",
    "        st=st.resample('3D').mean()\n",
    "\n",
    "        st=st.interpolate(method='linear')\n",
    "        st=np.log(st+1)\n",
    "        st = st[len(st)-20:]\n",
    "        if len(st)<20: continue\n",
    "        \n",
    "        if 1==2: #don't plot\n",
    "            fig = plt.figure()\n",
    "            ax = fig.add_axes([0.1, 0.1, 0.8, 0.8])\n",
    "            #ax = plt.subplot(111)\n",
    "            ax.plot(st, 'o')\n",
    "            ax.set_xlabel('date')\n",
    "            ax.set_ylabel('TA')\n",
    "            ax.set_xticks(ax.get_xticks()[::3])\n",
    "            #plt.title('title')\n",
    "            ax.legend([entity+': '+dstr])\n",
    "            fig.savefig('figs/'+fname)\n",
    "            plt.close()\n",
    "            st = st.reset_index().T.drop('t')\n",
    "\n",
    "        st = st.reset_index().T.drop('t')\n",
    "        if sta.empty: sta=st\n",
    "        else: sta = sta.append(st)\n",
    "            \n"
   ]
  },
  {
   "cell_type": "markdown",
   "metadata": {},
   "source": [
    "    entities = ss.ENTITY.unique()\n",
    "    sta=pd.DataFrame()\n",
    "    for entity in entities:\n",
    "        #entity=entities[0]\n",
    "        try:\n",
    "            fname = tools.loc[entity]['REV_MODULE']+'.TA.'+entity+'.'+dstr\n",
    "        except:\n",
    "            fname = 'NONE.TA.'+entity+'.'+dstr\n",
    "        sst = ss[ss['ENTITY']==entity]\n",
    "        st = sst[sst['SPC_CHART_SUBSET'] == 'PARTICLE_SIZE=TOTAL_ADDERS']\n",
    "\n",
    "        st=st[['LOT_DATA_COLLECT_DATE', 'CHART_VALUE']]\n",
    "        st=st.rename(columns={'LOT_DATA_COLLECT_DATE': 't', 'CHART_VALUE': fname})\n",
    "        st.index = pd.to_datetime(st.t)\n",
    "        st.drop(['t'], axis=1, inplace = True)\n",
    "        st=st.sort_index()\n",
    "        st=st.resample('3D').mean()\n",
    "\n",
    "        st=st.interpolate(method='linear')\n",
    "        st=np.log(st+1)\n",
    "        st = st[len(st)-20:]\n",
    "        if len(st)<20: continue\n",
    "        \n",
    "        if 1==2: #don't plot\n",
    "            fig = plt.figure()\n",
    "            ax = fig.add_axes([0.1, 0.1, 0.8, 0.8])\n",
    "            #ax = plt.subplot(111)\n",
    "            ax.plot(st, 'o')\n",
    "            ax.set_xlabel('date')\n",
    "            ax.set_ylabel('TA')\n",
    "            ax.set_xticks(ax.get_xticks()[::3])\n",
    "            #plt.title('title')\n",
    "            ax.legend([entity+': '+dstr])\n",
    "            fig.savefig('figs/'+fname)\n",
    "            plt.close()\n",
    "            st = st.reset_index().T.drop('t')\n",
    "\n",
    "        st = st.reset_index().T.drop('t')\n",
    "        if sta.empty: sta=st\n",
    "        else: sta = sta.append(st)"
   ]
  },
  {
   "cell_type": "code",
   "execution_count": null,
   "metadata": {},
   "outputs": [],
   "source": [
    "import time\n",
    "\n",
    "start = time.time()\n",
    "sta=pd.DataFrame()\n",
    "st=[0]\n",
    "\n",
    "ssb = ss\n",
    "\n",
    "# snapdates = ['2021-04-14', '2021-03-31', '2021-03-17', '2021-01-21', '2020-12-23', '2020-11-24', '2020-10-18', \\\n",
    "#             '2020-09-20', '2020-08-23', '2020-07-21', '2020-06-23', '2020-05-25', '2020-04-22', '2020-03-25', \\\n",
    "#             '2020-02-25']\n",
    "\n",
    "#training_dates=pd.read_csv('training_data/training_dates.csv')\n",
    "#snapdates = training_dates[training_dates['Module'] == 'LAT']['Date']\n",
    "snapdates = [str(datetime.now())[:10]]\n",
    "\n",
    "# csvs = glob.glob('training_data/LAT*.csv')\n",
    "# csvs.reverse()\n",
    "\n",
    "#Get module/tool information\n",
    "# tool_r = SQL_DataFrame(sql2)\n",
    "# tool_r['ATTRIBUTE_VALUE'] = tool_r['ATTRIBUTE_VALUE'].astype(int)\n",
    "# tools = pd.pivot_table(tool_r, values = 'ATTRIBUTE_VALUE', index = ['REV_MODULE', 'CEID' ,'ENTITY'], columns = 'ATTRIBUTE_NAME')\n",
    "# tools = tools.reset_index()\n",
    "# tools.set_index(['ENTITY'], inplace = True)\n",
    "\n",
    "tools = SQL_DataFrame(sql3).rename(columns={'CONFIG_LEVEL_2': 'REV_MODULE'}).set_index('ENTITY')\n",
    "\n",
    "#Calculate module baselines\n",
    "taa = ssb[ssb['SPC_CHART_SUBSET'] == 'PARTICLE_SIZE=TOTAL_ADDERS']\n",
    "taa = pd.merge(taa, tools, on='ENTITY')\n",
    "taa=taa[['REV_MODULE', 'CHART_VALUE']]\n",
    "taa=taa.rename(columns={'REV_MODULE': 'module', 'CHART_VALUE': 'TA'})\n",
    "taac = taa[taa.groupby('module').TA.transform(lambda x: stats.zscore(x)<0.5)]\n",
    "baselines = taac.groupby('module').mean()\n",
    "\n",
    "#existing_dates = []\n",
    "\n",
    "for dstr in snapdates:\n",
    "    ss = get90d(ssb, dstr)\n",
    "    entities = ss.ENTITY.unique()\n",
    "    \n",
    "#     taa = ss[ss['SPC_CHART_SUBSET'] == 'PARTICLE_SIZE=TOTAL_ADDERS']\n",
    "#     taa = pd.merge(taa, tools, on='ENTITY')\n",
    "#     taa=taa[['REV_MODULE', 'CHART_VALUE']]\n",
    "#     taa=taa.rename(columns={'REV_MODULE': 'module', 'CHART_VALUE': 'TA'})\n",
    "#     taac = taa[taa.groupby('module').TA.transform(lambda x: stats.zscore(x)<0.5)]\n",
    "#     baselines = taac.groupby('module').mean()\n",
    "    \n",
    "    for entity in entities:\n",
    "        #if len(st)==20 : break\n",
    "            \n",
    "        #entity=entities[0]\n",
    "        try:\n",
    "            #tools.loc[entity].values[0]\n",
    "            fname = tools.loc[entity]['REV_MODULE']+'.TA.'+entity+'.'+dstr \n",
    "            if len(fname)==2: fname = fname.values[0]\n",
    "            baseline = baselines.loc[tools.loc[entity]['REV_MODULE']].values\n",
    "        except:\n",
    "            fname = 'NONE.TA.'+entity+'.'+dstr\n",
    "            baseline = baselines['TA'].mean()\n",
    "        sst = ss[ss['ENTITY']==entity]\n",
    "        st = sst[sst['SPC_CHART_SUBSET'] == 'PARTICLE_SIZE=TOTAL_ADDERS']\n",
    "\n",
    "        st=st[['LOT_DATA_COLLECT_DATE', 'CHART_VALUE']]\n",
    "        st=st.rename(columns={'LOT_DATA_COLLECT_DATE': 't', 'CHART_VALUE': fname})\n",
    "        st.index = pd.to_datetime(st.t)\n",
    "        st.drop(['t'], axis=1, inplace = True)\n",
    "        if len(st)<20: continue # need enough data to interpolate properly\n",
    "        st=st.sort_index()\n",
    "        st=st.resample('3D').mean()\n",
    "        try:\n",
    "            st=st.interpolate(method='spline', order=2)\n",
    "            st[st<0] = 0\n",
    "        except:\n",
    "            continue\n",
    "        #st=np.log(st+1)\n",
    "        st = st[len(st)-20:]\n",
    "        if len(st)<20: continue #sometimes data doesn't extend back 60 days\n",
    "        #print(fname+' len: ', len(st))\n",
    "        \n",
    "        st = st/baseline\n",
    "        \n",
    "        want_figs = False\n",
    "        if ((len(st)==20) & (st.mean() < np.inf)[0] & want_figs) : #do plot\n",
    "            # PLOT the smoothed data\n",
    "            fig = plt.figure()\n",
    "            ax = fig.add_axes([0.1, 0.1, 0.8, 0.8])\n",
    "            #ax = plt.subplot(111)\n",
    "            x = np.linspace(-len(st)+1,0,len(st)).reshape(-1,1)*3\n",
    "            ax.plot(x,st.values, 'o-')\n",
    "            ax.legend([entity+': '+dstr])\n",
    "            \n",
    "            # PLOT spline\n",
    "            try: \n",
    "                xn = np.linspace(x[0], x[-1], 100)\n",
    "                non_fliers = st.values.astype(float)<4\n",
    "                yp = st[non_fliers]\n",
    "                xp = x[non_fliers]\n",
    "                y_BSpline = interpolate.UnivariateSpline(xp,yp,s=20.)\n",
    "                yn = y_BSpline(xn)\n",
    "                ax.plot(xn, yn, '-')\n",
    "            except:\n",
    "                pass\n",
    "            \n",
    "            ax.set_xlabel('day')\n",
    "            ax.set_ylabel('TA')\n",
    "            ax.set_xticks([-60,-30,0])\n",
    "            plt.ylim([-0.1, 4])\n",
    "            \n",
    "            fig.savefig('figs/'+fname+'.png')\n",
    "            plt.close()\n",
    "            #break\n",
    "\n",
    "        #if len(st)==20 : break\n",
    "        st = st.reset_index().T.drop('t')\n",
    "        if sta.empty: sta=st\n",
    "        else: sta = sta.append(st)\n",
    "        #break\n",
    "    \n",
    "    #break\n",
    "\n",
    "print('seconds: ', time.time()-start)"
   ]
  },
  {
   "cell_type": "code",
   "execution_count": null,
   "metadata": {},
   "outputs": [],
   "source": [
    "sta"
   ]
  },
  {
   "cell_type": "code",
   "execution_count": null,
   "metadata": {},
   "outputs": [],
   "source": []
  },
  {
   "cell_type": "code",
   "execution_count": null,
   "metadata": {},
   "outputs": [],
   "source": [
    "sta.head()"
   ]
  },
  {
   "cell_type": "code",
   "execution_count": null,
   "metadata": {},
   "outputs": [],
   "source": []
  },
  {
   "cell_type": "code",
   "execution_count": null,
   "metadata": {},
   "outputs": [],
   "source": []
  },
  {
   "cell_type": "code",
   "execution_count": null,
   "metadata": {
    "scrolled": true
   },
   "outputs": [],
   "source": [
    "import keras\n",
    "from keras.models import load_model\n",
    "model = load_model('ss_trend_5LYRLSTM_20210426.h5')\n",
    "sta = sta.rename_axis('key')\n",
    "sta = sta.reset_index()\n",
    "y=sta.drop(['key'], axis=1).values\n",
    "pred = model.predict(y.reshape(-1,20,1))\n",
    "keys = pd.DataFrame(sta['key'])\n",
    "dkeys = keys\n",
    "dkeys['pred'] = pred\n",
    "dkeys = keys[pred>0.55]"
   ]
  },
  {
   "cell_type": "code",
   "execution_count": null,
   "metadata": {},
   "outputs": [],
   "source": [
    "import matplotlib.pyplot as plt\n",
    "%matplotlib inline\n",
    "\n",
    "dstr = str(datetime.now())[:10]\n",
    "\n",
    "for key in dkeys.key:\n",
    "    #plt.plot(sta[sta['key'] == key].drop(['key'], axis =1, inplace=True))\n",
    "    print(key)\n",
    "    st = sta[sta['key'] == key].drop(['key'], axis=1).T\n",
    "    #ta = np.exp(a.T.values.astype(float))-1\n",
    "#     st = a.T\n",
    "#     fig = plt.figure()\n",
    "#     ax = fig.add_axes([0.1, 0.1, 0.8, 0.8])\n",
    "#     ax.semilogy(np.arange(-59,0,3), ta,'o')\n",
    "#     ax.legend([key.replace('.', '  ')])\n",
    "#     ax.set_xlabel('days')\n",
    "#     ax.set_ylabel('TA')\n",
    "#     ax.set_xticks(ax.get_xticks()[::4])\n",
    "#     fig.savefig('output/'+key+'.png')\n",
    "#     plt.close()\n",
    "    \n",
    "   \n",
    "    fig = plt.figure()\n",
    "    ax = fig.add_axes([0.1, 0.1, 0.8, 0.8])\n",
    "    #ax = plt.subplot(111)\n",
    "    x = np.linspace(-len(st)+1,0,len(st)).reshape(-1,1)*3\n",
    "    ax.plot(x, st, 'o-')\n",
    "    \n",
    "    entity = key.split('.')[2]\n",
    "    predstr = str( round(dkeys[dkeys['key']==key]['pred'].values[0], 2))\n",
    "    ax.legend([entity+': '+dstr + ' ' + predstr])\n",
    "\n",
    "    # PLOT spline\n",
    "    try: \n",
    "        xn = np.linspace(x[0], x[-1], 100)\n",
    "        non_fliers = st.values.astype(float)<4\n",
    "        yp = st[non_fliers]\n",
    "        xp = x[non_fliers]\n",
    "        y_BSpline = interpolate.UnivariateSpline(xp,yp,s=20.)\n",
    "        yn = y_BSpline(xn)\n",
    "        ax.plot(xn, yn, '-')\n",
    "    except:\n",
    "        pass\n",
    "\n",
    "    ax.set_xlabel('day')\n",
    "    ax.set_ylabel('TA')\n",
    "    ax.set_xticks([-60,-30,0])\n",
    "    plt.ylim([-0.1, 4])\n",
    "\n",
    "    fig.savefig('//orshfs.intel.com/ORAnalysis$/1274_MAODATA/Etch/etch_flagger/LAT.SS.TRENDING/'+key+'.png')\n",
    "    plt.close()"
   ]
  },
  {
   "cell_type": "code",
   "execution_count": 8,
   "metadata": {},
   "outputs": [
    {
     "data": {
      "text/html": [
       "<div>\n",
       "<style scoped>\n",
       "    .dataframe tbody tr th:only-of-type {\n",
       "        vertical-align: middle;\n",
       "    }\n",
       "\n",
       "    .dataframe tbody tr th {\n",
       "        vertical-align: top;\n",
       "    }\n",
       "\n",
       "    .dataframe thead th {\n",
       "        text-align: right;\n",
       "    }\n",
       "</style>\n",
       "<table border=\"1\" class=\"dataframe\">\n",
       "  <thead>\n",
       "    <tr style=\"text-align: right;\">\n",
       "      <th></th>\n",
       "      <th>ENTITY</th>\n",
       "      <th>CHART_VALUE</th>\n",
       "      <th>LOT_DATA_COLLECT_DATE</th>\n",
       "      <th>MEASUREMENT_SET_NAME</th>\n",
       "      <th>MEAS_SET_DATA_COLLECT_DATE</th>\n",
       "      <th>MONITOR_TYPE</th>\n",
       "      <th>PARAMETER_CLASS</th>\n",
       "      <th>MONITOR_SET_NAME</th>\n",
       "      <th>LOTOPERKEY</th>\n",
       "      <th>INCONTROL_FLAG</th>\n",
       "      <th>CHART_PT_STANDARD_FLAG</th>\n",
       "      <th>CENTERLINE</th>\n",
       "      <th>LO_CONTROL_LMT</th>\n",
       "      <th>UP_CONTROL_LMT</th>\n",
       "      <th>CHART_TYPE</th>\n",
       "      <th>SPC_CHART_SUBSET</th>\n",
       "      <th>TEST_NAME</th>\n",
       "      <th>PARAMETER_HEADER</th>\n",
       "      <th>MODULE</th>\n",
       "    </tr>\n",
       "  </thead>\n",
       "  <tbody>\n",
       "    <tr>\n",
       "      <th>0</th>\n",
       "      <td>PAT414</td>\n",
       "      <td>27.750000</td>\n",
       "      <td>2022-01-31 13:19:33</td>\n",
       "      <td>LAT.DSA_PST.74.DER</td>\n",
       "      <td>2022-01-31 13:19:33</td>\n",
       "      <td>TOOL MONITOR</td>\n",
       "      <td>DEFECT_PARTICLE</td>\n",
       "      <td>LAT.DSA_PST.74.MON</td>\n",
       "      <td>3.577330e+09</td>\n",
       "      <td>Y</td>\n",
       "      <td>Y</td>\n",
       "      <td>50.0</td>\n",
       "      <td>0.0</td>\n",
       "      <td>100.0</td>\n",
       "      <td>X-BAR</td>\n",
       "      <td>PARTICLE_SIZE=TOTAL_ADDERS</td>\n",
       "      <td>4LATNTSSAL</td>\n",
       "      <td>PARTICLE_SIZE</td>\n",
       "      <td>LAT</td>\n",
       "    </tr>\n",
       "    <tr>\n",
       "      <th>1</th>\n",
       "      <td>PAT422</td>\n",
       "      <td>207.000000</td>\n",
       "      <td>2022-03-26 22:22:10</td>\n",
       "      <td>LAT.DSA_PST.74.DER</td>\n",
       "      <td>2022-03-26 22:22:10</td>\n",
       "      <td>TOOL MONITOR</td>\n",
       "      <td>DEFECT_PARTICLE</td>\n",
       "      <td>LAT.DSA_PST.74.MON</td>\n",
       "      <td>3.703076e+09</td>\n",
       "      <td>Y</td>\n",
       "      <td>Y</td>\n",
       "      <td>50.0</td>\n",
       "      <td>0.0</td>\n",
       "      <td>100.0</td>\n",
       "      <td>X-BAR</td>\n",
       "      <td>PARTICLE_SIZE=TOTAL_ADDERS</td>\n",
       "      <td>4LATNTSSAL</td>\n",
       "      <td>PARTICLE_SIZE</td>\n",
       "      <td>LAT</td>\n",
       "    </tr>\n",
       "    <tr>\n",
       "      <th>2</th>\n",
       "      <td>PAT466</td>\n",
       "      <td>6.000000</td>\n",
       "      <td>2022-03-28 03:12:36</td>\n",
       "      <td>LAT.DSA_PST.74.DER</td>\n",
       "      <td>2022-03-28 03:12:36</td>\n",
       "      <td>TOOL MONITOR</td>\n",
       "      <td>DEFECT_PARTICLE</td>\n",
       "      <td>LAT.DSA_PST.74.MON</td>\n",
       "      <td>3.707492e+09</td>\n",
       "      <td>Y</td>\n",
       "      <td>Y</td>\n",
       "      <td>50.0</td>\n",
       "      <td>0.0</td>\n",
       "      <td>100.0</td>\n",
       "      <td>X-BAR</td>\n",
       "      <td>PARTICLE_SIZE=TOTAL_ADDERS</td>\n",
       "      <td>4LATNTSSAL</td>\n",
       "      <td>PARTICLE_SIZE</td>\n",
       "      <td>LAT</td>\n",
       "    </tr>\n",
       "    <tr>\n",
       "      <th>3</th>\n",
       "      <td>PAT410_PM2</td>\n",
       "      <td>746.666667</td>\n",
       "      <td>2022-01-22 10:35:15</td>\n",
       "      <td>LAT.DSA_PST.74.DER</td>\n",
       "      <td>2022-01-22 10:35:15</td>\n",
       "      <td>TOOL MONITOR</td>\n",
       "      <td>DEFECT_PARTICLE</td>\n",
       "      <td>LAT.DSA_PST.74.MON</td>\n",
       "      <td>3.551330e+09</td>\n",
       "      <td>Y</td>\n",
       "      <td>Y</td>\n",
       "      <td>10.0</td>\n",
       "      <td>0.0</td>\n",
       "      <td>32.0</td>\n",
       "      <td>X-BAR</td>\n",
       "      <td>PARTICLE_SIZE=TOTAL_ADDERS</td>\n",
       "      <td>4LATNTSSOS</td>\n",
       "      <td>PARTICLE_SIZE</td>\n",
       "      <td>LAT</td>\n",
       "    </tr>\n",
       "    <tr>\n",
       "      <th>4</th>\n",
       "      <td>PAT466_PM2</td>\n",
       "      <td>43.666667</td>\n",
       "      <td>2022-01-21 19:39:36</td>\n",
       "      <td>LAT.DSA_PST.74.DER</td>\n",
       "      <td>2022-01-21 19:39:36</td>\n",
       "      <td>TOOL MONITOR</td>\n",
       "      <td>DEFECT_PARTICLE</td>\n",
       "      <td>LAT.DSA_PST.74.MON</td>\n",
       "      <td>3.557166e+09</td>\n",
       "      <td>Y</td>\n",
       "      <td>Y</td>\n",
       "      <td>10.0</td>\n",
       "      <td>0.0</td>\n",
       "      <td>32.0</td>\n",
       "      <td>X-BAR</td>\n",
       "      <td>PARTICLE_SIZE=TOTAL_ADDERS</td>\n",
       "      <td>4LATNTSSOS</td>\n",
       "      <td>PARTICLE_SIZE</td>\n",
       "      <td>LAT</td>\n",
       "    </tr>\n",
       "  </tbody>\n",
       "</table>\n",
       "</div>"
      ],
      "text/plain": [
       "       ENTITY  CHART_VALUE LOT_DATA_COLLECT_DATE MEASUREMENT_SET_NAME  \\\n",
       "0      PAT414    27.750000   2022-01-31 13:19:33   LAT.DSA_PST.74.DER   \n",
       "1      PAT422   207.000000   2022-03-26 22:22:10   LAT.DSA_PST.74.DER   \n",
       "2      PAT466     6.000000   2022-03-28 03:12:36   LAT.DSA_PST.74.DER   \n",
       "3  PAT410_PM2   746.666667   2022-01-22 10:35:15   LAT.DSA_PST.74.DER   \n",
       "4  PAT466_PM2    43.666667   2022-01-21 19:39:36   LAT.DSA_PST.74.DER   \n",
       "\n",
       "  MEAS_SET_DATA_COLLECT_DATE  MONITOR_TYPE  PARAMETER_CLASS  \\\n",
       "0        2022-01-31 13:19:33  TOOL MONITOR  DEFECT_PARTICLE   \n",
       "1        2022-03-26 22:22:10  TOOL MONITOR  DEFECT_PARTICLE   \n",
       "2        2022-03-28 03:12:36  TOOL MONITOR  DEFECT_PARTICLE   \n",
       "3        2022-01-22 10:35:15  TOOL MONITOR  DEFECT_PARTICLE   \n",
       "4        2022-01-21 19:39:36  TOOL MONITOR  DEFECT_PARTICLE   \n",
       "\n",
       "     MONITOR_SET_NAME    LOTOPERKEY INCONTROL_FLAG CHART_PT_STANDARD_FLAG  \\\n",
       "0  LAT.DSA_PST.74.MON  3.577330e+09              Y                      Y   \n",
       "1  LAT.DSA_PST.74.MON  3.703076e+09              Y                      Y   \n",
       "2  LAT.DSA_PST.74.MON  3.707492e+09              Y                      Y   \n",
       "3  LAT.DSA_PST.74.MON  3.551330e+09              Y                      Y   \n",
       "4  LAT.DSA_PST.74.MON  3.557166e+09              Y                      Y   \n",
       "\n",
       "   CENTERLINE  LO_CONTROL_LMT  UP_CONTROL_LMT CHART_TYPE  \\\n",
       "0        50.0             0.0           100.0      X-BAR   \n",
       "1        50.0             0.0           100.0      X-BAR   \n",
       "2        50.0             0.0           100.0      X-BAR   \n",
       "3        10.0             0.0            32.0      X-BAR   \n",
       "4        10.0             0.0            32.0      X-BAR   \n",
       "\n",
       "             SPC_CHART_SUBSET   TEST_NAME PARAMETER_HEADER MODULE  \n",
       "0  PARTICLE_SIZE=TOTAL_ADDERS  4LATNTSSAL    PARTICLE_SIZE    LAT  \n",
       "1  PARTICLE_SIZE=TOTAL_ADDERS  4LATNTSSAL    PARTICLE_SIZE    LAT  \n",
       "2  PARTICLE_SIZE=TOTAL_ADDERS  4LATNTSSAL    PARTICLE_SIZE    LAT  \n",
       "3  PARTICLE_SIZE=TOTAL_ADDERS  4LATNTSSOS    PARTICLE_SIZE    LAT  \n",
       "4  PARTICLE_SIZE=TOTAL_ADDERS  4LATNTSSOS    PARTICLE_SIZE    LAT  "
      ]
     },
     "execution_count": 8,
     "metadata": {},
     "output_type": "execute_result"
    }
   ],
   "source": [
    "ss.head()"
   ]
  },
  {
   "cell_type": "code",
   "execution_count": null,
   "metadata": {},
   "outputs": [],
   "source": [
    "baselines"
   ]
  },
  {
   "cell_type": "code",
   "execution_count": null,
   "metadata": {},
   "outputs": [],
   "source": [
    "y"
   ]
  },
  {
   "cell_type": "code",
   "execution_count": null,
   "metadata": {},
   "outputs": [],
   "source": [
    "pred = model.predict(y.reshape(-1,20,1))"
   ]
  },
  {
   "cell_type": "code",
   "execution_count": null,
   "metadata": {},
   "outputs": [],
   "source": [
    "np.sum(pred)"
   ]
  },
  {
   "cell_type": "code",
   "execution_count": null,
   "metadata": {},
   "outputs": [],
   "source": [
    "np.sum((pred>0.5)*1)"
   ]
  },
  {
   "cell_type": "code",
   "execution_count": null,
   "metadata": {},
   "outputs": [],
   "source": [
    "len(sta['key'])"
   ]
  },
  {
   "cell_type": "code",
   "execution_count": null,
   "metadata": {},
   "outputs": [],
   "source": [
    "len(pred>0.5)"
   ]
  },
  {
   "cell_type": "code",
   "execution_count": null,
   "metadata": {},
   "outputs": [],
   "source": []
  },
  {
   "cell_type": "code",
   "execution_count": null,
   "metadata": {},
   "outputs": [],
   "source": [
    "keys = pd.DataFrame(sta['key'])\n",
    "dkeys = keys\n",
    "dkeys['pred'] = pred\n",
    "dkeys = keys[pred>0.55]"
   ]
  },
  {
   "cell_type": "code",
   "execution_count": null,
   "metadata": {},
   "outputs": [],
   "source": [
    "dtools = dkeys.key.apply(lambda x: x.split('.')[2])"
   ]
  },
  {
   "cell_type": "code",
   "execution_count": null,
   "metadata": {},
   "outputs": [],
   "source": [
    "#dkeys.sort_values(by='key')\n",
    "len(dkeys)"
   ]
  },
  {
   "cell_type": "code",
   "execution_count": null,
   "metadata": {},
   "outputs": [],
   "source": [
    "dkeys"
   ]
  },
  {
   "cell_type": "code",
   "execution_count": null,
   "metadata": {},
   "outputs": [],
   "source": [
    "print(keys.key[0])\n",
    "print(len(dkeys.key))"
   ]
  },
  {
   "cell_type": "code",
   "execution_count": null,
   "metadata": {},
   "outputs": [],
   "source": [
    "import matplotlib.pyplot as plt\n",
    "%matplotlib inline"
   ]
  },
  {
   "cell_type": "code",
   "execution_count": null,
   "metadata": {},
   "outputs": [],
   "source": [
    "\n",
    "a = sta[sta['key'] == 'DE-LAT-TNC.TA.PAT464_PM4.2021-03-07'].drop(['key'], axis=1)"
   ]
  },
  {
   "cell_type": "code",
   "execution_count": null,
   "metadata": {},
   "outputs": [],
   "source": [
    "a"
   ]
  },
  {
   "cell_type": "code",
   "execution_count": null,
   "metadata": {},
   "outputs": [],
   "source": [
    "plt.plot(np.arange(20), a.T.values,'o')"
   ]
  },
  {
   "cell_type": "code",
   "execution_count": null,
   "metadata": {
    "scrolled": false
   },
   "outputs": [],
   "source": [
    "import matplotlib.pyplot as plt\n",
    "%matplotlib inline\n",
    "\n",
    "dstr = str(datetime.now())[:10]\n",
    "\n",
    "for key in dkeys.key:\n",
    "    #plt.plot(sta[sta['key'] == key].drop(['key'], axis =1, inplace=True))\n",
    "    print(key)\n",
    "    st = sta[sta['key'] == key].drop(['key'], axis=1).T\n",
    "    #ta = np.exp(a.T.values.astype(float))-1\n",
    "#     st = a.T\n",
    "#     fig = plt.figure()\n",
    "#     ax = fig.add_axes([0.1, 0.1, 0.8, 0.8])\n",
    "#     ax.semilogy(np.arange(-59,0,3), ta,'o')\n",
    "#     ax.legend([key.replace('.', '  ')])\n",
    "#     ax.set_xlabel('days')\n",
    "#     ax.set_ylabel('TA')\n",
    "#     ax.set_xticks(ax.get_xticks()[::4])\n",
    "#     fig.savefig('output/'+key+'.png')\n",
    "#     plt.close()\n",
    "    \n",
    "   \n",
    "    fig = plt.figure()\n",
    "    ax = fig.add_axes([0.1, 0.1, 0.8, 0.8])\n",
    "    #ax = plt.subplot(111)\n",
    "    x = np.linspace(-len(st)+1,0,len(st)).reshape(-1,1)*3\n",
    "    ax.plot(x, st, 'o-')\n",
    "    \n",
    "    entity = key.split('.')[2]\n",
    "    predstr = str( round(dkeys[dkeys['key']==key]['pred'].values[0], 2))\n",
    "    ax.legend([entity+': '+dstr + ' ' + predstr])\n",
    "\n",
    "    # PLOT spline\n",
    "    try: \n",
    "        xn = np.linspace(x[0], x[-1], 100)\n",
    "        non_fliers = st.values.astype(float)<4\n",
    "        yp = st[non_fliers]\n",
    "        xp = x[non_fliers]\n",
    "        y_BSpline = interpolate.UnivariateSpline(xp,yp,s=20.)\n",
    "        yn = y_BSpline(xn)\n",
    "        ax.plot(xn, yn, '-')\n",
    "    except:\n",
    "        pass\n",
    "\n",
    "    ax.set_xlabel('day')\n",
    "    ax.set_ylabel('TA')\n",
    "    ax.set_xticks([-60,-30,0])\n",
    "    plt.ylim([-0.1, 4])\n",
    "\n",
    "    fig.savefig('output/'+key+'.png')\n",
    "    plt.close()"
   ]
  },
  {
   "cell_type": "code",
   "execution_count": null,
   "metadata": {},
   "outputs": [],
   "source": [
    "#key = dkeys.key[0]\n",
    "round(dkeys[dkeys['key']==key]['pred'].values[0],2)"
   ]
  },
  {
   "cell_type": "code",
   "execution_count": null,
   "metadata": {
    "scrolled": true
   },
   "outputs": [],
   "source": [
    "a = sta[sta['key'] == 'DE-LAT.TA.LAT418_PM2.2021-03-07'].drop(['key'], axis=1)\n",
    "ta = np.exp(a.T.values.astype(float))-1\n",
    "fig = plt.figure()\n",
    "ax = fig.add_axes([0.1, 0.1, 0.8, 0.8])\n",
    "ax.semilogy(np.arange(20), ta,'o')\n"
   ]
  },
  {
   "cell_type": "code",
   "execution_count": null,
   "metadata": {},
   "outputs": [],
   "source": [
    "len(np.arange(-59,0,3))"
   ]
  },
  {
   "cell_type": "code",
   "execution_count": null,
   "metadata": {},
   "outputs": [],
   "source": [
    "a.T.values.astype(float)"
   ]
  },
  {
   "cell_type": "code",
   "execution_count": null,
   "metadata": {},
   "outputs": [],
   "source": [
    "dkeys.sort_values(by='key').key.values"
   ]
  },
  {
   "cell_type": "code",
   "execution_count": null,
   "metadata": {},
   "outputs": [],
   "source": [
    "from email.message import EmailMessage\n",
    "from email.utils import make_msgid\n",
    "import mimetypes\n",
    "\n",
    "msg = EmailMessage()\n",
    "\n",
    "# generic email headers\n",
    "msg['Subject'] = 'Hello there'\n",
    "msg['From'] = 'ABCD <abcd@xyz.com>'\n",
    "msg['To'] = 'PQRS <pqrs@xyz.com>'\n",
    "\n",
    "# set the plain text body\n",
    "msg.set_content('This is a plain text body.')\n",
    "\n",
    "# now create a Content-ID for the image\n",
    "image_cid = make_msgid(domain='xyz.com')\n",
    "# if `domain` argument isn't provided, it will \n",
    "# use your computer's name\n",
    "\n",
    "# set an alternative html body\n",
    "msg.add_alternative(\"\"\"\\\n",
    "<html>\n",
    "    <body>\n",
    "        <p>This is an HTML body.<br>\n",
    "           It also has an image.\n",
    "        </p>\n",
    "        <img src=\"cid:{image_cid}\">\n",
    "    </body>\n",
    "</html>\n",
    "\"\"\".format(image_cid=image_cid[1:-1]), subtype='html')\n",
    "# image_cid looks like <long.random.number@xyz.com>\n",
    "# to use it as the img src, we don't need `<` or `>`\n",
    "# so we use [1:-1] to strip them off\n",
    "\n",
    "\n",
    "# now open the image and attach it to the email\n",
    "with open('path/to/image.jpg', 'rb') as img:\n",
    "\n",
    "    # know the Content-Type of the image\n",
    "    maintype, subtype = mimetypes.guess_type(img.name)[0].split('/')\n",
    "\n",
    "    # attach it\n",
    "    msg.get_payload()[1].add_related(img.read(), \n",
    "                                         maintype=maintype, \n",
    "                                         subtype=subtype, \n",
    "                                         cid=image_cid)\n",
    "\n"
   ]
  },
  {
   "cell_type": "code",
   "execution_count": null,
   "metadata": {},
   "outputs": [],
   "source": []
  },
  {
   "cell_type": "code",
   "execution_count": null,
   "metadata": {},
   "outputs": [],
   "source": [
    "a = sta[sta['key'] == key].drop(['key'], axis=1)"
   ]
  },
  {
   "cell_type": "code",
   "execution_count": null,
   "metadata": {},
   "outputs": [],
   "source": [
    "st = a.T"
   ]
  },
  {
   "cell_type": "code",
   "execution_count": null,
   "metadata": {
    "scrolled": false
   },
   "outputs": [],
   "source": [
    "st"
   ]
  },
  {
   "cell_type": "code",
   "execution_count": null,
   "metadata": {},
   "outputs": [],
   "source": [
    "tools = tool_r\n",
    "tools.rename(columns={'CONFIG_LEVEL_2': 'REV_MODULE'}).set_index('ENTITY')\n",
    "#tools.set_index('ENTITY')"
   ]
  },
  {
   "cell_type": "code",
   "execution_count": null,
   "metadata": {},
   "outputs": [],
   "source": [
    "sta[sta['key'] == key]"
   ]
  },
  {
   "cell_type": "code",
   "execution_count": null,
   "metadata": {},
   "outputs": [],
   "source": [
    "key"
   ]
  },
  {
   "cell_type": "code",
   "execution_count": null,
   "metadata": {},
   "outputs": [],
   "source": [
    "st"
   ]
  },
  {
   "cell_type": "code",
   "execution_count": null,
   "metadata": {},
   "outputs": [],
   "source": [
    "        st = sst[sst['SPC_CHART_SUBSET'] == 'PARTICLE_SIZE=TOTAL_ADDERS']\n",
    "        st=st[['LOT_DATA_COLLECT_DATE', 'CHART_VALUE']]\n",
    "        #st=st.rename(columns={'LOT_DATA_COLLECT_DATE': 't', 'CHART_VALUE': fname})\n",
    "        #st.index = pd.to_datetime(st.t)"
   ]
  },
  {
   "cell_type": "code",
   "execution_count": null,
   "metadata": {},
   "outputs": [],
   "source": [
    "st.rename(columns={'LOT_DATA_COLLECT_DATE': 't', 'CHART_VALUE': fname})"
   ]
  },
  {
   "cell_type": "code",
   "execution_count": null,
   "metadata": {},
   "outputs": [],
   "source": [
    "fname"
   ]
  },
  {
   "cell_type": "code",
   "execution_count": null,
   "metadata": {},
   "outputs": [],
   "source": [
    "tools.loc['PAT410_PM2']"
   ]
  },
  {
   "cell_type": "code",
   "execution_count": null,
   "metadata": {},
   "outputs": [],
   "source": [
    "tools.loc['PAT410_PM2'].iloc[0]+'.TA.'+entity+'.'+dstr ##tools.loc[entity].values[0]"
   ]
  },
  {
   "cell_type": "code",
   "execution_count": null,
   "metadata": {},
   "outputs": [],
   "source": [
    "len(tools.loc['PAT410_PM2'])"
   ]
  },
  {
   "cell_type": "code",
   "execution_count": null,
   "metadata": {},
   "outputs": [],
   "source": [
    "fname = tools.loc['PAT410_PM2']['REV_MODULE']+'.TA.'+entity+'.'+dstr "
   ]
  },
  {
   "cell_type": "code",
   "execution_count": null,
   "metadata": {},
   "outputs": [],
   "source": [
    "fname"
   ]
  },
  {
   "cell_type": "code",
   "execution_count": null,
   "metadata": {},
   "outputs": [],
   "source": [
    "if len(fname)>1: fname = fname.values[0]\n",
    "\n",
    "fname"
   ]
  },
  {
   "cell_type": "code",
   "execution_count": null,
   "metadata": {},
   "outputs": [],
   "source": [
    "tools"
   ]
  },
  {
   "cell_type": "code",
   "execution_count": null,
   "metadata": {},
   "outputs": [],
   "source": [
    "fname"
   ]
  },
  {
   "cell_type": "code",
   "execution_count": null,
   "metadata": {},
   "outputs": [],
   "source": [
    "len(tools.loc['PAT410_PM2']['REV_MODULE']+'.TA.'+entity+'.'+dstr )"
   ]
  },
  {
   "cell_type": "code",
   "execution_count": null,
   "metadata": {},
   "outputs": [],
   "source": [
    "import lib"
   ]
  },
  {
   "cell_type": "code",
   "execution_count": null,
   "metadata": {},
   "outputs": [],
   "source": [
    "2+2"
   ]
  },
  {
   "cell_type": "code",
   "execution_count": null,
   "metadata": {},
   "outputs": [],
   "source": [
    "resample_20d(st)"
   ]
  },
  {
   "cell_type": "code",
   "execution_count": null,
   "metadata": {},
   "outputs": [],
   "source": [
    "import torch"
   ]
  },
  {
   "cell_type": "code",
   "execution_count": null,
   "metadata": {},
   "outputs": [],
   "source": [
    "a=torch.tensor([1,2,3])"
   ]
  },
  {
   "cell_type": "code",
   "execution_count": null,
   "metadata": {},
   "outputs": [],
   "source": [
    "a.dtype"
   ]
  },
  {
   "cell_type": "code",
   "execution_count": null,
   "metadata": {},
   "outputs": [],
   "source": [
    "a.tolist()"
   ]
  },
  {
   "cell_type": "code",
   "execution_count": null,
   "metadata": {},
   "outputs": [],
   "source": []
  }
 ],
 "metadata": {
  "kernelspec": {
   "display_name": "Python 3",
   "language": "python",
   "name": "python3"
  },
  "language_info": {
   "codemirror_mode": {
    "name": "ipython",
    "version": 3
   },
   "file_extension": ".py",
   "mimetype": "text/x-python",
   "name": "python",
   "nbconvert_exporter": "python",
   "pygments_lexer": "ipython3",
   "version": "3.6.12"
  }
 },
 "nbformat": 4,
 "nbformat_minor": 4
}
